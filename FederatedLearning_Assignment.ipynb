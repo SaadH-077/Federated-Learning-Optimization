{
 "cells": [
  {
   "cell_type": "markdown",
   "metadata": {
    "id": "w0Kx55PQTfgB"
   },
   "source": []
  },
  {
   "cell_type": "markdown",
   "metadata": {
    "id": "9vzkKZndK-7y"
   },
   "source": [
    "# Assignment 4\n",
    "\n",
    "The objective of this assignment is to introduce you to federated learning, with a particular focus on the challenges posed by data heterogeneity. Specifically, you will explore well-known approaches for addressing statistical heterogeneity, approaching the problem from multiple angles.\n",
    "\n",
    "You have been provided with a manual that includes detailed descriptions of each task. Follow the instructions in the manual carefully, and add your answers and implementations directly in this notebook.\n",
    "\n",
    "Note: In this assignment, we concentrate on one common type of statistical heterogeneity: label skew. While feature skew is another significant aspect of heterogeneity, it will not be the focus of this assignment."
   ]
  },
  {
   "cell_type": "code",
   "execution_count": 1,
   "metadata": {
    "id": "d5RdSHuTTWhU"
   },
   "outputs": [],
   "source": [
    "import os\n",
    "import torch\n",
    "from torchvision import datasets, transforms\n",
    "import pickle\n",
    "import matplotlib.pyplot as plt\n",
    "import numpy as np\n",
    "from torch.utils.data import Dataset, DataLoader, TensorDataset, random_split\n",
    "from collections import defaultdict\n",
    "import torch.nn as nn\n",
    "import torch.optim as optim\n",
    "import torch.nn.functional as F\n",
    "from tqdm import tqdm\n",
    "from torch.utils.data import Subset"
   ]
  },
  {
   "cell_type": "code",
   "execution_count": 2,
   "metadata": {
    "colab": {
     "base_uri": "https://localhost:8080/"
    },
    "id": "id4kAraZa3bv",
    "outputId": "64ab33c6-5e34-439b-b8e5-7f32f70f029f"
   },
   "outputs": [
    {
     "name": "stdout",
     "output_type": "stream",
     "text": [
      "Downloading http://yann.lecun.com/exdb/mnist/train-images-idx3-ubyte.gz\n",
      "Failed to download (trying next):\n",
      "HTTP Error 403: Forbidden\n",
      "\n",
      "Downloading https://ossci-datasets.s3.amazonaws.com/mnist/train-images-idx3-ubyte.gz\n",
      "Downloading https://ossci-datasets.s3.amazonaws.com/mnist/train-images-idx3-ubyte.gz to ./data\\MNIST\\raw\\train-images-idx3-ubyte.gz\n"
     ]
    },
    {
     "name": "stderr",
     "output_type": "stream",
     "text": [
      "100%|██████████| 9912422/9912422 [00:26<00:00, 380172.21it/s] \n"
     ]
    },
    {
     "name": "stdout",
     "output_type": "stream",
     "text": [
      "Extracting ./data\\MNIST\\raw\\train-images-idx3-ubyte.gz to ./data\\MNIST\\raw\n",
      "\n",
      "Downloading http://yann.lecun.com/exdb/mnist/train-labels-idx1-ubyte.gz\n",
      "Failed to download (trying next):\n",
      "HTTP Error 403: Forbidden\n",
      "\n",
      "Downloading https://ossci-datasets.s3.amazonaws.com/mnist/train-labels-idx1-ubyte.gz\n",
      "Downloading https://ossci-datasets.s3.amazonaws.com/mnist/train-labels-idx1-ubyte.gz to ./data\\MNIST\\raw\\train-labels-idx1-ubyte.gz\n"
     ]
    },
    {
     "name": "stderr",
     "output_type": "stream",
     "text": [
      "100%|██████████| 28881/28881 [00:00<00:00, 96264.51it/s]\n"
     ]
    },
    {
     "name": "stdout",
     "output_type": "stream",
     "text": [
      "Extracting ./data\\MNIST\\raw\\train-labels-idx1-ubyte.gz to ./data\\MNIST\\raw\n",
      "\n",
      "Downloading http://yann.lecun.com/exdb/mnist/t10k-images-idx3-ubyte.gz\n",
      "Failed to download (trying next):\n",
      "HTTP Error 403: Forbidden\n",
      "\n",
      "Downloading https://ossci-datasets.s3.amazonaws.com/mnist/t10k-images-idx3-ubyte.gz\n",
      "Downloading https://ossci-datasets.s3.amazonaws.com/mnist/t10k-images-idx3-ubyte.gz to ./data\\MNIST\\raw\\t10k-images-idx3-ubyte.gz\n"
     ]
    },
    {
     "name": "stderr",
     "output_type": "stream",
     "text": [
      "100%|██████████| 1648877/1648877 [00:01<00:00, 973824.93it/s]\n"
     ]
    },
    {
     "name": "stdout",
     "output_type": "stream",
     "text": [
      "Extracting ./data\\MNIST\\raw\\t10k-images-idx3-ubyte.gz to ./data\\MNIST\\raw\n",
      "\n",
      "Downloading http://yann.lecun.com/exdb/mnist/t10k-labels-idx1-ubyte.gz\n",
      "Failed to download (trying next):\n",
      "HTTP Error 403: Forbidden\n",
      "\n",
      "Downloading https://ossci-datasets.s3.amazonaws.com/mnist/t10k-labels-idx1-ubyte.gz\n",
      "Downloading https://ossci-datasets.s3.amazonaws.com/mnist/t10k-labels-idx1-ubyte.gz to ./data\\MNIST\\raw\\t10k-labels-idx1-ubyte.gz\n"
     ]
    },
    {
     "name": "stderr",
     "output_type": "stream",
     "text": [
      "100%|██████████| 4542/4542 [00:00<?, ?it/s]"
     ]
    },
    {
     "name": "stdout",
     "output_type": "stream",
     "text": [
      "Extracting ./data\\MNIST\\raw\\t10k-labels-idx1-ubyte.gz to ./data\\MNIST\\raw\n",
      "\n"
     ]
    },
    {
     "name": "stderr",
     "output_type": "stream",
     "text": [
      "\n"
     ]
    }
   ],
   "source": [
    "transform = transforms.Compose([\n",
    "    transforms.ToTensor(),\n",
    "])\n",
    "\n",
    "dataset = datasets.MNIST(root='./data', train=True, download=True, transform=transform)\n",
    "\n",
    "# Calculate sizes for training and testing datasets\n",
    "train_size = int(0.8 * len(dataset))\n",
    "test_size = len(dataset) - train_size\n",
    "\n",
    "# Define fixed indices for train and test splits\n",
    "train_indices = list(range(train_size))\n",
    "test_indices = list(range(train_size, len(dataset)))\n",
    "\n",
    "# Create Subsets based on these indices\n",
    "train_dataset = Subset(dataset, train_indices)\n",
    "test_dataset = Subset(dataset, test_indices)\n",
    "\n",
    "train_images = dataset.data[train_dataset.indices].numpy()\n",
    "train_labels = dataset.targets[train_dataset.indices].numpy()\n",
    "test_images = dataset.data[test_dataset.indices].numpy()\n",
    "test_labels = dataset.targets[test_dataset.indices].numpy()\n"
   ]
  },
  {
   "cell_type": "code",
   "execution_count": 3,
   "metadata": {
    "id": "rb72OE5iK-72"
   },
   "outputs": [],
   "source": [
    "def partition_data(train_data, train_targets, test_data, test_targets, num_clients, dirichlet_alpha=0.5, batch_size=32):\n",
    "    num_classes = len(np.unique(train_targets))\n",
    "    client_data_indices = defaultdict(list)\n",
    "    client_test_indices = defaultdict(list)\n",
    "\n",
    "    # Partition Train Data and Capture Proportions\n",
    "    client_proportions = []\n",
    "    for c in range(num_classes):\n",
    "        class_indices = np.where(train_targets == c)[0]\n",
    "        proportions = np.random.dirichlet([dirichlet_alpha] * num_clients)\n",
    "        client_proportions.append(proportions)\n",
    "\n",
    "        # Calculate split sizes and assign indices to each client\n",
    "        split_sizes = (np.cumsum(proportions) * len(class_indices)).astype(int)[:-1]\n",
    "        client_indices_split = np.split(class_indices, split_sizes)\n",
    "\n",
    "        for i, indices in enumerate(client_indices_split):\n",
    "            client_data_indices[i].extend(indices)\n",
    "\n",
    "    # Partition Test Data Using the Same Proportions as Train Data\n",
    "    for c, proportions in enumerate(client_proportions):\n",
    "        class_indices = np.where(test_targets == c)[0]\n",
    "        split_sizes = (np.cumsum(proportions) * len(class_indices)).astype(int)[:-1]\n",
    "        client_indices_split = np.split(class_indices, split_sizes)\n",
    "\n",
    "        for i, indices in enumerate(client_indices_split):\n",
    "            client_test_indices[i].extend(indices)\n",
    "\n",
    "    # Create Federated Loaders\n",
    "    federated_train_loaders, federated_test_loaders = [], []\n",
    "    for i in range(num_clients):\n",
    "        client_train_data = torch.tensor(train_data[client_data_indices[i]], dtype=torch.float32).unsqueeze(1)\n",
    "        client_train_targets = torch.tensor(train_targets[client_data_indices[i]], dtype=torch.long)\n",
    "        train_loader = DataLoader(TensorDataset(client_train_data, client_train_targets), batch_size=batch_size, shuffle=False, drop_last=False)\n",
    "        federated_train_loaders.append(train_loader)\n",
    "\n",
    "        client_test_data = torch.tensor(test_data[client_test_indices[i]], dtype=torch.float32).unsqueeze(1)\n",
    "        client_test_targets = torch.tensor(test_targets[client_test_indices[i]], dtype=torch.long)\n",
    "        test_loader = DataLoader(TensorDataset(client_test_data, client_test_targets), batch_size=batch_size, shuffle=False, drop_last=False)\n",
    "        federated_test_loaders.append(test_loader)\n",
    "\n",
    "    # Create Centralized Loader by combining data from federated loaders\n",
    "    centralized_data, centralized_targets = [], []\n",
    "    for train_loader in federated_train_loaders:\n",
    "        for images, targets in train_loader:\n",
    "            centralized_data.append(images)\n",
    "            centralized_targets.append(targets)\n",
    "\n",
    "    centralized_data = torch.cat(centralized_data)\n",
    "    centralized_targets = torch.cat(centralized_targets)\n",
    "    train_centralized_loader = DataLoader(TensorDataset(centralized_data, centralized_targets), batch_size=batch_size, shuffle=False, drop_last=False)\n",
    "\n",
    "    centralized_test_data = torch.tensor(test_data, dtype=torch.float32).unsqueeze(1)\n",
    "    centralized_test_targets = torch.tensor(test_targets, dtype=torch.long)\n",
    "    test_centralized_loader = DataLoader(TensorDataset(centralized_test_data, centralized_test_targets), batch_size=batch_size, shuffle=False)\n",
    "\n",
    "    return federated_train_loaders, federated_test_loaders, train_centralized_loader, test_centralized_loader\n"
   ]
  },
  {
   "cell_type": "code",
   "execution_count": 4,
   "metadata": {
    "id": "ygdrwc1kjJ87"
   },
   "outputs": [],
   "source": [
    "class SimpleCNN(nn.Module):\n",
    "    def __init__(self):\n",
    "        super(SimpleCNN, self).__init__()\n",
    "        self.conv1 = nn.Conv2d(1, 16, kernel_size=3, stride=1, padding=1)\n",
    "        self.conv2 = nn.Conv2d(16, 32, kernel_size=3, stride=1, padding=1)\n",
    "        self.fc1 = nn.Linear(32 * 7 * 7, 500)\n",
    "        self.fc2 = nn.Linear(500,10)\n",
    "        self.pool = nn.MaxPool2d(kernel_size=2, stride=2, padding=0)\n",
    "\n",
    "    def forward(self, x):\n",
    "        x = self.pool(F.relu(self.conv1(x)))\n",
    "        x = self.pool(F.relu(self.conv2(x)))\n",
    "        x = x.view(-1, 32 * 7 * 7)\n",
    "        x = F.relu(self.fc1(x))\n",
    "        x = self.fc2(x)\n",
    "        return x"
   ]
  },
  {
   "cell_type": "markdown",
   "metadata": {
    "id": "LESW3bG3Vd0m"
   },
   "source": [
    "# Task 1: Centralized Vs Federated Scenario"
   ]
  },
  {
   "cell_type": "markdown",
   "metadata": {
    "id": "wTi38iZ-K-73"
   },
   "source": [
    "In this task, you will analyze the theoretical equivalence between FedSGD and a centralized training scenario. The code for both implementations has been provided. To minimize differences caused by floating-point precision, a batch size of 1 is used, along with full-batch gradient descent. You may change the device to cpu if you wish, as gpu will not be utilized for batch size of 1.\n",
    "\n",
    "Since we are working with batch size 1 and full-batch gradient descent, accuracy is not the focus here. Instead, you will monitor gradient divergence by tracking the sum or magnitude of the gradients at each round and observe how they evolve in both settings.\n",
    "\n",
    "Theoretically, FedSGD and centralized training should yield equivalent results. However, in this task, you may observe discrepancies. Your objective is to understand the code and identify the error that causes this divergence. You may want to review why FedSGD and full-batch centralized gradient descent are theoretically equivalent by revisiting the gradient descent steps on the global objective, as covered in class. Finally, assess whether the code aligns with these theoretical steps. If you believe they should not be equivalent, provide a reasoned justification."
   ]
  },
  {
   "cell_type": "code",
   "execution_count": 5,
   "metadata": {
    "id": "BE1HLV2IK-73"
   },
   "outputs": [],
   "source": [
    "num_clients = 5\n",
    "dirichlet_alpha = 0.8\n",
    "batch_size = 1\n",
    "\n",
    "# Partition data and create loaders\n",
    "federated_train_loaders, federated_test_loaders, train_centralized_loader, test_centralized_loader = partition_data(\n",
    "    train_images / 255.0, train_labels, test_images / 255.0, test_labels, num_clients, dirichlet_alpha, batch_size\n",
    ")"
   ]
  },
  {
   "cell_type": "code",
   "execution_count": 6,
   "metadata": {
    "id": "bDOOZ9cwWNr_"
   },
   "outputs": [],
   "source": [
    "def fedsgd_training(global_model, train_loaders, num_clients, rounds, lr):\n",
    "    round_avg_updates = []\n",
    "\n",
    "    device = torch.device(\"cuda\" if torch.cuda.is_available() else \"cpu\")\n",
    "    global_model.to(device)\n",
    "    print(f\"Using device: {device}\")\n",
    "\n",
    "    client_data_counts = [len(train_loader.dataset) for train_loader in train_loaders]\n",
    "    total_data_count = 0\n",
    "    for count in client_data_counts:\n",
    "        total_data_count += count\n",
    "\n",
    "    for round_num in range(rounds):\n",
    "        client_updates = []\n",
    "        print(f\"Round {round_num + 1}/{rounds}\")\n",
    "\n",
    "        for client_id in range(num_clients):\n",
    "            overall_update = local_train(global_model, train_loaders[client_id], lr)\n",
    "            client_update_device = {name: update.to(device) for name, update in overall_update.items()}\n",
    "            client_updates.append(client_update_device)\n",
    "\n",
    "            client_update_sum = 0\n",
    "            for update in client_update_device.values():\n",
    "                client_update_sum += update.abs().sum().item()\n",
    "            print(f\"Client {client_id + 1} Update Sum at Round {round_num + 1}: {client_update_sum}\")\n",
    "\n",
    "        avg_update = {}\n",
    "        for name in global_model.state_dict():\n",
    "            grad_sum = torch.zeros_like(global_model.state_dict()[name], device=device)\n",
    "            for client_id in range(num_clients):\n",
    "                grad_sum += client_updates[client_id][name]\n",
    "            avg_update[name] = grad_sum\n",
    "\n",
    "        round_avg_updates.append(avg_update)\n",
    "\n",
    "        avg_update_sum = 0\n",
    "        for update in avg_update.values():\n",
    "            avg_update_sum += update.abs().sum().item()\n",
    "        print(f\"Averaged Update Sum at Round {round_num + 1}: {avg_update_sum}\")\n",
    "\n",
    "        with torch.no_grad():\n",
    "            for name, param in global_model.named_parameters():\n",
    "                param -= avg_update[name]\n",
    "\n",
    "    return round_avg_updates\n",
    "\n",
    "\n",
    "\n",
    "def local_train(model, train_loader, lr):\n",
    "    local_model = SimpleCNN()\n",
    "    local_model.load_state_dict(model.state_dict())\n",
    "    local_model.train()\n",
    "\n",
    "    optimizer = optim.SGD(local_model.parameters(), lr=lr)\n",
    "    criterion = nn.CrossEntropyLoss(reduction=\"sum\")\n",
    "\n",
    "    device = torch.device(\"cuda\" if torch.cuda.is_available() else \"cpu\")\n",
    "    local_model.to(device)\n",
    "\n",
    "    initial_weights = {name: param.clone() for name, param in local_model.named_parameters()}\n",
    "\n",
    "    for epoch in range(1):\n",
    "        print(f\"Epoch {epoch + 1}/{1} for local client\")\n",
    "        optimizer.zero_grad()\n",
    "        batch_iterator = tqdm(train_loader, desc=f\"Training Batches (Epoch {epoch + 1})\")\n",
    "\n",
    "        # Loop over batches\n",
    "        for x_train, y_train in batch_iterator:\n",
    "            x_train, y_train = x_train.to(device), y_train.to(device)\n",
    "            outputs = local_model(x_train)\n",
    "            loss = criterion(outputs, y_train)\n",
    "            loss.backward()\n",
    "            batch_iterator.set_postfix(loss=loss.item())\n",
    "\n",
    "        optimizer.step()\n",
    "\n",
    "    overall_update = {name: initial_weights[name] - param for name, param in local_model.named_parameters()}\n",
    "\n",
    "    return overall_update\n"
   ]
  },
  {
   "cell_type": "code",
   "execution_count": 7,
   "metadata": {
    "id": "-TFTDRziVBj9"
   },
   "outputs": [],
   "source": [
    "def centralized_training_updates(global_model, train_loader, epochs, lr):\n",
    "    centralized_model = SimpleCNN()\n",
    "    centralized_model.load_state_dict(global_model.state_dict())\n",
    "    centralized_model.train()\n",
    "\n",
    "    optimizer = optim.SGD(centralized_model.parameters(), lr=lr)\n",
    "    criterion = nn.CrossEntropyLoss(reduction=\"sum\")\n",
    "\n",
    "    device = torch.device(\"cuda\" if torch.cuda.is_available() else \"cpu\")\n",
    "    print(f\"Using device: {device}\")\n",
    "    centralized_model.to(device)\n",
    "\n",
    "    epoch_updates = []\n",
    "\n",
    "    for epoch in range(epochs):\n",
    "        print(f\"Epoch {epoch + 1}/{epochs}\")\n",
    "        epoch_initial_weights = {name: param.clone() for name, param in centralized_model.named_parameters()}\n",
    "        optimizer.zero_grad()\n",
    "        batch_iterator = tqdm(train_loader, desc=f\"Training Batches (Epoch {epoch + 1})\")\n",
    "\n",
    "        for x_train, y_train in batch_iterator:\n",
    "            x_train, y_train = x_train.to(device), y_train.to(device)\n",
    "            outputs = centralized_model(x_train)\n",
    "            loss = criterion(outputs, y_train)\n",
    "            loss.backward()\n",
    "\n",
    "            batch_iterator.set_postfix(loss=loss.item())\n",
    "\n",
    "        optimizer.step()\n",
    "\n",
    "        epoch_update = {name: param - epoch_initial_weights[name]  for name, param in centralized_model.named_parameters()}\n",
    "        epoch_updates.append(epoch_update)\n",
    "\n",
    "        epoch_update_sum = 0\n",
    "        for update in epoch_update.values():\n",
    "            epoch_update_sum += update.abs().sum().item()\n",
    "\n",
    "        print(f\"Epoch {epoch + 1} Update Sum: {epoch_update_sum}\")\n",
    "\n",
    "    global_model.load_state_dict(centralized_model.state_dict())\n",
    "\n",
    "    return epoch_updates\n"
   ]
  },
  {
   "cell_type": "code",
   "execution_count": 8,
   "metadata": {
    "id": "_knb-8et2-JX"
   },
   "outputs": [],
   "source": [
    "# Initialize model and parameters\n",
    "rounds = 4\n",
    "lr = 1e-4\n",
    "initial_model = SimpleCNN()"
   ]
  },
  {
   "cell_type": "code",
   "execution_count": 9,
   "metadata": {
    "id": "YLIlOCVhFlYm"
   },
   "outputs": [
    {
     "name": "stdout",
     "output_type": "stream",
     "text": [
      "Using device: cpu\n",
      "Epoch 1/4\n"
     ]
    },
    {
     "name": "stderr",
     "output_type": "stream",
     "text": [
      "Training Batches (Epoch 1): 100%|██████████| 48000/48000 [05:59<00:00, 133.64it/s, loss=2.3] \n"
     ]
    },
    {
     "name": "stdout",
     "output_type": "stream",
     "text": [
      "Epoch 1 Update Sum: 361.16362650692463\n",
      "Epoch 2/4\n"
     ]
    },
    {
     "name": "stderr",
     "output_type": "stream",
     "text": [
      "Training Batches (Epoch 2): 100%|██████████| 48000/48000 [05:45<00:00, 138.92it/s, loss=2.28]\n"
     ]
    },
    {
     "name": "stdout",
     "output_type": "stream",
     "text": [
      "Epoch 2 Update Sum: 518.4116387069225\n",
      "Epoch 3/4\n"
     ]
    },
    {
     "name": "stderr",
     "output_type": "stream",
     "text": [
      "Training Batches (Epoch 3): 100%|██████████| 48000/48000 [06:11<00:00, 129.27it/s, loss=1.31] \n"
     ]
    },
    {
     "name": "stdout",
     "output_type": "stream",
     "text": [
      "Epoch 3 Update Sum: 12382.257988452911\n",
      "Epoch 4/4\n"
     ]
    },
    {
     "name": "stderr",
     "output_type": "stream",
     "text": [
      "Training Batches (Epoch 4): 100%|██████████| 48000/48000 [06:38<00:00, 120.45it/s, loss=15.4] \n"
     ]
    },
    {
     "name": "stdout",
     "output_type": "stream",
     "text": [
      "Epoch 4 Update Sum: 5892.009508609772\n"
     ]
    }
   ],
   "source": [
    "# Centralized Training\n",
    "global_model_centralized = SimpleCNN()\n",
    "global_model_centralized.load_state_dict(initial_model.state_dict())\n",
    "centralized_updates = centralized_training_updates(global_model_centralized, train_centralized_loader, epochs=rounds, lr=lr)"
   ]
  },
  {
   "cell_type": "code",
   "execution_count": 10,
   "metadata": {
    "id": "8miFVteUm53o"
   },
   "outputs": [
    {
     "name": "stdout",
     "output_type": "stream",
     "text": [
      "Using device: cpu\n",
      "Round 1/4\n",
      "Epoch 1/1 for local client\n"
     ]
    },
    {
     "name": "stderr",
     "output_type": "stream",
     "text": [
      "Training Batches (Epoch 1): 100%|██████████| 11351/11351 [01:36<00:00, 117.32it/s, loss=2.32]\n"
     ]
    },
    {
     "name": "stdout",
     "output_type": "stream",
     "text": [
      "Client 1 Update Sum at Round 1: 271.61025105789304\n",
      "Epoch 1/1 for local client\n"
     ]
    },
    {
     "name": "stderr",
     "output_type": "stream",
     "text": [
      "Training Batches (Epoch 1): 100%|██████████| 7232/7232 [00:43<00:00, 164.78it/s, loss=2.3] \n"
     ]
    },
    {
     "name": "stdout",
     "output_type": "stream",
     "text": [
      "Client 2 Update Sum at Round 1: 220.19552221149206\n",
      "Epoch 1/1 for local client\n"
     ]
    },
    {
     "name": "stderr",
     "output_type": "stream",
     "text": [
      "Training Batches (Epoch 1): 100%|██████████| 7481/7481 [00:58<00:00, 128.28it/s, loss=2.29]\n"
     ]
    },
    {
     "name": "stdout",
     "output_type": "stream",
     "text": [
      "Client 3 Update Sum at Round 1: 129.1783144492656\n",
      "Epoch 1/1 for local client\n"
     ]
    },
    {
     "name": "stderr",
     "output_type": "stream",
     "text": [
      "Training Batches (Epoch 1): 100%|██████████| 12712/12712 [01:40<00:00, 126.55it/s, loss=2.3] \n"
     ]
    },
    {
     "name": "stdout",
     "output_type": "stream",
     "text": [
      "Client 4 Update Sum at Round 1: 208.40160490944982\n",
      "Epoch 1/1 for local client\n"
     ]
    },
    {
     "name": "stderr",
     "output_type": "stream",
     "text": [
      "Training Batches (Epoch 1): 100%|██████████| 9224/9224 [01:35<00:00, 96.67it/s, loss=2.3]  \n"
     ]
    },
    {
     "name": "stdout",
     "output_type": "stream",
     "text": [
      "Client 5 Update Sum at Round 1: 233.36191096901894\n",
      "Averaged Update Sum at Round 1: 361.1636245548725\n",
      "Round 2/4\n",
      "Epoch 1/1 for local client\n"
     ]
    },
    {
     "name": "stderr",
     "output_type": "stream",
     "text": [
      "Training Batches (Epoch 1): 100%|██████████| 11351/11351 [01:50<00:00, 102.55it/s, loss=2.31]\n"
     ]
    },
    {
     "name": "stdout",
     "output_type": "stream",
     "text": [
      "Client 1 Update Sum at Round 2: 330.93180897831917\n",
      "Epoch 1/1 for local client\n"
     ]
    },
    {
     "name": "stderr",
     "output_type": "stream",
     "text": [
      "Training Batches (Epoch 1): 100%|██████████| 7232/7232 [01:03<00:00, 113.65it/s, loss=2.24]\n"
     ]
    },
    {
     "name": "stdout",
     "output_type": "stream",
     "text": [
      "Client 2 Update Sum at Round 2: 266.5073793977499\n",
      "Epoch 1/1 for local client\n"
     ]
    },
    {
     "name": "stderr",
     "output_type": "stream",
     "text": [
      "Training Batches (Epoch 1): 100%|██████████| 7481/7481 [01:08<00:00, 109.57it/s, loss=2.27]\n"
     ]
    },
    {
     "name": "stdout",
     "output_type": "stream",
     "text": [
      "Client 3 Update Sum at Round 2: 184.18234157562256\n",
      "Epoch 1/1 for local client\n"
     ]
    },
    {
     "name": "stderr",
     "output_type": "stream",
     "text": [
      "Training Batches (Epoch 1): 100%|██████████| 12712/12712 [01:56<00:00, 109.27it/s, loss=2.32]\n"
     ]
    },
    {
     "name": "stdout",
     "output_type": "stream",
     "text": [
      "Client 4 Update Sum at Round 2: 302.36265659332275\n",
      "Epoch 1/1 for local client\n"
     ]
    },
    {
     "name": "stderr",
     "output_type": "stream",
     "text": [
      "Training Batches (Epoch 1): 100%|██████████| 9224/9224 [01:29<00:00, 103.05it/s, loss=2.28]\n"
     ]
    },
    {
     "name": "stdout",
     "output_type": "stream",
     "text": [
      "Client 5 Update Sum at Round 2: 304.233726605773\n",
      "Averaged Update Sum at Round 2: 518.4116913974285\n",
      "Round 3/4\n",
      "Epoch 1/1 for local client\n"
     ]
    },
    {
     "name": "stderr",
     "output_type": "stream",
     "text": [
      "Training Batches (Epoch 1): 100%|██████████| 11351/11351 [01:43<00:00, 109.49it/s, loss=1.4]  \n"
     ]
    },
    {
     "name": "stdout",
     "output_type": "stream",
     "text": [
      "Client 1 Update Sum at Round 3: 3860.5270822048187\n",
      "Epoch 1/1 for local client\n"
     ]
    },
    {
     "name": "stderr",
     "output_type": "stream",
     "text": [
      "Training Batches (Epoch 1): 100%|██████████| 7232/7232 [01:00<00:00, 120.38it/s, loss=1.11] \n"
     ]
    },
    {
     "name": "stdout",
     "output_type": "stream",
     "text": [
      "Client 2 Update Sum at Round 3: 2486.962942123413\n",
      "Epoch 1/1 for local client\n"
     ]
    },
    {
     "name": "stderr",
     "output_type": "stream",
     "text": [
      "Training Batches (Epoch 1): 100%|██████████| 7481/7481 [01:01<00:00, 122.24it/s, loss=1.18] \n"
     ]
    },
    {
     "name": "stdout",
     "output_type": "stream",
     "text": [
      "Client 3 Update Sum at Round 3: 1857.296802163124\n",
      "Epoch 1/1 for local client\n"
     ]
    },
    {
     "name": "stderr",
     "output_type": "stream",
     "text": [
      "Training Batches (Epoch 1): 100%|██████████| 12712/12712 [01:52<00:00, 112.77it/s, loss=1.43] \n"
     ]
    },
    {
     "name": "stdout",
     "output_type": "stream",
     "text": [
      "Client 4 Update Sum at Round 3: 2793.174048066139\n",
      "Epoch 1/1 for local client\n"
     ]
    },
    {
     "name": "stderr",
     "output_type": "stream",
     "text": [
      "Training Batches (Epoch 1): 100%|██████████| 9224/9224 [01:21<00:00, 113.72it/s, loss=1.31] \n"
     ]
    },
    {
     "name": "stdout",
     "output_type": "stream",
     "text": [
      "Client 5 Update Sum at Round 3: 2725.915157675743\n",
      "Averaged Update Sum at Round 3: 12382.233169078827\n",
      "Round 4/4\n",
      "Epoch 1/1 for local client\n"
     ]
    },
    {
     "name": "stderr",
     "output_type": "stream",
     "text": [
      "Training Batches (Epoch 1): 100%|██████████| 11351/11351 [01:45<00:00, 107.59it/s, loss=15.5]\n"
     ]
    },
    {
     "name": "stdout",
     "output_type": "stream",
     "text": [
      "Client 1 Update Sum at Round 4: 819.3638429641724\n",
      "Epoch 1/1 for local client\n"
     ]
    },
    {
     "name": "stderr",
     "output_type": "stream",
     "text": [
      "Training Batches (Epoch 1): 100%|██████████| 7232/7232 [01:02<00:00, 115.68it/s, loss=15.5]\n"
     ]
    },
    {
     "name": "stdout",
     "output_type": "stream",
     "text": [
      "Client 2 Update Sum at Round 4: 625.5670288801193\n",
      "Epoch 1/1 for local client\n"
     ]
    },
    {
     "name": "stderr",
     "output_type": "stream",
     "text": [
      "Training Batches (Epoch 1): 100%|██████████| 7481/7481 [01:06<00:00, 111.74it/s, loss=15.3] \n"
     ]
    },
    {
     "name": "stdout",
     "output_type": "stream",
     "text": [
      "Client 3 Update Sum at Round 4: 1099.6832308769226\n",
      "Epoch 1/1 for local client\n"
     ]
    },
    {
     "name": "stderr",
     "output_type": "stream",
     "text": [
      "Training Batches (Epoch 1): 100%|██████████| 12712/12712 [01:58<00:00, 107.31it/s, loss=15.6]\n"
     ]
    },
    {
     "name": "stdout",
     "output_type": "stream",
     "text": [
      "Client 4 Update Sum at Round 4: 2164.904526233673\n",
      "Epoch 1/1 for local client\n"
     ]
    },
    {
     "name": "stderr",
     "output_type": "stream",
     "text": [
      "Training Batches (Epoch 1): 100%|██████████| 9224/9224 [01:22<00:00, 112.13it/s, loss=15.4] \n"
     ]
    },
    {
     "name": "stdout",
     "output_type": "stream",
     "text": [
      "Client 5 Update Sum at Round 4: 1240.0074607133865\n",
      "Averaged Update Sum at Round 4: 5891.841641426086\n"
     ]
    }
   ],
   "source": [
    "# Fedsgd\n",
    "global_model_fedsgd = SimpleCNN()\n",
    "global_model_fedsgd.load_state_dict(initial_model.state_dict())\n",
    "fedsgd_avg_updates = fedsgd_training(global_model_fedsgd, federated_train_loaders, num_clients, rounds=rounds, lr=lr)"
   ]
  },
  {
   "cell_type": "code",
   "execution_count": 11,
   "metadata": {
    "id": "pEFk4VyQyuRL"
   },
   "outputs": [
    {
     "data": {
      "image/png": "[encoded data removed]",
      "text/plain": [
       "<Figure size 640x480 with 1 Axes>"
      ]
     },
     "metadata": {},
     "output_type": "display_data"
    },
    {
     "name": "stdout",
     "output_type": "stream",
     "text": [
      "Success! The gradients are approximately the same.\n"
     ]
    }
   ],
   "source": [
    "# Calculate update magnitudes for each round\n",
    "centralized_magnitudes = [sum(param.norm().item() for param in round_update.values()) for round_update in centralized_updates]\n",
    "fedsgd_magnitudes = [sum(param.norm().item() for param in update.values()) for update in fedsgd_avg_updates]\n",
    "\n",
    "# Plot update magnitudes\n",
    "x_labels = range(1, rounds + 1)\n",
    "width = 0.25\n",
    "\n",
    "plt.bar([x - width for x in x_labels], centralized_magnitudes, width=width, label=\"Centralized\")\n",
    "plt.bar(x_labels, fedsgd_magnitudes, width=width, label=\"FedSGD\")\n",
    "plt.xlabel(\"Round\")\n",
    "plt.ylabel(\"Average Update Magnitude\")\n",
    "plt.title(\"Update Magnitude Comparison Across Methods\")\n",
    "plt.legend()\n",
    "plt.show()\n",
    "\n",
    "# Check if the gradients are approximately the same\n",
    "tolerance = 1e-2\n",
    "success = all(abs(c - f) <= tolerance for c, f in zip(centralized_magnitudes, fedsgd_magnitudes))\n",
    "\n",
    "if success:\n",
    "    print(\"Success! The gradients are approximately the same.\")\n",
    "else:\n",
    "    print(\"Keep trying\")"
   ]
  },
  {
   "cell_type": "markdown",
   "metadata": {
    "id": "_rmP-fPOK-76"
   },
   "source": [
    "# Task 2: FedAvg"
   ]
  },
  {
   "cell_type": "markdown",
   "metadata": {
    "id": "K4M321ENK-76"
   },
   "source": [
    "Implement the fedavg_training function to perform Federated Averaging (FedAvg) over multiple communication rounds. Each round, collect updates from clients by training locally on their data and average these updates to form a new global model.\n",
    "\n",
    "Additionally, implement the local_train function to handle client-side training. You are not restricted to using full-batch gradient descent; feel free to use mini-batch gradient descent instead. Make sure your implementation aligns with the provided code to plot the accuracies, as you should not modify that code."
   ]
  },
  {
   "cell_type": "code",
   "execution_count": 5,
   "metadata": {
    "id": "fWYEwmFvK-76"
   },
   "outputs": [],
   "source": [
    "def evaluate_model(global_model, test_loaders):\n",
    "    global_model.eval()\n",
    "    device = torch.device(\"cuda\" if torch.cuda.is_available() else \"cpu\")\n",
    "    global_model.to(device)\n",
    "\n",
    "    client_accuracies = []\n",
    "    total_correct, total_samples = 0, 0\n",
    "\n",
    "    with torch.no_grad():\n",
    "        for client_id, test_loader in enumerate(test_loaders):\n",
    "            client_correct, client_total = 0, 0\n",
    "            print(f\"\\nEvaluating Client {client_id}\")\n",
    "\n",
    "            for images, labels in test_loader:\n",
    "                images, labels = images.to(device), labels.to(device)\n",
    "                outputs = global_model(images)\n",
    "                _, predicted = torch.max(outputs, 1)\n",
    "\n",
    "                client_correct += (predicted == labels).sum().item()\n",
    "                client_total += labels.size(0)\n",
    "\n",
    "            client_accuracy = (client_correct / client_total) * 100\n",
    "            client_accuracies.append(client_accuracy)\n",
    "\n",
    "            print(f\"Client {client_id} Accuracy: {client_accuracy:.2f}%\")\n",
    "\n",
    "            total_correct += client_correct\n",
    "            total_samples += client_total\n",
    "\n",
    "    total_accuracy = (total_correct / total_samples) * 100\n",
    "    print(f\"Total Accuracy: {total_accuracy:.2f}%\")\n",
    "    return client_accuracies, total_accuracy\n",
    "\n"
   ]
  },
  {
   "cell_type": "code",
   "execution_count": null,
   "metadata": {
    "id": "1Q6GX8OvK-76"
   },
   "outputs": [],
   "source": [
    "def fedavg_training(global_model, train_loaders, num_clients, rounds, epochs, lr, test_loaders):\n",
    "    device = torch.device(\"cuda\" if torch.cuda.is_available() else \"cpu\")\n",
    "    global_model.to(device)\n",
    "\n",
    "    # Store average updates and accuracies for each round\n",
    "    round_avg_updates = []\n",
    "    round_accuracies = []\n",
    "\n",
    "    for round_num in range(rounds):\n",
    "        print(f\"\\nRound {round_num + 1}/{rounds}\")\n",
    "        client_updates = []\n",
    "\n",
    "        # Send the global model to all clients for local training\n",
    "        for client_id, train_loader in enumerate(train_loaders):\n",
    "            print(f\"Training on Client {client_id}\")\n",
    "\n",
    "            # Clone the global model for local training\n",
    "            local_model = SimpleCNN()\n",
    "            local_model.load_state_dict(global_model.state_dict())\n",
    "\n",
    "            # Perform local training\n",
    "            client_update = local_train(local_model, train_loader, epochs, lr)\n",
    "\n",
    "            # Collect the client's update\n",
    "            client_updates.append(client_update)\n",
    "\n",
    "        # Average client updates to update the global model\n",
    "        global_update = {name: torch.zeros_like(param) for name, param in global_model.state_dict().items()}\n",
    "        for client_update in client_updates:\n",
    "            for name, update in client_update.items():\n",
    "                global_update[name] += update / num_clients\n",
    "\n",
    "        # Apply the averaged updates to the global model\n",
    "        updated_state_dict = global_model.state_dict()\n",
    "        for name, param in updated_state_dict.items():\n",
    "            updated_state_dict[name] += global_update[name]\n",
    "        global_model.load_state_dict(updated_state_dict)\n",
    "\n",
    "        # Store average updates for analysis\n",
    "        round_avg_updates.append(global_update)\n",
    "\n",
    "        # Evaluate the global model after this round\n",
    "        _, total_accuracy = evaluate_model(global_model, test_loaders)\n",
    "        round_accuracies.append(total_accuracy)\n",
    "\n",
    "    return round_avg_updates, round_accuracies\n",
    "\n",
    "\n",
    "def local_train(model, train_loader, epochs, lr):\n",
    "    # Move the model to the appropriate device\n",
    "    device = torch.device(\"cuda\" if torch.cuda.is_available() else \"cpu\")\n",
    "    model.to(device)\n",
    "\n",
    "    # Set the model to training mode\n",
    "    model.train()\n",
    "\n",
    "    # Initialize optimizer and loss function\n",
    "    optimizer = optim.SGD(model.parameters(), lr=lr)\n",
    "    criterion = nn.CrossEntropyLoss()\n",
    "\n",
    "    # Initialize overall parameter updates as zeros\n",
    "    initial_params = {name: param.clone() for name, param in model.state_dict().items()}\n",
    "    overall_update = {name: torch.zeros_like(param) for name, param in model.state_dict().items()}\n",
    "\n",
    "    # Perform local training\n",
    "    for epoch in range(epochs):\n",
    "        for images, labels in train_loader:\n",
    "            images, labels = images.to(device), labels.to(device)\n",
    "\n",
    "            # Forward pass\n",
    "            outputs = model(images)\n",
    "            loss = criterion(outputs, labels)\n",
    "\n",
    "            # Backward pass\n",
    "            optimizer.zero_grad()\n",
    "            loss.backward()\n",
    "            optimizer.step()\n",
    "\n",
    "    # Compute the overall parameter updates\n",
    "    for name, param in model.state_dict().items():\n",
    "        overall_update[name] = param - initial_params[name]\n",
    "\n",
    "    return overall_update"
   ]
  },
  {
   "cell_type": "markdown",
   "metadata": {
    "id": "Q07o3ZQvK-77"
   },
   "source": [
    "In the following code you may change the learning rate or the batch size"
   ]
  },
  {
   "cell_type": "code",
   "execution_count": null,
   "metadata": {
    "colab": {
     "base_uri": "https://localhost:8080/"
    },
    "id": "gMiV_ZN5m9hn",
    "outputId": "9b4cd273-548e-414b-816d-9978bd57140d"
   },
   "outputs": [
    {
     "name": "stdout",
     "output_type": "stream",
     "text": [
      "\n",
      "Round 1/3\n",
      "Training on Client 0\n",
      "Training on Client 1\n",
      "Training on Client 2\n",
      "Training on Client 3\n",
      "Training on Client 4\n",
      "\n",
      "Evaluating Client 0\n",
      "Client 0 Accuracy: 38.77%\n",
      "\n",
      "Evaluating Client 1\n",
      "Client 1 Accuracy: 34.66%\n",
      "\n",
      "Evaluating Client 2\n",
      "Client 2 Accuracy: 39.94%\n",
      "\n",
      "Evaluating Client 3\n",
      "Client 3 Accuracy: 39.67%\n",
      "\n",
      "Evaluating Client 4\n",
      "Client 4 Accuracy: 34.80%\n",
      "Total Accuracy: 37.81%\n",
      "\n",
      "Round 2/3\n",
      "Training on Client 0\n",
      "Training on Client 1\n",
      "Training on Client 2\n",
      "Training on Client 3\n",
      "Training on Client 4\n",
      "\n",
      "Evaluating Client 0\n",
      "Client 0 Accuracy: 60.01%\n",
      "\n",
      "Evaluating Client 1\n",
      "Client 1 Accuracy: 56.86%\n",
      "\n",
      "Evaluating Client 2\n",
      "Client 2 Accuracy: 58.13%\n",
      "\n",
      "Evaluating Client 3\n",
      "Client 3 Accuracy: 57.32%\n",
      "\n",
      "Evaluating Client 4\n",
      "Client 4 Accuracy: 48.48%\n",
      "Total Accuracy: 56.25%\n",
      "\n",
      "Round 3/3\n",
      "Training on Client 0\n",
      "Training on Client 1\n",
      "Training on Client 2\n",
      "Training on Client 3\n",
      "Training on Client 4\n",
      "\n",
      "Evaluating Client 0\n",
      "Client 0 Accuracy: 61.58%\n",
      "\n",
      "Evaluating Client 1\n",
      "Client 1 Accuracy: 59.12%\n",
      "\n",
      "Evaluating Client 2\n",
      "Client 2 Accuracy: 60.83%\n",
      "\n",
      "Evaluating Client 3\n",
      "Client 3 Accuracy: 58.74%\n",
      "\n",
      "Evaluating Client 4\n",
      "Client 4 Accuracy: 55.21%\n",
      "Total Accuracy: 59.13%\n",
      "\n",
      "Round 1/3\n",
      "Training on Client 0\n",
      "Training on Client 1\n",
      "Training on Client 2\n",
      "Training on Client 3\n",
      "Training on Client 4\n",
      "\n",
      "Evaluating Client 0\n",
      "Client 0 Accuracy: 19.87%\n",
      "\n",
      "Evaluating Client 1\n",
      "Client 1 Accuracy: 4.21%\n",
      "\n",
      "Evaluating Client 2\n",
      "Client 2 Accuracy: 7.27%\n",
      "\n",
      "Evaluating Client 3\n",
      "Client 3 Accuracy: 17.04%\n",
      "\n",
      "Evaluating Client 4\n",
      "Client 4 Accuracy: 2.61%\n",
      "Total Accuracy: 9.56%\n",
      "\n",
      "Round 2/3\n",
      "Training on Client 0\n",
      "Training on Client 1\n",
      "Training on Client 2\n",
      "Training on Client 3\n",
      "Training on Client 4\n",
      "\n",
      "Evaluating Client 0\n",
      "Client 0 Accuracy: 28.30%\n",
      "\n",
      "Evaluating Client 1\n",
      "Client 1 Accuracy: 10.38%\n",
      "\n",
      "Evaluating Client 2\n",
      "Client 2 Accuracy: 20.97%\n",
      "\n",
      "Evaluating Client 3\n",
      "Client 3 Accuracy: 25.62%\n",
      "\n",
      "Evaluating Client 4\n",
      "Client 4 Accuracy: 16.67%\n",
      "Total Accuracy: 20.08%\n",
      "\n",
      "Round 3/3\n",
      "Training on Client 0\n",
      "Training on Client 1\n",
      "Training on Client 2\n",
      "Training on Client 3\n",
      "Training on Client 4\n",
      "\n",
      "Evaluating Client 0\n",
      "Client 0 Accuracy: 75.25%\n",
      "\n",
      "Evaluating Client 1\n",
      "Client 1 Accuracy: 54.97%\n",
      "\n",
      "Evaluating Client 2\n",
      "Client 2 Accuracy: 49.92%\n",
      "\n",
      "Evaluating Client 3\n",
      "Client 3 Accuracy: 69.78%\n",
      "\n",
      "Evaluating Client 4\n",
      "Client 4 Accuracy: 55.35%\n",
      "Total Accuracy: 60.23%\n",
      "\n",
      "Round 1/3\n",
      "Training on Client 0\n",
      "Training on Client 1\n",
      "Training on Client 2\n",
      "Training on Client 3\n",
      "Training on Client 4\n",
      "\n",
      "Evaluating Client 0\n",
      "Client 0 Accuracy: 3.67%\n",
      "\n",
      "Evaluating Client 1\n",
      "Client 1 Accuracy: 0.00%\n",
      "\n",
      "Evaluating Client 2\n",
      "Client 2 Accuracy: 17.16%\n",
      "\n",
      "Evaluating Client 3\n",
      "Client 3 Accuracy: 16.50%\n",
      "\n",
      "Evaluating Client 4\n",
      "Client 4 Accuracy: 16.92%\n",
      "Total Accuracy: 15.43%\n",
      "\n",
      "Round 2/3\n",
      "Training on Client 0\n",
      "Training on Client 1\n",
      "Training on Client 2\n",
      "Training on Client 3\n",
      "Training on Client 4\n",
      "\n",
      "Evaluating Client 0\n",
      "Client 0 Accuracy: 39.25%\n",
      "\n",
      "Evaluating Client 1\n",
      "Client 1 Accuracy: 46.15%\n",
      "\n",
      "Evaluating Client 2\n",
      "Client 2 Accuracy: 17.43%\n",
      "\n",
      "Evaluating Client 3\n",
      "Client 3 Accuracy: 10.49%\n",
      "\n",
      "Evaluating Client 4\n",
      "Client 4 Accuracy: 46.72%\n",
      "Total Accuracy: 29.68%\n",
      "\n",
      "Round 3/3\n",
      "Training on Client 0\n",
      "Training on Client 1\n",
      "Training on Client 2\n",
      "Training on Client 3\n",
      "Training on Client 4\n",
      "\n",
      "Evaluating Client 0\n",
      "Client 0 Accuracy: 48.48%\n",
      "\n",
      "Evaluating Client 1\n",
      "Client 1 Accuracy: 64.10%\n",
      "\n",
      "Evaluating Client 2\n",
      "Client 2 Accuracy: 23.03%\n",
      "\n",
      "Evaluating Client 3\n",
      "Client 3 Accuracy: 12.69%\n",
      "\n",
      "Evaluating Client 4\n",
      "Client 4 Accuracy: 61.90%\n",
      "Total Accuracy: 38.77%\n"
     ]
    }
   ],
   "source": [
    "# Parameters\n",
    "num_clients = 5\n",
    "batch_size = 128\n",
    "rounds = 3\n",
    "epochs = 20\n",
    "lr = 0.001\n",
    "dirichlet_alphas = [2, 0.5, 0.1]\n",
    "\n",
    "def run_fedavg(alpha):\n",
    "    train_loaders, test_loaders,_,_ = partition_data(train_images / 255, train_labels, test_images / 255, test_labels, num_clients, alpha, batch_size)\n",
    "    global_model_fedavg = SimpleCNN()\n",
    "    _, round_accuracies = fedavg_training(global_model_fedavg, train_loaders, num_clients, rounds=rounds, epochs=epochs, lr=lr, test_loaders=test_loaders)\n",
    "    return round_accuracies\n",
    "\n",
    "accuracies_per_alpha = []\n",
    "\n",
    "for alpha in dirichlet_alphas:\n",
    "    round_accuracies = run_fedavg(alpha)\n",
    "    accuracies_per_alpha.append(round_accuracies)\n"
   ]
  },
  {
   "cell_type": "code",
   "execution_count": null,
   "metadata": {
    "colab": {
     "base_uri": "https://localhost:8080/",
     "height": 472
    },
    "id": "PzR4MTWlK-77",
    "outputId": "41d9ad3d-9c17-4f08-b929-58d90a4229a8"
   },
   "outputs": [
    {
     "data": {
      "image/png": "[encoded data removed]",
      "text/plain": [
       "<Figure size 640x480 with 1 Axes>"
      ]
     },
     "metadata": {},
     "output_type": "display_data"
    }
   ],
   "source": [
    "# Plotting accuracy per round for each alpha value\n",
    "plt.figure()\n",
    "for idx, alpha in enumerate(dirichlet_alphas):\n",
    "    plt.plot(range(1, rounds + 1), accuracies_per_alpha[idx], marker='o', label=f'Alpha = {alpha}')\n",
    "\n",
    "plt.xlabel('Rounds')\n",
    "plt.ylabel('Accuracy (%)')\n",
    "plt.legend()\n",
    "plt.title('FedAvg Accuracy per Round across Different Dirichlet Alphas')\n",
    "plt.show()"
   ]
  },
  {
   "cell_type": "markdown",
   "metadata": {
    "id": "v8o33MOneGM2"
   },
   "source": [
    "### Further Exploring Effect of Label Skew"
   ]
  },
  {
   "cell_type": "code",
   "execution_count": null,
   "metadata": {
    "colab": {
     "base_uri": "https://localhost:8080/"
    },
    "id": "LVkxTf4ueF6t",
    "outputId": "cd83c9c6-8611-4a94-eb96-be07ffdac1a7"
   },
   "outputs": [
    {
     "name": "stdout",
     "output_type": "stream",
     "text": [
      "\n",
      "Round 1/3\n",
      "Training on Client 0\n",
      "Training on Client 1\n",
      "Training on Client 2\n",
      "Training on Client 3\n",
      "Training on Client 4\n",
      "\n",
      "Evaluating Client 0\n",
      "Client 0 Accuracy: 33.00%\n",
      "\n",
      "Evaluating Client 1\n",
      "Client 1 Accuracy: 17.45%\n",
      "\n",
      "Evaluating Client 2\n",
      "Client 2 Accuracy: 36.43%\n",
      "\n",
      "Evaluating Client 3\n",
      "Client 3 Accuracy: 14.99%\n",
      "\n",
      "Evaluating Client 4\n",
      "Client 4 Accuracy: 28.87%\n",
      "Total Accuracy: 24.88%\n",
      "\n",
      "Round 2/3\n",
      "Training on Client 0\n",
      "Training on Client 1\n",
      "Training on Client 2\n",
      "Training on Client 3\n",
      "Training on Client 4\n",
      "\n",
      "Evaluating Client 0\n",
      "Client 0 Accuracy: 52.56%\n",
      "\n",
      "Evaluating Client 1\n",
      "Client 1 Accuracy: 46.87%\n",
      "\n",
      "Evaluating Client 2\n",
      "Client 2 Accuracy: 60.38%\n",
      "\n",
      "Evaluating Client 3\n",
      "Client 3 Accuracy: 37.78%\n",
      "\n",
      "Evaluating Client 4\n",
      "Client 4 Accuracy: 53.19%\n",
      "Total Accuracy: 49.53%\n",
      "\n",
      "Round 3/3\n",
      "Training on Client 0\n",
      "Training on Client 1\n",
      "Training on Client 2\n",
      "Training on Client 3\n",
      "Training on Client 4\n",
      "\n",
      "Evaluating Client 0\n",
      "Client 0 Accuracy: 62.55%\n",
      "\n",
      "Evaluating Client 1\n",
      "Client 1 Accuracy: 58.62%\n",
      "\n",
      "Evaluating Client 2\n",
      "Client 2 Accuracy: 69.02%\n",
      "\n",
      "Evaluating Client 3\n",
      "Client 3 Accuracy: 54.57%\n",
      "\n",
      "Evaluating Client 4\n",
      "Client 4 Accuracy: 63.32%\n",
      "Total Accuracy: 61.10%\n",
      "\n",
      "Round 1/3\n",
      "Training on Client 0\n",
      "Training on Client 1\n",
      "Training on Client 2\n",
      "Training on Client 3\n",
      "Training on Client 4\n",
      "\n",
      "Evaluating Client 0\n",
      "Client 0 Accuracy: 35.52%\n",
      "\n",
      "Evaluating Client 1\n",
      "Client 1 Accuracy: 43.07%\n",
      "\n",
      "Evaluating Client 2\n",
      "Client 2 Accuracy: 49.69%\n",
      "\n",
      "Evaluating Client 3\n",
      "Client 3 Accuracy: 32.03%\n",
      "\n",
      "Evaluating Client 4\n",
      "Client 4 Accuracy: 56.81%\n",
      "Total Accuracy: 41.93%\n",
      "\n",
      "Round 2/3\n",
      "Training on Client 0\n",
      "Training on Client 1\n",
      "Training on Client 2\n",
      "Training on Client 3\n",
      "Training on Client 4\n",
      "\n",
      "Evaluating Client 0\n",
      "Client 0 Accuracy: 38.94%\n",
      "\n",
      "Evaluating Client 1\n",
      "Client 1 Accuracy: 46.24%\n",
      "\n",
      "Evaluating Client 2\n",
      "Client 2 Accuracy: 52.87%\n",
      "\n",
      "Evaluating Client 3\n",
      "Client 3 Accuracy: 40.93%\n",
      "\n",
      "Evaluating Client 4\n",
      "Client 4 Accuracy: 56.89%\n",
      "Total Accuracy: 46.27%\n",
      "\n",
      "Round 3/3\n",
      "Training on Client 0\n",
      "Training on Client 1\n",
      "Training on Client 2\n",
      "Training on Client 3\n",
      "Training on Client 4\n",
      "\n",
      "Evaluating Client 0\n",
      "Client 0 Accuracy: 59.50%\n",
      "\n",
      "Evaluating Client 1\n",
      "Client 1 Accuracy: 60.93%\n",
      "\n",
      "Evaluating Client 2\n",
      "Client 2 Accuracy: 68.94%\n",
      "\n",
      "Evaluating Client 3\n",
      "Client 3 Accuracy: 62.57%\n",
      "\n",
      "Evaluating Client 4\n",
      "Client 4 Accuracy: 74.26%\n",
      "Total Accuracy: 64.52%\n",
      "\n",
      "Round 1/3\n",
      "Training on Client 0\n",
      "Training on Client 1\n",
      "Training on Client 2\n",
      "Training on Client 3\n",
      "Training on Client 4\n",
      "\n",
      "Evaluating Client 0\n",
      "Client 0 Accuracy: 38.24%\n",
      "\n",
      "Evaluating Client 1\n",
      "Client 1 Accuracy: 26.60%\n",
      "\n",
      "Evaluating Client 2\n",
      "Client 2 Accuracy: 17.26%\n",
      "\n",
      "Evaluating Client 3\n",
      "Client 3 Accuracy: 21.42%\n",
      "\n",
      "Evaluating Client 4\n",
      "Client 4 Accuracy: 29.45%\n",
      "Total Accuracy: 25.23%\n",
      "\n",
      "Round 2/3\n",
      "Training on Client 0\n",
      "Training on Client 1\n",
      "Training on Client 2\n",
      "Training on Client 3\n",
      "Training on Client 4\n",
      "\n",
      "Evaluating Client 0\n",
      "Client 0 Accuracy: 54.52%\n",
      "\n",
      "Evaluating Client 1\n",
      "Client 1 Accuracy: 30.52%\n",
      "\n",
      "Evaluating Client 2\n",
      "Client 2 Accuracy: 31.90%\n",
      "\n",
      "Evaluating Client 3\n",
      "Client 3 Accuracy: 34.46%\n",
      "\n",
      "Evaluating Client 4\n",
      "Client 4 Accuracy: 34.50%\n",
      "Total Accuracy: 36.83%\n",
      "\n",
      "Round 3/3\n",
      "Training on Client 0\n",
      "Training on Client 1\n",
      "Training on Client 2\n",
      "Training on Client 3\n",
      "Training on Client 4\n",
      "\n",
      "Evaluating Client 0\n",
      "Client 0 Accuracy: 69.08%\n",
      "\n",
      "Evaluating Client 1\n",
      "Client 1 Accuracy: 48.85%\n",
      "\n",
      "Evaluating Client 2\n",
      "Client 2 Accuracy: 58.63%\n",
      "\n",
      "Evaluating Client 3\n",
      "Client 3 Accuracy: 60.01%\n",
      "\n",
      "Evaluating Client 4\n",
      "Client 4 Accuracy: 57.05%\n",
      "Total Accuracy: 58.99%\n",
      "\n",
      "Round 1/3\n",
      "Training on Client 0\n",
      "Training on Client 1\n",
      "Training on Client 2\n",
      "Training on Client 3\n",
      "Training on Client 4\n",
      "\n",
      "Evaluating Client 0\n",
      "Client 0 Accuracy: 12.82%\n",
      "\n",
      "Evaluating Client 1\n",
      "Client 1 Accuracy: 18.98%\n",
      "\n",
      "Evaluating Client 2\n",
      "Client 2 Accuracy: 34.40%\n",
      "\n",
      "Evaluating Client 3\n",
      "Client 3 Accuracy: 18.81%\n",
      "\n",
      "Evaluating Client 4\n",
      "Client 4 Accuracy: 16.13%\n",
      "Total Accuracy: 18.74%\n",
      "\n",
      "Round 2/3\n",
      "Training on Client 0\n",
      "Training on Client 1\n",
      "Training on Client 2\n",
      "Training on Client 3\n",
      "Training on Client 4\n",
      "\n",
      "Evaluating Client 0\n",
      "Client 0 Accuracy: 13.44%\n",
      "\n",
      "Evaluating Client 1\n",
      "Client 1 Accuracy: 26.20%\n",
      "\n",
      "Evaluating Client 2\n",
      "Client 2 Accuracy: 62.65%\n",
      "\n",
      "Evaluating Client 3\n",
      "Client 3 Accuracy: 26.95%\n",
      "\n",
      "Evaluating Client 4\n",
      "Client 4 Accuracy: 27.11%\n",
      "Total Accuracy: 28.65%\n",
      "\n",
      "Round 3/3\n",
      "Training on Client 0\n",
      "Training on Client 1\n",
      "Training on Client 2\n",
      "Training on Client 3\n",
      "Training on Client 4\n",
      "\n",
      "Evaluating Client 0\n",
      "Client 0 Accuracy: 30.71%\n",
      "\n",
      "Evaluating Client 1\n",
      "Client 1 Accuracy: 62.17%\n",
      "\n",
      "Evaluating Client 2\n",
      "Client 2 Accuracy: 81.53%\n",
      "\n",
      "Evaluating Client 3\n",
      "Client 3 Accuracy: 39.69%\n",
      "\n",
      "Evaluating Client 4\n",
      "Client 4 Accuracy: 70.52%\n",
      "Total Accuracy: 55.37%\n",
      "\n",
      "Round 1/3\n",
      "Training on Client 0\n",
      "Training on Client 1\n",
      "Training on Client 2\n",
      "Training on Client 3\n",
      "Training on Client 4\n",
      "\n",
      "Evaluating Client 0\n",
      "Client 0 Accuracy: 53.70%\n",
      "\n",
      "Evaluating Client 1\n",
      "Client 1 Accuracy: 6.97%\n",
      "\n",
      "Evaluating Client 2\n",
      "Client 2 Accuracy: 0.71%\n",
      "\n",
      "Evaluating Client 3\n",
      "Client 3 Accuracy: 18.65%\n",
      "\n",
      "Evaluating Client 4\n",
      "Client 4 Accuracy: 83.26%\n",
      "Total Accuracy: 19.50%\n",
      "\n",
      "Round 2/3\n",
      "Training on Client 0\n",
      "Training on Client 1\n",
      "Training on Client 2\n",
      "Training on Client 3\n",
      "Training on Client 4\n",
      "\n",
      "Evaluating Client 0\n",
      "Client 0 Accuracy: 73.19%\n",
      "\n",
      "Evaluating Client 1\n",
      "Client 1 Accuracy: 19.23%\n",
      "\n",
      "Evaluating Client 2\n",
      "Client 2 Accuracy: 3.53%\n",
      "\n",
      "Evaluating Client 3\n",
      "Client 3 Accuracy: 26.83%\n",
      "\n",
      "Evaluating Client 4\n",
      "Client 4 Accuracy: 92.27%\n",
      "Total Accuracy: 31.48%\n",
      "\n",
      "Round 3/3\n",
      "Training on Client 0\n",
      "Training on Client 1\n",
      "Training on Client 2\n",
      "Training on Client 3\n",
      "Training on Client 4\n",
      "\n",
      "Evaluating Client 0\n",
      "Client 0 Accuracy: 81.51%\n",
      "\n",
      "Evaluating Client 1\n",
      "Client 1 Accuracy: 26.05%\n",
      "\n",
      "Evaluating Client 2\n",
      "Client 2 Accuracy: 4.71%\n",
      "\n",
      "Evaluating Client 3\n",
      "Client 3 Accuracy: 44.04%\n",
      "\n",
      "Evaluating Client 4\n",
      "Client 4 Accuracy: 93.13%\n",
      "Total Accuracy: 39.70%\n"
     ]
    }
   ],
   "source": [
    "# Parameters\n",
    "num_clients = 5\n",
    "batch_size = 128\n",
    "rounds = 3\n",
    "epochs = 20\n",
    "lr = 0.001\n",
    "dirichlet_alphas = [2.0, 1.525, 1.05, 0.575, 0.1]\n",
    "\n",
    "def run_fedavg(alpha):\n",
    "    train_loaders, test_loaders,_,_ = partition_data(train_images / 255, train_labels, test_images / 255, test_labels, num_clients, alpha, batch_size)\n",
    "    global_model_fedavg = SimpleCNN()\n",
    "    _, round_accuracies = fedavg_training(global_model_fedavg, train_loaders, num_clients, rounds=rounds, epochs=epochs, lr=lr, test_loaders=test_loaders)\n",
    "    return round_accuracies\n",
    "\n",
    "accuracies_per_alpha = []\n",
    "\n",
    "for alpha in dirichlet_alphas:\n",
    "    round_accuracies = run_fedavg(alpha)\n",
    "    accuracies_per_alpha.append(round_accuracies)"
   ]
  },
  {
   "cell_type": "code",
   "execution_count": null,
   "metadata": {
    "colab": {
     "base_uri": "https://localhost:8080/",
     "height": 472
    },
    "id": "biWB5iOSe34x",
    "outputId": "05e73f09-fef5-4116-b22d-f5d69aec8fb1"
   },
   "outputs": [
    {
     "data": {
      "image/png": "[encoded data removed]",
      "text/plain": [
       "<Figure size 640x480 with 1 Axes>"
      ]
     },
     "metadata": {},
     "output_type": "display_data"
    }
   ],
   "source": [
    "# Plotting accuracy per round for each alpha value\n",
    "plt.figure()\n",
    "for idx, alpha in enumerate(dirichlet_alphas):\n",
    "    plt.plot(range(1, rounds + 1), accuracies_per_alpha[idx], marker='o', label=f'Alpha = {alpha}')\n",
    "\n",
    "plt.xlabel('Rounds')\n",
    "plt.ylabel('Accuracy (%)')\n",
    "plt.legend()\n",
    "plt.title('FedAvg Accuracy per Round across Different Dirichlet Alphas')\n",
    "plt.show()"
   ]
  },
  {
   "cell_type": "markdown",
   "metadata": {
    "id": "sCMhwW4V0SAO"
   },
   "source": [
    "### 1. One Class Per Client\n"
   ]
  },
  {
   "cell_type": "code",
   "execution_count": null,
   "metadata": {
    "colab": {
     "base_uri": "https://localhost:8080/"
    },
    "id": "QdteP7Ddf2pW",
    "outputId": "3f1027c9-c6e8-4735-85de-2f12c66f8f8a"
   },
   "outputs": [
    {
     "name": "stdout",
     "output_type": "stream",
     "text": [
      "\n",
      "Round 1/3\n",
      "Training on Client 0\n",
      "Training on Client 1\n",
      "Training on Client 2\n",
      "Training on Client 3\n",
      "Training on Client 4\n",
      "Training on Client 5\n",
      "Training on Client 6\n",
      "Training on Client 7\n",
      "Training on Client 8\n",
      "Training on Client 9\n",
      "\n",
      "Evaluating Client 0\n",
      "Client 0 Accuracy: 0.00%\n",
      "\n",
      "Evaluating Client 1\n",
      "Client 1 Accuracy: 77.36%\n",
      "\n",
      "Evaluating Client 2\n",
      "Client 2 Accuracy: 0.00%\n",
      "\n",
      "Evaluating Client 3\n",
      "Client 3 Accuracy: 0.00%\n",
      "\n",
      "Evaluating Client 4\n",
      "Client 4 Accuracy: 0.00%\n",
      "\n",
      "Evaluating Client 5\n",
      "Client 5 Accuracy: 51.87%\n",
      "\n",
      "Evaluating Client 6\n",
      "Client 6 Accuracy: 0.00%\n",
      "\n",
      "Evaluating Client 7\n",
      "Client 7 Accuracy: 0.00%\n",
      "\n",
      "Evaluating Client 8\n",
      "Client 8 Accuracy: 0.00%\n",
      "\n",
      "Evaluating Client 9\n",
      "Client 9 Accuracy: 0.35%\n",
      "Total Accuracy: 12.97%\n",
      "\n",
      "Round 2/3\n",
      "Training on Client 0\n",
      "Training on Client 1\n",
      "Training on Client 2\n",
      "Training on Client 3\n",
      "Training on Client 4\n",
      "Training on Client 5\n",
      "Training on Client 6\n",
      "Training on Client 7\n",
      "Training on Client 8\n",
      "Training on Client 9\n",
      "\n",
      "Evaluating Client 0\n",
      "Client 0 Accuracy: 0.17%\n",
      "\n",
      "Evaluating Client 1\n",
      "Client 1 Accuracy: 99.37%\n",
      "\n",
      "Evaluating Client 2\n",
      "Client 2 Accuracy: 0.00%\n",
      "\n",
      "Evaluating Client 3\n",
      "Client 3 Accuracy: 0.00%\n",
      "\n",
      "Evaluating Client 4\n",
      "Client 4 Accuracy: 0.00%\n",
      "\n",
      "Evaluating Client 5\n",
      "Client 5 Accuracy: 9.30%\n",
      "\n",
      "Evaluating Client 6\n",
      "Client 6 Accuracy: 0.00%\n",
      "\n",
      "Evaluating Client 7\n",
      "Client 7 Accuracy: 0.00%\n",
      "\n",
      "Evaluating Client 8\n",
      "Client 8 Accuracy: 0.00%\n",
      "\n",
      "Evaluating Client 9\n",
      "Client 9 Accuracy: 0.26%\n",
      "Total Accuracy: 11.43%\n",
      "\n",
      "Round 3/3\n",
      "Training on Client 0\n",
      "Training on Client 1\n",
      "Training on Client 2\n",
      "Training on Client 3\n",
      "Training on Client 4\n",
      "Training on Client 5\n",
      "Training on Client 6\n",
      "Training on Client 7\n",
      "Training on Client 8\n",
      "Training on Client 9\n",
      "\n",
      "Evaluating Client 0\n",
      "Client 0 Accuracy: 0.50%\n",
      "\n",
      "Evaluating Client 1\n",
      "Client 1 Accuracy: 100.00%\n",
      "\n",
      "Evaluating Client 2\n",
      "Client 2 Accuracy: 0.00%\n",
      "\n",
      "Evaluating Client 3\n",
      "Client 3 Accuracy: 0.32%\n",
      "\n",
      "Evaluating Client 4\n",
      "Client 4 Accuracy: 0.00%\n",
      "\n",
      "Evaluating Client 5\n",
      "Client 5 Accuracy: 4.19%\n",
      "\n",
      "Evaluating Client 6\n",
      "Client 6 Accuracy: 0.00%\n",
      "\n",
      "Evaluating Client 7\n",
      "Client 7 Accuracy: 0.00%\n",
      "\n",
      "Evaluating Client 8\n",
      "Client 8 Accuracy: 0.00%\n",
      "\n",
      "Evaluating Client 9\n",
      "Client 9 Accuracy: 0.00%\n",
      "Total Accuracy: 11.07%\n"
     ]
    }
   ],
   "source": [
    "# Parameters for extreme heterogeneity\n",
    "num_clients = 10  # One client per class\n",
    "batch_size = 128\n",
    "rounds = 3\n",
    "epochs = 20\n",
    "lr = 0.001\n",
    "\n",
    "def partition_extreme_case(train_data, train_targets, test_data, test_targets, num_clients, batch_size):\n",
    "    \"\"\"\n",
    "    Partition data such that each client has data for only one class.\n",
    "    \"\"\"\n",
    "    client_train_loaders = []\n",
    "    client_test_loaders = []\n",
    "    num_classes = len(np.unique(train_targets))\n",
    "    class_indices = {c: np.where(train_targets == c)[0] for c in range(num_classes)}\n",
    "    test_class_indices = {c: np.where(test_targets == c)[0] for c in range(num_classes)}\n",
    "\n",
    "    for client_id in range(num_clients):\n",
    "        assigned_class = client_id % num_classes\n",
    "        train_indices = class_indices[assigned_class]\n",
    "        test_indices = test_class_indices[assigned_class]\n",
    "\n",
    "        train_data_client = torch.tensor(train_data[train_indices], dtype=torch.float32).unsqueeze(1)\n",
    "        train_targets_client = torch.tensor(train_targets[train_indices], dtype=torch.long)\n",
    "        train_loader = DataLoader(TensorDataset(train_data_client, train_targets_client), batch_size=batch_size, shuffle=True)\n",
    "        client_train_loaders.append(train_loader)\n",
    "\n",
    "        test_data_client = torch.tensor(test_data[test_indices], dtype=torch.float32).unsqueeze(1)\n",
    "        test_targets_client = torch.tensor(test_targets[test_indices], dtype=torch.long)\n",
    "        test_loader = DataLoader(TensorDataset(test_data_client, test_targets_client), batch_size=batch_size, shuffle=False)\n",
    "        client_test_loaders.append(test_loader)\n",
    "\n",
    "    return client_train_loaders, client_test_loaders\n",
    "\n",
    "def run_extreme_fedavg():\n",
    "    # Partition data for extreme heterogeneity\n",
    "    train_loaders, test_loaders = partition_extreme_case(\n",
    "        train_images / 255, train_labels, test_images / 255, test_labels, num_clients, batch_size\n",
    "    )\n",
    "    global_model_fedavg = SimpleCNN()\n",
    "\n",
    "    # Run FedAvg training\n",
    "    _, round_accuracies = fedavg_training(\n",
    "        global_model_fedavg, train_loaders, num_clients, rounds=rounds, epochs=epochs, lr=lr, test_loaders=test_loaders\n",
    "    )\n",
    "    return round_accuracies\n",
    "\n",
    "# Run the experiment\n",
    "extreme_fedavg_accuracies = run_extreme_fedavg()"
   ]
  },
  {
   "cell_type": "markdown",
   "metadata": {
    "id": "VCopk2S5305s"
   },
   "source": [
    "## Reflection on the Results\n",
    "\n",
    "### Local Model Behavior:\n",
    "\n",
    "The accuracies of individual clients vary significantly.\n",
    "Some clients (e.g., Client 1 in Round 3) achieve high accuracy on their local test sets, suggesting that the local model successfully learns features specific to their assigned class.\n",
    "However, most clients show poor accuracy (close to 0%), indicating that many local models fail to converge or learn meaningful representations.\n",
    "\n",
    "### Global Model Behavior:\n",
    "\n",
    "The global model achieves very low overall accuracy (e.g., 12.97% in Round 1, dropping further in subsequent rounds).\n",
    "This indicates that aggregating highly divergent local updates in an extremely heterogeneous setting leads to a global model that struggles to generalize across classes.\n",
    "\n",
    "## What the Local Models Learn:\n",
    "\n",
    "Each local model, being trained only on a single class, focuses exclusively on learning features specific to that class:\n",
    "\n",
    "### High-performing clients (e.g., Client 1):\n",
    "\n",
    "Likely learn class-specific features effectively because their training data is homogeneous.\n",
    "These models are overfitted to their class and cannot generalize beyond it.\n",
    "\n",
    "### Low-performing clients (e.g., Client 0, Client 2, etc.):\n",
    "\n",
    "May fail to converge due to the limited data volume or poor initialization.\n",
    "These models might not learn even the specific features of their assigned class effectively.\n",
    "\n",
    "## Why the Local Models Struggle\n",
    "\n",
    "### Limited Data Diversity:\n",
    "\n",
    "Each client only sees one class during training, leading to overfitting and a lack of generalizable feature learning.\n",
    "Class Imbalance in Data Volume:\n",
    "\n",
    "If some classes have fewer samples, their corresponding clients have less data to train on, causing difficulty in learning meaningful representations.\n",
    "\n",
    "### No Exposure to Other Classes:\n",
    "\n",
    "The lack of diverse training data prevents the models from understanding inter-class boundaries.\n",
    "\n",
    "## Global Model Limitations\n",
    "\n",
    "### Conflicting Updates:\n",
    "\n",
    "FedAvg aggregates updates from clients trained on disjoint class distributions. These updates are not complementary and often conflict, leading to a diluted global model that fails to perform well on any class.\n",
    "\n",
    "### Extreme Non-IID Data:\n",
    "\n",
    "FedAvg assumes IID (or moderately non-IID) data distributions, which is heavily violated in this experiment. The algorithm is not designed for such extreme heterogeneity.\n",
    "\n",
    "## Conclusion\n",
    "\n",
    "The local models will learn features specific to their assigned class when the data volume is sufficient and training converges. However, these models:\n",
    "\n",
    "Overfit to their single class and do not generalize.\n",
    "Fail to contribute effectively to a global model in an extreme heterogeneous setting.\n",
    "The global model struggles to aggregate these biased updates, resulting in poor overall performance."
   ]
  },
  {
   "cell_type": "markdown",
   "metadata": {},
   "source": [
    "# 2.\n",
    "\n",
    "The flaw in Yann LeCun's argument lies in overlooking the role of gradient descent and model initialization in Federated Learning, specifically in the context of FedAvg. Mustafa Siddiqui's rebuttal likely emphasizes these critical points:\n",
    "\n",
    "## The Flaw in Yann's Argument\n",
    "\n",
    "### Shared Initialization:\n",
    "\n",
    "In Federated Learning with FedAvg, all client models start from the same initial global model. This shared initialization helps align the parameter spaces of the neural networks, mitigating the issue of permutation invariance to some extent.\n",
    "For example, if two clients start with identical filters in their models, the gradients applied during training are more likely to preserve this alignment across clients.\n",
    "\n",
    "### Gradient Descent as a Converging Force:\n",
    "\n",
    "During training, gradient descent aligns the learned features across clients. Even if the feature mappings in the filters are initially reversed between clients, gradient updates push these models towards similar parameter configurations.\n",
    "The empirical success of FedAvg demonstrates that this alignment generally happens in practice, allowing weight averaging to yield meaningful results.\n",
    "\n",
    "### Permutation Invariance Exists but Is Mitigated:\n",
    "\n",
    "Yann is correct that neural networks exhibit permutation invariance: swapping neurons or filters in one layer can lead to functionally equivalent networks with different parameter configurations.\n",
    "However, because all clients start from the same model and share updates via FedAvg, this invariance is constrained in a way that preserves alignment across clients during training.\n",
    "\n",
    "### Why FedAvg Works Empirically\n",
    "\n",
    "### Empirical Convergence:\n",
    "\n",
    "FedAvg has been shown to converge effectively in practice, even in scenarios with moderate non-IID data distributions. This demonstrates that the alignment of weights across clients is sufficient for meaningful aggregation.\n",
    "\n",
    "### Averaging Does Not Require Perfect Alignment:\n",
    "\n",
    "While perfect alignment of corresponding weights across clients would be ideal, small misalignments do not significantly affect the global model’s ability to generalize. The averaging process still captures the shared functional representations learned by the clients.\n",
    "\n",
    "### Global Model Fine-Tuning:\n",
    "\n",
    "After averaging, the global model undergoes additional rounds of training or fine-tuning, which can correct any residual misalignment caused by permutation invariance.\n",
    "\n",
    "### Mustafa’s Likely Counterpoint\n",
    "\n",
    "### Mustafa would argue that:\n",
    "\n",
    "While permutation invariance is a valid theoretical concern, the shared initialization and convergence properties of gradient descent ensure that corresponding weights across clients remain reasonably aligned.\n",
    "Empirical evidence supports the practicality of FedAvg, even in the presence of moderate misalignments.\n",
    "\n",
    "### Conclusion\n",
    "\n",
    "Yann's argument highlights a potential limitation of weight averaging due to permutation invariance, but it underestimates the role of shared initialization and the aligning effect of gradient descent. These factors mitigate the issue in practice, enabling FedAvg to work effectively."
   ]
  },
  {
   "cell_type": "markdown",
   "metadata": {
    "id": "XJz1KoNdVido"
   },
   "source": [
    "# Task 3: Scaffold"
   ]
  },
  {
   "cell_type": "markdown",
   "metadata": {
    "id": "DFL7U6YLK-77"
   },
   "source": [
    "In this task, you will implement the SCAFFOLD algorithm, which addresses client heterogeneity through variance reduction. We will evaluate the implementation in a 0.1 Dirichlet heterogeneous setting, and accuracy plotting code is provided.\n",
    "\n",
    "The implementation of SCAFFOLD is similar to FedAvg, with only a few additional steps at both the server and client side. For reference, you may consult the SCAFFOLD paper to understand these adjustments in detail."
   ]
  },
  {
   "cell_type": "code",
   "execution_count": 6,
   "metadata": {
    "id": "u9t0tpiL7APb"
   },
   "outputs": [],
   "source": [
    "def local_train_scaffold(model, train_loader, c_global, c_local, epochs, lr, mu):\n",
    "    overall_update = {name: torch.zeros_like(param) for name, param in model.state_dict().items()}\n",
    "    new_c_local = {name: torch.zeros_like(param) for name, param in model.state_dict().items()}\n",
    "    # To Do\n",
    "    # Move the model to the appropriate device\n",
    "    device = torch.device(\"cuda\" if torch.cuda.is_available() else \"cpu\")\n",
    "    model.to(device)\n",
    "\n",
    "    # Put the model in training mode\n",
    "    model.train()\n",
    "\n",
    "    # Move c_global and c_local to the device\n",
    "    c_global = {name: tensor.to(device) for name, tensor in c_global.items()}\n",
    "    c_local = {name: tensor.to(device) for name, tensor in c_local.items()}\n",
    "\n",
    "    # Declare the loss function and the optimizer\n",
    "    criterion = nn.CrossEntropyLoss()\n",
    "    optimizer = optim.SGD(model.parameters(), lr=lr)\n",
    "\n",
    "    # Initialize the initial model parameters\n",
    "    initial_params = {name: param.clone() for name, param in model.state_dict().items()}\n",
    "\n",
    "     # Training loop\n",
    "    for epoch in range(epochs):\n",
    "        epoch_loss = 0.0\n",
    "        tqdm_bar = tqdm(enumerate(train_loader), total=len(train_loader), desc=f\"Epoch {epoch+1}/{epochs}\")\n",
    "        for batch_idx, (images, labels) in tqdm_bar:\n",
    "            # Sedning the images and labesl to the appropriate device\n",
    "            images, labels = images.to(device), labels.to(device)\n",
    "\n",
    "            optimizer.zero_grad()\n",
    "\n",
    "            # Forward pass\n",
    "            outputs = model(images)\n",
    "            loss = criterion(outputs, labels)\n",
    "\n",
    "            # Backward pass\n",
    "            loss.backward()\n",
    "\n",
    "            # Applying the gradient correction\n",
    "            for name, param in model.named_parameters():\n",
    "                if param.grad is not None:\n",
    "                    param.grad += mu * (c_global[name] - c_local[name])\n",
    "\n",
    "            # Update the model parameters\n",
    "            optimizer.step()\n",
    "\n",
    "            # Accumulate loss\n",
    "            epoch_loss += loss.item()\n",
    "\n",
    "            # Update tqdm bar with the current loss every 10 batches\n",
    "            if batch_idx % 10 == 0:\n",
    "                tqdm_bar.set_postfix({\"Batch Loss\": loss.item()})\n",
    "\n",
    "        # Display the average loss for the epoch in tqdm\n",
    "        tqdm_bar.set_postfix({\"Epoch Loss\": epoch_loss / len(train_loader)})\n",
    "\n",
    "    # Computing the overall update\n",
    "    for name, param in model.state_dict().items():\n",
    "        # w_G - w_i\n",
    "        overall_update[name] = param.clone() - c_local[name]\n",
    "        # Updating the local control variate\n",
    "        new_c_local[name] = c_local[name] - c_global[name] + mu * overall_update[name]\n",
    "\n",
    "\n",
    "    return overall_update, new_c_local\n",
    "\n",
    "def federated_scaffold(global_model, train_loaders, test_loaders, num_clients, rounds, epochs, local_lr, mu):\n",
    "    round_accuracies = []\n",
    "\n",
    "    # Step 1: Initialize the global control variate\n",
    "    c_global = {name: torch.zeros_like(param) for name, param in global_model.state_dict().items()}\n",
    "\n",
    "    # Step 2: Initialize local control variates for each client\n",
    "    c_locals = {client_id: {name: torch.zeros_like(param) for name, param in global_model.state_dict().items()}\n",
    "                for client_id in range(num_clients)}\n",
    "\n",
    "    # Move the model to the appropriate device\n",
    "    device = torch.device(\"cuda\" if torch.cuda.is_available() else \"cpu\")\n",
    "    global_model.to(device)\n",
    "\n",
    "    c_global = {name: tensor.to(device) for name, tensor in c_global.items()}  # Move c_global to device\n",
    "    c_locals = {client_id: {name: tensor.to(device) for name, tensor in c_global.items()}  # Move c_locals to device\n",
    "                for client_id in range(num_clients)}\n",
    "\n",
    "    # Step 3: Federated learning rounds\n",
    "    for round_num in range(rounds):\n",
    "        print(f\"\\nRound {round_num + 1}/{rounds}\")\n",
    "\n",
    "        # Store updates and control variate deltas from clients\n",
    "        client_updates = []\n",
    "\n",
    "        # Step 4: Train on each client\n",
    "        for client_id, train_loader in enumerate(train_loaders):\n",
    "            print(f\"Training on Client {client_id}\")\n",
    "\n",
    "            # Create a local copy of the global model\n",
    "            local_model = SimpleCNN()\n",
    "            local_model.load_state_dict(global_model.state_dict())\n",
    "\n",
    "            # Perform local training with SCAFFOLD\n",
    "            local_update, new_c_local = local_train_scaffold(\n",
    "                local_model, train_loader, c_global, c_locals[client_id], epochs, local_lr, mu\n",
    "            )\n",
    "\n",
    "            # Update local control variate for the client\n",
    "            c_locals[client_id] = new_c_local\n",
    "\n",
    "            # Collect updates and control deltas\n",
    "            client_updates.append(local_update)\n",
    "\n",
    "        # Step 5: Aggregate client updates for the global model\n",
    "        global_update = {name: torch.zeros_like(param) for name, param in global_model.state_dict().items()}\n",
    "        for client_update in client_updates:\n",
    "            for name in global_update:\n",
    "              global_update[name] += client_update[name] / num_clients\n",
    "\n",
    "        # Apply the aggregated update to the global model\n",
    "        global_state_dict = global_model.state_dict()\n",
    "        for name, param in global_state_dict.items():\n",
    "            global_state_dict[name] += global_update[name]\n",
    "            c_global[name] += global_update[name] / num_clients\n",
    "\n",
    "        global_model.load_state_dict(global_state_dict)\n",
    "\n",
    "        # Step 6: Evaluate the global model on the test dataset\n",
    "        _, total_accuracy = evaluate_model(global_model, test_loaders)\n",
    "        round_accuracies.append(total_accuracy)\n",
    "\n",
    "        print(f\"Round {round_num + 1} Accuracy: {total_accuracy:.4f}\")\n",
    "\n",
    "    return round_accuracies"
   ]
  },
  {
   "cell_type": "code",
   "execution_count": 8,
   "metadata": {
    "colab": {
     "base_uri": "https://localhost:8080/"
    },
    "id": "ng9wXjjXQ59M",
    "outputId": "e3326159-36a3-49f1-80b3-bc35bff77ac4"
   },
   "outputs": [
    {
     "name": "stdout",
     "output_type": "stream",
     "text": [
      "\n",
      "Running SCAFFOLD with Dirichlet Alpha = 2\n",
      "\n",
      "Round 1/3\n",
      "Training on Client 0\n"
     ]
    },
    {
     "name": "stderr",
     "output_type": "stream",
     "text": [
      "Epoch 1/20: 100%|██████████| 85/85 [00:01<00:00, 56.41it/s, Batch Loss=2.9]\n",
      "Epoch 2/20: 100%|██████████| 85/85 [00:00<00:00, 247.53it/s, Batch Loss=2.91]\n",
      "Epoch 3/20: 100%|██████████| 85/85 [00:00<00:00, 245.14it/s, Batch Loss=2.82]\n",
      "Epoch 4/20: 100%|██████████| 85/85 [00:00<00:00, 274.77it/s, Batch Loss=2.66]\n",
      "Epoch 5/20: 100%|██████████| 85/85 [00:00<00:00, 281.28it/s, Batch Loss=2.42]\n",
      "Epoch 6/20: 100%|██████████| 85/85 [00:00<00:00, 242.15it/s, Batch Loss=2.03]\n",
      "Epoch 7/20: 100%|██████████| 85/85 [00:00<00:00, 267.07it/s, Batch Loss=1.56]\n",
      "Epoch 8/20: 100%|██████████| 85/85 [00:00<00:00, 262.15it/s, Batch Loss=1.16]\n",
      "Epoch 9/20: 100%|██████████| 85/85 [00:00<00:00, 244.96it/s, Batch Loss=0.892]\n",
      "Epoch 10/20: 100%|██████████| 85/85 [00:00<00:00, 270.12it/s, Batch Loss=0.705]\n",
      "Epoch 11/20: 100%|██████████| 85/85 [00:00<00:00, 262.75it/s, Batch Loss=0.578]\n",
      "Epoch 12/20: 100%|██████████| 85/85 [00:00<00:00, 242.97it/s, Batch Loss=0.497]\n",
      "Epoch 13/20: 100%|██████████| 85/85 [00:00<00:00, 274.44it/s, Batch Loss=0.441]\n",
      "Epoch 14/20: 100%|██████████| 85/85 [00:00<00:00, 276.17it/s, Batch Loss=0.392]\n",
      "Epoch 15/20: 100%|██████████| 85/85 [00:00<00:00, 241.47it/s, Batch Loss=0.349]\n",
      "Epoch 16/20: 100%|██████████| 85/85 [00:00<00:00, 268.87it/s, Batch Loss=0.331]\n",
      "Epoch 17/20: 100%|██████████| 85/85 [00:00<00:00, 268.48it/s, Batch Loss=0.326]\n",
      "Epoch 18/20: 100%|██████████| 85/85 [00:00<00:00, 207.30it/s, Batch Loss=0.353]\n",
      "Epoch 19/20: 100%|██████████| 85/85 [00:00<00:00, 210.96it/s, Batch Loss=0.383]\n",
      "Epoch 20/20: 100%|██████████| 85/85 [00:00<00:00, 211.30it/s, Batch Loss=0.404]\n"
     ]
    },
    {
     "name": "stdout",
     "output_type": "stream",
     "text": [
      "Training on Client 1\n"
     ]
    },
    {
     "name": "stderr",
     "output_type": "stream",
     "text": [
      "Epoch 1/20: 100%|██████████| 78/78 [00:00<00:00, 187.24it/s, Batch Loss=2.21]\n",
      "Epoch 2/20: 100%|██████████| 78/78 [00:00<00:00, 206.51it/s, Batch Loss=2.06]\n",
      "Epoch 3/20: 100%|██████████| 78/78 [00:00<00:00, 174.26it/s, Batch Loss=1.89]\n",
      "Epoch 4/20: 100%|██████████| 78/78 [00:00<00:00, 248.57it/s, Batch Loss=1.63]\n",
      "Epoch 5/20: 100%|██████████| 78/78 [00:00<00:00, 258.55it/s, Batch Loss=0.942]\n",
      "Epoch 6/20: 100%|██████████| 78/78 [00:00<00:00, 244.05it/s, Batch Loss=0.307]\n",
      "Epoch 7/20: 100%|██████████| 78/78 [00:00<00:00, 270.21it/s, Batch Loss=0.139]\n",
      "Epoch 8/20: 100%|██████████| 78/78 [00:00<00:00, 274.78it/s, Batch Loss=0.0883]\n",
      "Epoch 9/20: 100%|██████████| 78/78 [00:00<00:00, 246.05it/s, Batch Loss=0.0669]\n",
      "Epoch 10/20: 100%|██████████| 78/78 [00:00<00:00, 271.97it/s, Batch Loss=0.056]\n",
      "Epoch 11/20: 100%|██████████| 78/78 [00:00<00:00, 272.57it/s, Batch Loss=0.0509]\n",
      "Epoch 12/20: 100%|██████████| 78/78 [00:00<00:00, 250.42it/s, Batch Loss=0.0483]\n",
      "Epoch 13/20: 100%|██████████| 78/78 [00:00<00:00, 273.10it/s, Batch Loss=0.0477]\n",
      "Epoch 14/20: 100%|██████████| 78/78 [00:00<00:00, 274.04it/s, Batch Loss=0.0481]\n",
      "Epoch 15/20: 100%|██████████| 78/78 [00:00<00:00, 269.74it/s, Batch Loss=0.0488]\n",
      "Epoch 16/20: 100%|██████████| 78/78 [00:00<00:00, 255.08it/s, Batch Loss=0.0493]\n",
      "Epoch 17/20: 100%|██████████| 78/78 [00:00<00:00, 267.89it/s, Batch Loss=0.0494]\n",
      "Epoch 18/20: 100%|██████████| 78/78 [00:00<00:00, 279.57it/s, Batch Loss=0.0493]\n",
      "Epoch 19/20: 100%|██████████| 78/78 [00:00<00:00, 238.39it/s, Batch Loss=0.0487]\n",
      "Epoch 20/20: 100%|██████████| 78/78 [00:00<00:00, 282.19it/s, Batch Loss=0.0484]\n"
     ]
    },
    {
     "name": "stdout",
     "output_type": "stream",
     "text": [
      "Training on Client 2\n"
     ]
    },
    {
     "name": "stderr",
     "output_type": "stream",
     "text": [
      "Epoch 1/20: 100%|██████████| 96/96 [00:00<00:00, 244.38it/s, Batch Loss=2.12]\n",
      "Epoch 2/20: 100%|██████████| 96/96 [00:00<00:00, 258.46it/s, Batch Loss=1.51]\n",
      "Epoch 3/20: 100%|██████████| 96/96 [00:00<00:00, 272.71it/s, Batch Loss=0.621]\n",
      "Epoch 4/20: 100%|██████████| 96/96 [00:00<00:00, 271.80it/s, Batch Loss=0.138]\n",
      "Epoch 5/20: 100%|██████████| 96/96 [00:00<00:00, 254.56it/s, Batch Loss=0.0756]\n",
      "Epoch 6/20: 100%|██████████| 96/96 [00:00<00:00, 278.39it/s, Batch Loss=0.0561]\n",
      "Epoch 7/20: 100%|██████████| 96/96 [00:00<00:00, 263.40it/s, Batch Loss=0.0466]\n",
      "Epoch 8/20: 100%|██████████| 96/96 [00:00<00:00, 279.62it/s, Batch Loss=0.0409]\n",
      "Epoch 9/20: 100%|██████████| 96/96 [00:00<00:00, 271.01it/s, Batch Loss=0.0368]\n",
      "Epoch 10/20: 100%|██████████| 96/96 [00:00<00:00, 255.37it/s, Batch Loss=0.0332]\n",
      "Epoch 11/20: 100%|██████████| 96/96 [00:00<00:00, 280.11it/s, Batch Loss=0.0301]\n",
      "Epoch 12/20: 100%|██████████| 96/96 [00:00<00:00, 266.26it/s, Batch Loss=0.0283]\n",
      "Epoch 13/20: 100%|██████████| 96/96 [00:00<00:00, 250.23it/s, Batch Loss=0.0275]\n",
      "Epoch 14/20: 100%|██████████| 96/96 [00:00<00:00, 212.67it/s, Batch Loss=0.0271]\n",
      "Epoch 15/20: 100%|██████████| 96/96 [00:00<00:00, 213.83it/s, Batch Loss=0.027]\n",
      "Epoch 16/20: 100%|██████████| 96/96 [00:00<00:00, 221.13it/s, Batch Loss=0.0267]\n",
      "Epoch 17/20: 100%|██████████| 96/96 [00:00<00:00, 189.69it/s, Batch Loss=0.026]\n",
      "Epoch 18/20: 100%|██████████| 96/96 [00:00<00:00, 190.42it/s, Batch Loss=0.0255]\n",
      "Epoch 19/20: 100%|██████████| 96/96 [00:00<00:00, 224.29it/s, Batch Loss=0.0258]\n",
      "Epoch 20/20: 100%|██████████| 96/96 [00:00<00:00, 270.53it/s, Batch Loss=0.0258]\n"
     ]
    },
    {
     "name": "stdout",
     "output_type": "stream",
     "text": [
      "Training on Client 3\n"
     ]
    },
    {
     "name": "stderr",
     "output_type": "stream",
     "text": [
      "Epoch 1/20: 100%|██████████| 69/69 [00:00<00:00, 273.65it/s, Batch Loss=2.32]\n",
      "Epoch 2/20: 100%|██████████| 69/69 [00:00<00:00, 253.36it/s, Batch Loss=2.13]\n",
      "Epoch 3/20: 100%|██████████| 69/69 [00:00<00:00, 242.01it/s, Batch Loss=1.94]\n",
      "Epoch 4/20: 100%|██████████| 69/69 [00:00<00:00, 278.91it/s, Batch Loss=1.8]\n",
      "Epoch 5/20: 100%|██████████| 69/69 [00:00<00:00, 265.08it/s, Batch Loss=1.59]\n",
      "Epoch 6/20: 100%|██████████| 69/69 [00:00<00:00, 246.01it/s, Batch Loss=1.19]\n",
      "Epoch 7/20: 100%|██████████| 69/69 [00:00<00:00, 269.34it/s, Batch Loss=0.611]\n",
      "Epoch 8/20: 100%|██████████| 69/69 [00:00<00:00, 262.25it/s, Batch Loss=0.276]\n",
      "Epoch 9/20: 100%|██████████| 69/69 [00:00<00:00, 238.72it/s, Batch Loss=0.155]\n",
      "Epoch 10/20: 100%|██████████| 69/69 [00:00<00:00, 237.00it/s, Batch Loss=0.104]\n",
      "Epoch 11/20: 100%|██████████| 69/69 [00:00<00:00, 273.41it/s, Batch Loss=0.0817]\n",
      "Epoch 12/20: 100%|██████████| 69/69 [00:00<00:00, 265.35it/s, Batch Loss=0.0717]\n",
      "Epoch 13/20: 100%|██████████| 69/69 [00:00<00:00, 243.73it/s, Batch Loss=0.0657]\n",
      "Epoch 14/20: 100%|██████████| 69/69 [00:00<00:00, 259.00it/s, Batch Loss=0.0616]\n",
      "Epoch 15/20: 100%|██████████| 69/69 [00:00<00:00, 271.33it/s, Batch Loss=0.0597]\n",
      "Epoch 16/20: 100%|██████████| 69/69 [00:00<00:00, 274.32it/s, Batch Loss=0.0597]\n",
      "Epoch 17/20: 100%|██████████| 69/69 [00:00<00:00, 234.15it/s, Batch Loss=0.0597]\n",
      "Epoch 18/20: 100%|██████████| 69/69 [00:00<00:00, 280.93it/s, Batch Loss=0.0603]\n",
      "Epoch 19/20: 100%|██████████| 69/69 [00:00<00:00, 272.98it/s, Batch Loss=0.0609]\n",
      "Epoch 20/20: 100%|██████████| 69/69 [00:00<00:00, 260.85it/s, Batch Loss=0.0603]\n"
     ]
    },
    {
     "name": "stdout",
     "output_type": "stream",
     "text": [
      "Training on Client 4\n"
     ]
    },
    {
     "name": "stderr",
     "output_type": "stream",
     "text": [
      "Epoch 1/20: 100%|██████████| 50/50 [00:00<00:00, 223.85it/s, Batch Loss=2.57]\n",
      "Epoch 2/20: 100%|██████████| 50/50 [00:00<00:00, 279.20it/s, Batch Loss=2.71]\n",
      "Epoch 3/20: 100%|██████████| 50/50 [00:00<00:00, 287.98it/s, Batch Loss=2.63]\n",
      "Epoch 4/20: 100%|██████████| 50/50 [00:00<00:00, 270.34it/s, Batch Loss=2.6]\n",
      "Epoch 5/20: 100%|██████████| 50/50 [00:00<00:00, 280.32it/s, Batch Loss=2.61]\n",
      "Epoch 6/20: 100%|██████████| 50/50 [00:00<00:00, 216.21it/s, Batch Loss=2.62]\n",
      "Epoch 7/20: 100%|██████████| 50/50 [00:00<00:00, 289.14it/s, Batch Loss=2.65]\n",
      "Epoch 8/20: 100%|██████████| 50/50 [00:00<00:00, 276.89it/s, Batch Loss=2.71]\n",
      "Epoch 9/20: 100%|██████████| 50/50 [00:00<00:00, 275.44it/s, Batch Loss=2.8]\n",
      "Epoch 10/20: 100%|██████████| 50/50 [00:00<00:00, 281.14it/s, Batch Loss=2.89]\n",
      "Epoch 11/20: 100%|██████████| 50/50 [00:00<00:00, 214.32it/s, Batch Loss=2.93]\n",
      "Epoch 12/20: 100%|██████████| 50/50 [00:00<00:00, 269.74it/s, Batch Loss=2.97]\n",
      "Epoch 13/20: 100%|██████████| 50/50 [00:00<00:00, 282.71it/s, Batch Loss=3.02]\n",
      "Epoch 14/20: 100%|██████████| 50/50 [00:00<00:00, 284.29it/s, Batch Loss=3.11]\n",
      "Epoch 15/20: 100%|██████████| 50/50 [00:00<00:00, 275.25it/s, Batch Loss=3.22]\n",
      "Epoch 16/20: 100%|██████████| 50/50 [00:00<00:00, 217.45it/s, Batch Loss=3.33]\n",
      "Epoch 17/20: 100%|██████████| 50/50 [00:00<00:00, 267.36it/s, Batch Loss=3.42]\n",
      "Epoch 18/20: 100%|██████████| 50/50 [00:00<00:00, 279.13it/s, Batch Loss=3.47]\n",
      "Epoch 19/20: 100%|██████████| 50/50 [00:00<00:00, 280.02it/s, Batch Loss=3.5]\n",
      "Epoch 20/20: 100%|██████████| 50/50 [00:00<00:00, 212.61it/s, Batch Loss=3.49]\n"
     ]
    },
    {
     "name": "stdout",
     "output_type": "stream",
     "text": [
      "\n",
      "Evaluating Client 0\n",
      "Client 0 Accuracy: 52.92%\n",
      "\n",
      "Evaluating Client 1\n",
      "Client 1 Accuracy: 55.07%\n",
      "\n",
      "Evaluating Client 2\n",
      "Client 2 Accuracy: 59.22%\n",
      "\n",
      "Evaluating Client 3\n",
      "Client 3 Accuracy: 47.89%\n",
      "\n",
      "Evaluating Client 4\n",
      "Client 4 Accuracy: 53.35%\n",
      "Total Accuracy: 54.09%\n",
      "Round 1 Accuracy: 54.0917\n",
      "\n",
      "Round 2/3\n",
      "Training on Client 0\n"
     ]
    },
    {
     "name": "stderr",
     "output_type": "stream",
     "text": [
      "Epoch 1/20: 100%|██████████| 85/85 [00:00<00:00, 216.63it/s, Batch Loss=0.123]\n",
      "Epoch 2/20: 100%|██████████| 85/85 [00:00<00:00, 182.30it/s, Batch Loss=0.244]\n",
      "Epoch 3/20: 100%|██████████| 85/85 [00:00<00:00, 195.53it/s, Batch Loss=0.258]\n",
      "Epoch 4/20: 100%|██████████| 85/85 [00:00<00:00, 199.81it/s, Batch Loss=0.266]\n",
      "Epoch 5/20: 100%|██████████| 85/85 [00:00<00:00, 252.09it/s, Batch Loss=0.276]\n",
      "Epoch 6/20: 100%|██████████| 85/85 [00:00<00:00, 257.45it/s, Batch Loss=0.279]\n",
      "Epoch 7/20: 100%|██████████| 85/85 [00:00<00:00, 245.04it/s, Batch Loss=0.275]\n",
      "Epoch 8/20: 100%|██████████| 85/85 [00:00<00:00, 272.93it/s, Batch Loss=0.257]\n",
      "Epoch 9/20: 100%|██████████| 85/85 [00:00<00:00, 279.37it/s, Batch Loss=0.244]\n",
      "Epoch 10/20: 100%|██████████| 85/85 [00:00<00:00, 255.04it/s, Batch Loss=0.228]\n",
      "Epoch 11/20: 100%|██████████| 85/85 [00:00<00:00, 272.45it/s, Batch Loss=0.216]\n",
      "Epoch 12/20: 100%|██████████| 85/85 [00:00<00:00, 275.62it/s, Batch Loss=0.204]\n",
      "Epoch 13/20: 100%|██████████| 85/85 [00:00<00:00, 244.60it/s, Batch Loss=0.194]\n",
      "Epoch 14/20: 100%|██████████| 85/85 [00:00<00:00, 268.26it/s, Batch Loss=0.185]\n",
      "Epoch 15/20: 100%|██████████| 85/85 [00:00<00:00, 280.44it/s, Batch Loss=0.175]\n",
      "Epoch 16/20: 100%|██████████| 85/85 [00:00<00:00, 245.65it/s, Batch Loss=0.167]\n",
      "Epoch 17/20: 100%|██████████| 85/85 [00:00<00:00, 267.48it/s, Batch Loss=0.16]\n",
      "Epoch 18/20: 100%|██████████| 85/85 [00:00<00:00, 276.03it/s, Batch Loss=0.152]\n",
      "Epoch 19/20: 100%|██████████| 85/85 [00:00<00:00, 254.52it/s, Batch Loss=0.147]\n",
      "Epoch 20/20: 100%|██████████| 85/85 [00:00<00:00, 265.37it/s, Batch Loss=0.142]\n"
     ]
    },
    {
     "name": "stdout",
     "output_type": "stream",
     "text": [
      "Training on Client 1\n"
     ]
    },
    {
     "name": "stderr",
     "output_type": "stream",
     "text": [
      "Epoch 1/20: 100%|██████████| 78/78 [00:00<00:00, 275.27it/s, Batch Loss=0.0111]\n",
      "Epoch 2/20: 100%|██████████| 78/78 [00:00<00:00, 251.16it/s, Batch Loss=0.0197]\n",
      "Epoch 3/20: 100%|██████████| 78/78 [00:00<00:00, 255.89it/s, Batch Loss=0.0243]\n",
      "Epoch 4/20: 100%|██████████| 78/78 [00:00<00:00, 279.35it/s, Batch Loss=0.0256]\n",
      "Epoch 5/20: 100%|██████████| 78/78 [00:00<00:00, 282.08it/s, Batch Loss=0.0256]\n",
      "Epoch 6/20: 100%|██████████| 78/78 [00:00<00:00, 251.30it/s, Batch Loss=0.0255]\n",
      "Epoch 7/20: 100%|██████████| 78/78 [00:00<00:00, 275.85it/s, Batch Loss=0.0256]\n",
      "Epoch 8/20: 100%|██████████| 78/78 [00:00<00:00, 279.90it/s, Batch Loss=0.0254]\n",
      "Epoch 9/20: 100%|██████████| 78/78 [00:00<00:00, 250.45it/s, Batch Loss=0.0253]\n",
      "Epoch 10/20: 100%|██████████| 78/78 [00:00<00:00, 272.26it/s, Batch Loss=0.0251]\n",
      "Epoch 11/20: 100%|██████████| 78/78 [00:00<00:00, 275.40it/s, Batch Loss=0.0253]\n",
      "Epoch 12/20: 100%|██████████| 78/78 [00:00<00:00, 257.71it/s, Batch Loss=0.0255]\n",
      "Epoch 13/20: 100%|██████████| 78/78 [00:00<00:00, 263.57it/s, Batch Loss=0.0255]\n",
      "Epoch 14/20: 100%|██████████| 78/78 [00:00<00:00, 266.43it/s, Batch Loss=0.0256]\n",
      "Epoch 15/20: 100%|██████████| 78/78 [00:00<00:00, 279.01it/s, Batch Loss=0.0254]\n",
      "Epoch 16/20: 100%|██████████| 78/78 [00:00<00:00, 197.38it/s, Batch Loss=0.0254]\n",
      "Epoch 17/20: 100%|██████████| 78/78 [00:00<00:00, 199.34it/s, Batch Loss=0.0253]\n",
      "Epoch 18/20: 100%|██████████| 78/78 [00:00<00:00, 186.71it/s, Batch Loss=0.0252]\n",
      "Epoch 19/20: 100%|██████████| 78/78 [00:00<00:00, 201.27it/s, Batch Loss=0.025]\n",
      "Epoch 20/20: 100%|██████████| 78/78 [00:00<00:00, 188.51it/s, Batch Loss=0.0246]\n"
     ]
    },
    {
     "name": "stdout",
     "output_type": "stream",
     "text": [
      "Training on Client 2\n"
     ]
    },
    {
     "name": "stderr",
     "output_type": "stream",
     "text": [
      "Epoch 1/20: 100%|██████████| 96/96 [00:00<00:00, 203.01it/s, Batch Loss=0.0087]\n",
      "Epoch 2/20: 100%|██████████| 96/96 [00:00<00:00, 260.50it/s, Batch Loss=0.015]\n",
      "Epoch 3/20: 100%|██████████| 96/96 [00:00<00:00, 246.78it/s, Batch Loss=0.0174]\n",
      "Epoch 4/20: 100%|██████████| 96/96 [00:00<00:00, 266.89it/s, Batch Loss=0.0184]\n",
      "Epoch 5/20: 100%|██████████| 96/96 [00:00<00:00, 255.30it/s, Batch Loss=0.019]\n",
      "Epoch 6/20: 100%|██████████| 96/96 [00:00<00:00, 249.17it/s, Batch Loss=0.0195]\n",
      "Epoch 7/20: 100%|██████████| 96/96 [00:00<00:00, 269.84it/s, Batch Loss=0.0198]\n",
      "Epoch 8/20: 100%|██████████| 96/96 [00:00<00:00, 254.49it/s, Batch Loss=0.0202]\n",
      "Epoch 9/20: 100%|██████████| 96/96 [00:00<00:00, 278.67it/s, Batch Loss=0.0203]\n",
      "Epoch 10/20: 100%|██████████| 96/96 [00:00<00:00, 268.01it/s, Batch Loss=0.0204]\n",
      "Epoch 11/20: 100%|██████████| 96/96 [00:00<00:00, 251.63it/s, Batch Loss=0.0205]\n",
      "Epoch 12/20: 100%|██████████| 96/96 [00:00<00:00, 273.58it/s, Batch Loss=0.0204]\n",
      "Epoch 13/20: 100%|██████████| 96/96 [00:00<00:00, 265.63it/s, Batch Loss=0.0203]\n",
      "Epoch 14/20: 100%|██████████| 96/96 [00:00<00:00, 254.39it/s, Batch Loss=0.0199]\n",
      "Epoch 15/20: 100%|██████████| 96/96 [00:00<00:00, 271.47it/s, Batch Loss=0.0192]\n",
      "Epoch 16/20: 100%|██████████| 96/96 [00:00<00:00, 256.47it/s, Batch Loss=0.0184]\n",
      "Epoch 17/20: 100%|██████████| 96/96 [00:00<00:00, 263.95it/s, Batch Loss=0.0175]\n",
      "Epoch 18/20: 100%|██████████| 96/96 [00:00<00:00, 266.76it/s, Batch Loss=0.0165]\n",
      "Epoch 19/20: 100%|██████████| 96/96 [00:00<00:00, 251.98it/s, Batch Loss=0.0156]\n",
      "Epoch 20/20: 100%|██████████| 96/96 [00:00<00:00, 272.63it/s, Batch Loss=0.0148]\n"
     ]
    },
    {
     "name": "stdout",
     "output_type": "stream",
     "text": [
      "Training on Client 3\n"
     ]
    },
    {
     "name": "stderr",
     "output_type": "stream",
     "text": [
      "Epoch 1/20: 100%|██████████| 69/69 [00:00<00:00, 265.89it/s, Batch Loss=0.0119]\n",
      "Epoch 2/20: 100%|██████████| 69/69 [00:00<00:00, 157.43it/s, Batch Loss=0.0219]\n",
      "Epoch 3/20: 100%|██████████| 69/69 [00:00<00:00, 213.22it/s, Batch Loss=0.027]\n",
      "Epoch 4/20: 100%|██████████| 69/69 [00:00<00:00, 245.50it/s, Batch Loss=0.0285]\n",
      "Epoch 5/20: 100%|██████████| 69/69 [00:00<00:00, 129.34it/s, Batch Loss=0.0287]\n",
      "Epoch 6/20: 100%|██████████| 69/69 [00:00<00:00, 274.34it/s, Batch Loss=0.0284]\n",
      "Epoch 7/20: 100%|██████████| 69/69 [00:00<00:00, 131.21it/s, Batch Loss=0.0279]\n",
      "Epoch 8/20: 100%|██████████| 69/69 [00:00<00:00, 227.71it/s, Batch Loss=0.0272]\n",
      "Epoch 9/20: 100%|██████████| 69/69 [00:00<00:00, 201.73it/s, Batch Loss=0.0266]\n",
      "Epoch 10/20: 100%|██████████| 69/69 [00:00<00:00, 192.49it/s, Batch Loss=0.0262]\n",
      "Epoch 11/20: 100%|██████████| 69/69 [00:00<00:00, 231.25it/s, Batch Loss=0.0259]\n",
      "Epoch 12/20: 100%|██████████| 69/69 [00:00<00:00, 197.32it/s, Batch Loss=0.0255]\n",
      "Epoch 13/20: 100%|██████████| 69/69 [00:00<00:00, 189.67it/s, Batch Loss=0.025]\n",
      "Epoch 14/20: 100%|██████████| 69/69 [00:00<00:00, 201.02it/s, Batch Loss=0.0245]\n",
      "Epoch 15/20: 100%|██████████| 69/69 [00:00<00:00, 223.16it/s, Batch Loss=0.024]\n",
      "Epoch 16/20: 100%|██████████| 69/69 [00:00<00:00, 252.66it/s, Batch Loss=0.0233]\n",
      "Epoch 17/20: 100%|██████████| 69/69 [00:00<00:00, 271.14it/s, Batch Loss=0.0226]\n",
      "Epoch 18/20: 100%|██████████| 69/69 [00:00<00:00, 270.19it/s, Batch Loss=0.0219]\n",
      "Epoch 19/20: 100%|██████████| 69/69 [00:00<00:00, 244.29it/s, Batch Loss=0.0212]\n",
      "Epoch 20/20: 100%|██████████| 69/69 [00:00<00:00, 256.26it/s, Batch Loss=0.0204]\n"
     ]
    },
    {
     "name": "stdout",
     "output_type": "stream",
     "text": [
      "Training on Client 4\n"
     ]
    },
    {
     "name": "stderr",
     "output_type": "stream",
     "text": [
      "Epoch 1/20: 100%|██████████| 50/50 [00:00<00:00, 278.40it/s, Batch Loss=4.18]\n",
      "Epoch 2/20: 100%|██████████| 50/50 [00:00<00:00, 279.00it/s, Batch Loss=3.23]\n",
      "Epoch 3/20: 100%|██████████| 50/50 [00:00<00:00, 278.56it/s, Batch Loss=2.94]\n",
      "Epoch 4/20: 100%|██████████| 50/50 [00:00<00:00, 223.49it/s, Batch Loss=2.75]\n",
      "Epoch 5/20: 100%|██████████| 50/50 [00:00<00:00, 276.97it/s, Batch Loss=2.62]\n",
      "Epoch 6/20: 100%|██████████| 50/50 [00:00<00:00, 283.34it/s, Batch Loss=2.52]\n",
      "Epoch 7/20: 100%|██████████| 50/50 [00:00<00:00, 281.19it/s, Batch Loss=2.42]\n",
      "Epoch 8/20: 100%|██████████| 50/50 [00:00<00:00, 281.49it/s, Batch Loss=2.33]\n",
      "Epoch 9/20: 100%|██████████| 50/50 [00:00<00:00, 221.66it/s, Batch Loss=2.25]\n",
      "Epoch 10/20: 100%|██████████| 50/50 [00:00<00:00, 264.55it/s, Batch Loss=2.17]\n",
      "Epoch 11/20: 100%|██████████| 50/50 [00:00<00:00, 279.76it/s, Batch Loss=2.09]\n",
      "Epoch 12/20: 100%|██████████| 50/50 [00:00<00:00, 282.94it/s, Batch Loss=2.02]\n",
      "Epoch 13/20: 100%|██████████| 50/50 [00:00<00:00, 278.06it/s, Batch Loss=1.94]\n",
      "Epoch 14/20: 100%|██████████| 50/50 [00:00<00:00, 238.91it/s, Batch Loss=1.87]\n",
      "Epoch 15/20: 100%|██████████| 50/50 [00:00<00:00, 253.45it/s, Batch Loss=1.79]\n",
      "Epoch 16/20: 100%|██████████| 50/50 [00:00<00:00, 280.45it/s, Batch Loss=1.72]\n",
      "Epoch 17/20: 100%|██████████| 50/50 [00:00<00:00, 282.46it/s, Batch Loss=1.65]\n",
      "Epoch 18/20: 100%|██████████| 50/50 [00:00<00:00, 282.18it/s, Batch Loss=1.58]\n",
      "Epoch 19/20: 100%|██████████| 50/50 [00:00<00:00, 258.49it/s, Batch Loss=1.51]\n",
      "Epoch 20/20: 100%|██████████| 50/50 [00:00<00:00, 243.95it/s, Batch Loss=1.45]\n"
     ]
    },
    {
     "name": "stdout",
     "output_type": "stream",
     "text": [
      "\n",
      "Evaluating Client 0\n",
      "Client 0 Accuracy: 74.24%\n",
      "\n",
      "Evaluating Client 1\n",
      "Client 1 Accuracy: 76.34%\n",
      "\n",
      "Evaluating Client 2\n",
      "Client 2 Accuracy: 78.57%\n",
      "\n",
      "Evaluating Client 3\n",
      "Client 3 Accuracy: 75.51%\n",
      "\n",
      "Evaluating Client 4\n",
      "Client 4 Accuracy: 83.12%\n",
      "Total Accuracy: 77.18%\n",
      "Round 2 Accuracy: 77.1750\n",
      "\n",
      "Round 3/3\n",
      "Training on Client 0\n"
     ]
    },
    {
     "name": "stderr",
     "output_type": "stream",
     "text": [
      "Epoch 1/20: 100%|██████████| 85/85 [00:00<00:00, 270.45it/s, Batch Loss=0.438]\n",
      "Epoch 2/20: 100%|██████████| 85/85 [00:00<00:00, 252.79it/s, Batch Loss=0.289]\n",
      "Epoch 3/20: 100%|██████████| 85/85 [00:00<00:00, 267.47it/s, Batch Loss=0.248]\n",
      "Epoch 4/20: 100%|██████████| 85/85 [00:00<00:00, 280.07it/s, Batch Loss=0.217]\n",
      "Epoch 5/20: 100%|██████████| 85/85 [00:00<00:00, 250.35it/s, Batch Loss=0.196]\n",
      "Epoch 6/20: 100%|██████████| 85/85 [00:00<00:00, 262.77it/s, Batch Loss=0.178]\n",
      "Epoch 7/20: 100%|██████████| 85/85 [00:00<00:00, 280.34it/s, Batch Loss=0.163]\n",
      "Epoch 8/20: 100%|██████████| 85/85 [00:00<00:00, 261.98it/s, Batch Loss=0.15]\n",
      "Epoch 9/20: 100%|██████████| 85/85 [00:00<00:00, 252.15it/s, Batch Loss=0.138]\n",
      "Epoch 10/20: 100%|██████████| 85/85 [00:00<00:00, 270.09it/s, Batch Loss=0.128]\n",
      "Epoch 11/20: 100%|██████████| 85/85 [00:00<00:00, 250.33it/s, Batch Loss=0.121]\n",
      "Epoch 12/20: 100%|██████████| 85/85 [00:00<00:00, 251.23it/s, Batch Loss=0.114]\n",
      "Epoch 13/20: 100%|██████████| 85/85 [00:00<00:00, 272.52it/s, Batch Loss=0.107]\n",
      "Epoch 14/20: 100%|██████████| 85/85 [00:00<00:00, 186.72it/s, Batch Loss=0.101]\n",
      "Epoch 15/20: 100%|██████████| 85/85 [00:00<00:00, 205.25it/s, Batch Loss=0.0951]\n",
      "Epoch 16/20: 100%|██████████| 85/85 [00:00<00:00, 221.58it/s, Batch Loss=0.0919]\n",
      "Epoch 17/20: 100%|██████████| 85/85 [00:00<00:00, 202.84it/s, Batch Loss=0.0878]\n",
      "Epoch 18/20: 100%|██████████| 85/85 [00:00<00:00, 202.94it/s, Batch Loss=0.0845]\n",
      "Epoch 19/20: 100%|██████████| 85/85 [00:00<00:00, 185.68it/s, Batch Loss=0.0817]\n",
      "Epoch 20/20: 100%|██████████| 85/85 [00:00<00:00, 250.50it/s, Batch Loss=0.0782]\n"
     ]
    },
    {
     "name": "stdout",
     "output_type": "stream",
     "text": [
      "Training on Client 1\n"
     ]
    },
    {
     "name": "stderr",
     "output_type": "stream",
     "text": [
      "Epoch 1/20: 100%|██████████| 78/78 [00:00<00:00, 260.21it/s, Batch Loss=0.0336]\n",
      "Epoch 2/20: 100%|██████████| 78/78 [00:00<00:00, 242.87it/s, Batch Loss=0.00594]\n",
      "Epoch 3/20: 100%|██████████| 78/78 [00:00<00:00, 263.36it/s, Batch Loss=0.0125]\n",
      "Epoch 4/20: 100%|██████████| 78/78 [00:00<00:00, 270.94it/s, Batch Loss=0.0163]\n",
      "Epoch 5/20: 100%|██████████| 78/78 [00:00<00:00, 243.84it/s, Batch Loss=0.0179]\n",
      "Epoch 6/20: 100%|██████████| 78/78 [00:00<00:00, 269.22it/s, Batch Loss=0.0185]\n",
      "Epoch 7/20: 100%|██████████| 78/78 [00:00<00:00, 274.92it/s, Batch Loss=0.0175]\n",
      "Epoch 8/20: 100%|██████████| 78/78 [00:00<00:00, 244.64it/s, Batch Loss=0.0171]\n",
      "Epoch 9/20: 100%|██████████| 78/78 [00:00<00:00, 268.76it/s, Batch Loss=0.0164]\n",
      "Epoch 10/20: 100%|██████████| 78/78 [00:00<00:00, 268.19it/s, Batch Loss=0.016]\n",
      "Epoch 11/20: 100%|██████████| 78/78 [00:00<00:00, 266.00it/s, Batch Loss=0.0155]\n",
      "Epoch 12/20: 100%|██████████| 78/78 [00:00<00:00, 249.12it/s, Batch Loss=0.0148]\n",
      "Epoch 13/20: 100%|██████████| 78/78 [00:00<00:00, 263.12it/s, Batch Loss=0.0149]\n",
      "Epoch 14/20: 100%|██████████| 78/78 [00:00<00:00, 264.44it/s, Batch Loss=0.0146]\n",
      "Epoch 15/20: 100%|██████████| 78/78 [00:00<00:00, 248.41it/s, Batch Loss=0.0143]\n",
      "Epoch 16/20: 100%|██████████| 78/78 [00:00<00:00, 267.68it/s, Batch Loss=0.0139]\n",
      "Epoch 17/20: 100%|██████████| 78/78 [00:00<00:00, 271.37it/s, Batch Loss=0.0134]\n",
      "Epoch 18/20: 100%|██████████| 78/78 [00:00<00:00, 239.85it/s, Batch Loss=0.0128]\n",
      "Epoch 19/20: 100%|██████████| 78/78 [00:00<00:00, 278.50it/s, Batch Loss=0.0127]\n",
      "Epoch 20/20: 100%|██████████| 78/78 [00:00<00:00, 274.03it/s, Batch Loss=0.0125]\n"
     ]
    },
    {
     "name": "stdout",
     "output_type": "stream",
     "text": [
      "Training on Client 2\n"
     ]
    },
    {
     "name": "stderr",
     "output_type": "stream",
     "text": [
      "Epoch 1/20: 100%|██████████| 96/96 [00:00<00:00, 253.47it/s, Batch Loss=0.0868]\n",
      "Epoch 2/20: 100%|██████████| 96/96 [00:00<00:00, 272.64it/s, Batch Loss=0.058]\n",
      "Epoch 3/20: 100%|██████████| 96/96 [00:00<00:00, 275.01it/s, Batch Loss=0.0315]\n",
      "Epoch 4/20: 100%|██████████| 96/96 [00:00<00:00, 243.76it/s, Batch Loss=0.0187]\n",
      "Epoch 5/20: 100%|██████████| 96/96 [00:00<00:00, 266.13it/s, Batch Loss=0.0119]\n",
      "Epoch 6/20: 100%|██████████| 96/96 [00:00<00:00, 261.27it/s, Batch Loss=0.00961]\n",
      "Epoch 7/20: 100%|██████████| 96/96 [00:00<00:00, 266.66it/s, Batch Loss=0.00752]\n",
      "Epoch 8/20: 100%|██████████| 96/96 [00:00<00:00, 270.44it/s, Batch Loss=0.00636]\n",
      "Epoch 9/20: 100%|██████████| 96/96 [00:00<00:00, 257.24it/s, Batch Loss=0.00548]\n",
      "Epoch 10/20: 100%|██████████| 96/96 [00:00<00:00, 218.07it/s, Batch Loss=0.00508]\n",
      "Epoch 11/20: 100%|██████████| 96/96 [00:00<00:00, 200.37it/s, Batch Loss=0.0043]\n",
      "Epoch 12/20: 100%|██████████| 96/96 [00:00<00:00, 218.31it/s, Batch Loss=0.00365]\n",
      "Epoch 13/20: 100%|██████████| 96/96 [00:00<00:00, 192.53it/s, Batch Loss=0.00308]\n",
      "Epoch 14/20: 100%|██████████| 96/96 [00:00<00:00, 190.16it/s, Batch Loss=0.00275]\n",
      "Epoch 15/20: 100%|██████████| 96/96 [00:00<00:00, 234.62it/s, Batch Loss=0.00249]\n",
      "Epoch 16/20: 100%|██████████| 96/96 [00:00<00:00, 256.18it/s, Batch Loss=0.0023]\n",
      "Epoch 17/20: 100%|██████████| 96/96 [00:00<00:00, 273.61it/s, Batch Loss=0.00213]\n",
      "Epoch 18/20: 100%|██████████| 96/96 [00:00<00:00, 228.59it/s, Batch Loss=0.002]\n",
      "Epoch 19/20: 100%|██████████| 96/96 [00:00<00:00, 262.34it/s, Batch Loss=0.00196]\n",
      "Epoch 20/20: 100%|██████████| 96/96 [00:00<00:00, 258.49it/s, Batch Loss=0.00187]\n"
     ]
    },
    {
     "name": "stdout",
     "output_type": "stream",
     "text": [
      "Training on Client 3\n"
     ]
    },
    {
     "name": "stderr",
     "output_type": "stream",
     "text": [
      "Epoch 1/20: 100%|██████████| 69/69 [00:00<00:00, 252.53it/s, Batch Loss=2.2e-6]\n",
      "Epoch 2/20: 100%|██████████| 69/69 [00:00<00:00, 281.45it/s, Batch Loss=0.0374]\n",
      "Epoch 3/20: 100%|██████████| 69/69 [00:00<00:00, 284.00it/s, Batch Loss=0.0342]\n",
      "Epoch 4/20: 100%|██████████| 69/69 [00:00<00:00, 266.54it/s, Batch Loss=0.0331]\n",
      "Epoch 5/20: 100%|██████████| 69/69 [00:00<00:00, 236.15it/s, Batch Loss=0.0326]\n",
      "Epoch 6/20: 100%|██████████| 69/69 [00:00<00:00, 277.68it/s, Batch Loss=0.03]\n",
      "Epoch 7/20: 100%|██████████| 69/69 [00:00<00:00, 273.63it/s, Batch Loss=0.0281]\n",
      "Epoch 8/20: 100%|██████████| 69/69 [00:00<00:00, 247.42it/s, Batch Loss=0.0248]\n",
      "Epoch 9/20: 100%|██████████| 69/69 [00:00<00:00, 258.15it/s, Batch Loss=0.0233]\n",
      "Epoch 10/20: 100%|██████████| 69/69 [00:00<00:00, 280.00it/s, Batch Loss=0.0224]\n",
      "Epoch 11/20: 100%|██████████| 69/69 [00:00<00:00, 261.29it/s, Batch Loss=0.0217]\n",
      "Epoch 12/20: 100%|██████████| 69/69 [00:00<00:00, 240.03it/s, Batch Loss=0.0214]\n",
      "Epoch 13/20: 100%|██████████| 69/69 [00:00<00:00, 262.43it/s, Batch Loss=0.021]\n",
      "Epoch 14/20: 100%|██████████| 69/69 [00:00<00:00, 262.55it/s, Batch Loss=0.0204]\n",
      "Epoch 15/20: 100%|██████████| 69/69 [00:00<00:00, 248.37it/s, Batch Loss=0.02]\n",
      "Epoch 16/20: 100%|██████████| 69/69 [00:00<00:00, 239.32it/s, Batch Loss=0.0198]\n",
      "Epoch 17/20: 100%|██████████| 69/69 [00:00<00:00, 266.99it/s, Batch Loss=0.0194]\n",
      "Epoch 18/20: 100%|██████████| 69/69 [00:00<00:00, 272.03it/s, Batch Loss=0.0192]\n",
      "Epoch 19/20: 100%|██████████| 69/69 [00:00<00:00, 239.53it/s, Batch Loss=0.0187]\n",
      "Epoch 20/20: 100%|██████████| 69/69 [00:00<00:00, 262.90it/s, Batch Loss=0.0179]\n"
     ]
    },
    {
     "name": "stdout",
     "output_type": "stream",
     "text": [
      "Training on Client 4\n"
     ]
    },
    {
     "name": "stderr",
     "output_type": "stream",
     "text": [
      "Epoch 1/20: 100%|██████████| 50/50 [00:00<00:00, 277.28it/s, Batch Loss=25.4]\n",
      "Epoch 2/20: 100%|██████████| 50/50 [00:00<00:00, 279.59it/s, Batch Loss=2.98]\n",
      "Epoch 3/20: 100%|██████████| 50/50 [00:00<00:00, 272.10it/s, Batch Loss=1.27]\n",
      "Epoch 4/20: 100%|██████████| 50/50 [00:00<00:00, 216.17it/s, Batch Loss=0.877]\n",
      "Epoch 5/20: 100%|██████████| 50/50 [00:00<00:00, 275.15it/s, Batch Loss=0.719]\n",
      "Epoch 6/20: 100%|██████████| 50/50 [00:00<00:00, 274.75it/s, Batch Loss=0.627]\n",
      "Epoch 7/20: 100%|██████████| 50/50 [00:00<00:00, 279.76it/s, Batch Loss=0.554]\n",
      "Epoch 8/20: 100%|██████████| 50/50 [00:00<00:00, 264.23it/s, Batch Loss=0.5]\n",
      "Epoch 9/20: 100%|██████████| 50/50 [00:00<00:00, 223.15it/s, Batch Loss=0.456]\n",
      "Epoch 10/20: 100%|██████████| 50/50 [00:00<00:00, 271.21it/s, Batch Loss=0.414]\n",
      "Epoch 11/20: 100%|██████████| 50/50 [00:00<00:00, 277.88it/s, Batch Loss=0.377]\n",
      "Epoch 12/20: 100%|██████████| 50/50 [00:00<00:00, 252.53it/s, Batch Loss=0.343]\n",
      "Epoch 13/20: 100%|██████████| 50/50 [00:00<00:00, 196.62it/s, Batch Loss=0.316]\n",
      "Epoch 14/20: 100%|██████████| 50/50 [00:00<00:00, 191.35it/s, Batch Loss=0.288]\n",
      "Epoch 15/20: 100%|██████████| 50/50 [00:00<00:00, 197.58it/s, Batch Loss=0.267]\n",
      "Epoch 16/20: 100%|██████████| 50/50 [00:00<00:00, 206.57it/s, Batch Loss=0.245]\n",
      "Epoch 17/20: 100%|██████████| 50/50 [00:00<00:00, 205.66it/s, Batch Loss=0.227]\n",
      "Epoch 18/20: 100%|██████████| 50/50 [00:00<00:00, 76.35it/s, Batch Loss=0.213]\n",
      "Epoch 19/20: 100%|██████████| 50/50 [00:00<00:00, 148.35it/s, Batch Loss=0.199]\n",
      "Epoch 20/20: 100%|██████████| 50/50 [00:00<00:00, 199.82it/s, Batch Loss=0.185]\n"
     ]
    },
    {
     "name": "stdout",
     "output_type": "stream",
     "text": [
      "\n",
      "Evaluating Client 0\n",
      "Client 0 Accuracy: 85.09%\n",
      "\n",
      "Evaluating Client 1\n",
      "Client 1 Accuracy: 84.78%\n",
      "\n",
      "Evaluating Client 2\n",
      "Client 2 Accuracy: 86.92%\n",
      "\n",
      "Evaluating Client 3\n",
      "Client 3 Accuracy: 79.86%\n",
      "\n",
      "Evaluating Client 4\n",
      "Client 4 Accuracy: 91.59%\n",
      "Total Accuracy: 85.38%\n",
      "Round 3 Accuracy: 85.3833\n",
      "\n",
      "Running SCAFFOLD with Dirichlet Alpha = 0.5\n",
      "\n",
      "Round 1/3\n",
      "Training on Client 0\n"
     ]
    },
    {
     "name": "stderr",
     "output_type": "stream",
     "text": [
      "Epoch 1/20: 100%|██████████| 76/76 [00:00<00:00, 229.88it/s, Batch Loss=0.556]\n",
      "Epoch 2/20: 100%|██████████| 76/76 [00:00<00:00, 242.83it/s, Batch Loss=0.189]\n",
      "Epoch 3/20: 100%|██████████| 76/76 [00:00<00:00, 252.97it/s, Batch Loss=0.175]\n",
      "Epoch 4/20: 100%|██████████| 76/76 [00:00<00:00, 267.39it/s, Batch Loss=0.162]\n",
      "Epoch 5/20: 100%|██████████| 76/76 [00:00<00:00, 265.03it/s, Batch Loss=0.142]\n",
      "Epoch 6/20: 100%|██████████| 76/76 [00:00<00:00, 249.76it/s, Batch Loss=0.119]\n",
      "Epoch 7/20: 100%|██████████| 76/76 [00:00<00:00, 278.28it/s, Batch Loss=0.1]\n",
      "Epoch 8/20: 100%|██████████| 76/76 [00:00<00:00, 271.49it/s, Batch Loss=0.0868]\n",
      "Epoch 9/20: 100%|██████████| 76/76 [00:00<00:00, 244.13it/s, Batch Loss=0.0781]\n",
      "Epoch 10/20: 100%|██████████| 76/76 [00:00<00:00, 262.56it/s, Batch Loss=0.0727]\n",
      "Epoch 11/20: 100%|██████████| 76/76 [00:00<00:00, 272.96it/s, Batch Loss=0.0698]\n",
      "Epoch 12/20: 100%|██████████| 76/76 [00:00<00:00, 251.38it/s, Batch Loss=0.0682]\n",
      "Epoch 13/20: 100%|██████████| 76/76 [00:00<00:00, 255.00it/s, Batch Loss=0.0676]\n",
      "Epoch 14/20: 100%|██████████| 76/76 [00:00<00:00, 270.70it/s, Batch Loss=0.0672]\n",
      "Epoch 15/20: 100%|██████████| 76/76 [00:00<00:00, 271.22it/s, Batch Loss=0.0668]\n",
      "Epoch 16/20: 100%|██████████| 76/76 [00:00<00:00, 248.76it/s, Batch Loss=0.0663]\n",
      "Epoch 17/20: 100%|██████████| 76/76 [00:00<00:00, 261.75it/s, Batch Loss=0.066]\n",
      "Epoch 18/20: 100%|██████████| 76/76 [00:00<00:00, 275.37it/s, Batch Loss=0.0657]\n",
      "Epoch 19/20: 100%|██████████| 76/76 [00:00<00:00, 241.99it/s, Batch Loss=0.0653]\n",
      "Epoch 20/20: 100%|██████████| 76/76 [00:00<00:00, 262.77it/s, Batch Loss=0.0647]\n"
     ]
    },
    {
     "name": "stdout",
     "output_type": "stream",
     "text": [
      "Training on Client 1\n"
     ]
    },
    {
     "name": "stderr",
     "output_type": "stream",
     "text": [
      "Epoch 1/20: 100%|██████████| 94/94 [00:00<00:00, 267.21it/s, Batch Loss=1.71]\n",
      "Epoch 2/20: 100%|██████████| 94/94 [00:00<00:00, 249.21it/s, Batch Loss=1.1]\n",
      "Epoch 3/20: 100%|██████████| 94/94 [00:00<00:00, 261.95it/s, Batch Loss=0.936]\n",
      "Epoch 4/20: 100%|██████████| 94/94 [00:00<00:00, 266.16it/s, Batch Loss=0.785]\n",
      "Epoch 5/20: 100%|██████████| 94/94 [00:00<00:00, 242.26it/s, Batch Loss=0.62]\n",
      "Epoch 6/20: 100%|██████████| 94/94 [00:00<00:00, 265.48it/s, Batch Loss=0.471]\n",
      "Epoch 7/20: 100%|██████████| 94/94 [00:00<00:00, 236.06it/s, Batch Loss=0.348]\n",
      "Epoch 8/20: 100%|██████████| 94/94 [00:00<00:00, 244.24it/s, Batch Loss=0.262]\n",
      "Epoch 9/20: 100%|██████████| 94/94 [00:00<00:00, 202.89it/s, Batch Loss=0.212]\n",
      "Epoch 10/20: 100%|██████████| 94/94 [00:00<00:00, 203.27it/s, Batch Loss=0.18]\n",
      "Epoch 11/20: 100%|██████████| 94/94 [00:00<00:00, 216.43it/s, Batch Loss=0.163]\n",
      "Epoch 12/20: 100%|██████████| 94/94 [00:00<00:00, 181.10it/s, Batch Loss=0.157]\n",
      "Epoch 13/20: 100%|██████████| 94/94 [00:00<00:00, 194.18it/s, Batch Loss=0.155]\n",
      "Epoch 14/20: 100%|██████████| 94/94 [00:00<00:00, 246.50it/s, Batch Loss=0.151]\n",
      "Epoch 15/20: 100%|██████████| 94/94 [00:00<00:00, 261.20it/s, Batch Loss=0.152]\n",
      "Epoch 16/20: 100%|██████████| 94/94 [00:00<00:00, 254.87it/s, Batch Loss=0.152]\n",
      "Epoch 17/20: 100%|██████████| 94/94 [00:00<00:00, 255.01it/s, Batch Loss=0.149]\n",
      "Epoch 18/20: 100%|██████████| 94/94 [00:00<00:00, 262.19it/s, Batch Loss=0.149]\n",
      "Epoch 19/20: 100%|██████████| 94/94 [00:00<00:00, 253.71it/s, Batch Loss=0.147]\n",
      "Epoch 20/20: 100%|██████████| 94/94 [00:00<00:00, 263.36it/s, Batch Loss=0.145]\n"
     ]
    },
    {
     "name": "stdout",
     "output_type": "stream",
     "text": [
      "Training on Client 2\n"
     ]
    },
    {
     "name": "stderr",
     "output_type": "stream",
     "text": [
      "Epoch 1/20: 100%|██████████| 61/61 [00:00<00:00, 253.01it/s, Batch Loss=3.01]\n",
      "Epoch 2/20: 100%|██████████| 61/61 [00:00<00:00, 251.09it/s, Batch Loss=4.13]\n",
      "Epoch 3/20: 100%|██████████| 61/61 [00:00<00:00, 242.56it/s, Batch Loss=4.54]\n",
      "Epoch 4/20: 100%|██████████| 61/61 [00:00<00:00, 221.84it/s, Batch Loss=4.74]\n",
      "Epoch 5/20: 100%|██████████| 61/61 [00:00<00:00, 122.76it/s, Batch Loss=4.93]\n",
      "Epoch 6/20: 100%|██████████| 61/61 [00:00<00:00, 263.84it/s, Batch Loss=5.12]\n",
      "Epoch 7/20: 100%|██████████| 61/61 [00:00<00:00, 271.71it/s, Batch Loss=5.28]\n",
      "Epoch 8/20: 100%|██████████| 61/61 [00:00<00:00, 256.38it/s, Batch Loss=5.37]\n",
      "Epoch 9/20: 100%|██████████| 61/61 [00:00<00:00, 248.52it/s, Batch Loss=5.36]\n",
      "Epoch 10/20: 100%|██████████| 61/61 [00:00<00:00, 231.46it/s, Batch Loss=5.26]\n",
      "Epoch 11/20: 100%|██████████| 61/61 [00:00<00:00, 273.04it/s, Batch Loss=5.1]\n",
      "Epoch 12/20: 100%|██████████| 61/61 [00:00<00:00, 261.69it/s, Batch Loss=4.91]\n",
      "Epoch 13/20: 100%|██████████| 61/61 [00:00<00:00, 239.24it/s, Batch Loss=4.73]\n",
      "Epoch 14/20: 100%|██████████| 61/61 [00:00<00:00, 236.48it/s, Batch Loss=4.56]\n",
      "Epoch 15/20: 100%|██████████| 61/61 [00:00<00:00, 267.50it/s, Batch Loss=4.41]\n",
      "Epoch 16/20: 100%|██████████| 61/61 [00:00<00:00, 270.28it/s, Batch Loss=4.27]\n",
      "Epoch 17/20: 100%|██████████| 61/61 [00:00<00:00, 237.73it/s, Batch Loss=4.13]\n",
      "Epoch 18/20: 100%|██████████| 61/61 [00:00<00:00, 239.78it/s, Batch Loss=4]\n",
      "Epoch 19/20: 100%|██████████| 61/61 [00:00<00:00, 250.76it/s, Batch Loss=3.88]\n",
      "Epoch 20/20: 100%|██████████| 61/61 [00:00<00:00, 267.83it/s, Batch Loss=3.77]\n"
     ]
    },
    {
     "name": "stdout",
     "output_type": "stream",
     "text": [
      "Training on Client 3\n"
     ]
    },
    {
     "name": "stderr",
     "output_type": "stream",
     "text": [
      "Epoch 1/20: 100%|██████████| 101/101 [00:00<00:00, 235.79it/s, Batch Loss=0.633]\n",
      "Epoch 2/20: 100%|██████████| 101/101 [00:00<00:00, 265.05it/s, Batch Loss=0.269]\n",
      "Epoch 3/20: 100%|██████████| 101/101 [00:00<00:00, 248.87it/s, Batch Loss=0.214]\n",
      "Epoch 4/20: 100%|██████████| 101/101 [00:00<00:00, 248.83it/s, Batch Loss=0.168]\n",
      "Epoch 5/20: 100%|██████████| 101/101 [00:00<00:00, 273.33it/s, Batch Loss=0.127]\n",
      "Epoch 6/20: 100%|██████████| 101/101 [00:00<00:00, 200.91it/s, Batch Loss=0.0958]\n",
      "Epoch 7/20: 100%|██████████| 101/101 [00:00<00:00, 208.15it/s, Batch Loss=0.0786]\n",
      "Epoch 8/20: 100%|██████████| 101/101 [00:00<00:00, 216.45it/s, Batch Loss=0.0716]\n",
      "Epoch 9/20: 100%|██████████| 101/101 [00:00<00:00, 201.72it/s, Batch Loss=0.0716]\n",
      "Epoch 10/20: 100%|██████████| 101/101 [00:00<00:00, 178.19it/s, Batch Loss=0.0779]\n",
      "Epoch 11/20: 100%|██████████| 101/101 [00:00<00:00, 265.68it/s, Batch Loss=0.0882]\n",
      "Epoch 12/20: 100%|██████████| 101/101 [00:00<00:00, 251.74it/s, Batch Loss=0.1]\n",
      "Epoch 13/20: 100%|██████████| 101/101 [00:00<00:00, 269.76it/s, Batch Loss=0.111]\n",
      "Epoch 14/20: 100%|██████████| 101/101 [00:00<00:00, 270.58it/s, Batch Loss=0.12]\n",
      "Epoch 15/20: 100%|██████████| 101/101 [00:00<00:00, 244.01it/s, Batch Loss=0.126]\n",
      "Epoch 16/20: 100%|██████████| 101/101 [00:00<00:00, 270.48it/s, Batch Loss=0.13]\n",
      "Epoch 17/20: 100%|██████████| 101/101 [00:00<00:00, 241.85it/s, Batch Loss=0.134]\n",
      "Epoch 18/20: 100%|██████████| 101/101 [00:00<00:00, 268.82it/s, Batch Loss=0.138]\n",
      "Epoch 19/20: 100%|██████████| 101/101 [00:00<00:00, 269.86it/s, Batch Loss=0.141]\n",
      "Epoch 20/20: 100%|██████████| 101/101 [00:00<00:00, 249.01it/s, Batch Loss=0.143]\n"
     ]
    },
    {
     "name": "stdout",
     "output_type": "stream",
     "text": [
      "Training on Client 4\n"
     ]
    },
    {
     "name": "stderr",
     "output_type": "stream",
     "text": [
      "Epoch 1/20: 100%|██████████| 46/46 [00:00<00:00, 258.74it/s, Batch Loss=1.96]\n",
      "Epoch 2/20: 100%|██████████| 46/46 [00:00<00:00, 274.41it/s, Batch Loss=1.12]\n",
      "Epoch 3/20: 100%|██████████| 46/46 [00:00<00:00, 276.62it/s, Batch Loss=0.86]\n",
      "Epoch 4/20: 100%|██████████| 46/46 [00:00<00:00, 235.90it/s, Batch Loss=0.669]\n",
      "Epoch 5/20: 100%|██████████| 46/46 [00:00<00:00, 235.56it/s, Batch Loss=0.473]\n",
      "Epoch 6/20: 100%|██████████| 46/46 [00:00<00:00, 278.45it/s, Batch Loss=0.315]\n",
      "Epoch 7/20: 100%|██████████| 46/46 [00:00<00:00, 271.22it/s, Batch Loss=0.212]\n",
      "Epoch 8/20: 100%|██████████| 46/46 [00:00<00:00, 262.08it/s, Batch Loss=0.153]\n",
      "Epoch 9/20: 100%|██████████| 46/46 [00:00<00:00, 250.33it/s, Batch Loss=0.118]\n",
      "Epoch 10/20: 100%|██████████| 46/46 [00:00<00:00, 236.52it/s, Batch Loss=0.0978]\n",
      "Epoch 11/20: 100%|██████████| 46/46 [00:00<00:00, 273.86it/s, Batch Loss=0.0858]\n",
      "Epoch 12/20: 100%|██████████| 46/46 [00:00<00:00, 268.04it/s, Batch Loss=0.0789]\n",
      "Epoch 13/20: 100%|██████████| 46/46 [00:00<00:00, 263.80it/s, Batch Loss=0.075]\n",
      "Epoch 14/20: 100%|██████████| 46/46 [00:00<00:00, 271.26it/s, Batch Loss=0.0727]\n",
      "Epoch 15/20: 100%|██████████| 46/46 [00:00<00:00, 224.78it/s, Batch Loss=0.0719]\n",
      "Epoch 16/20: 100%|██████████| 46/46 [00:00<00:00, 253.85it/s, Batch Loss=0.0723]\n",
      "Epoch 17/20: 100%|██████████| 46/46 [00:00<00:00, 272.78it/s, Batch Loss=0.0732]\n",
      "Epoch 18/20: 100%|██████████| 46/46 [00:00<00:00, 272.78it/s, Batch Loss=0.0741]\n",
      "Epoch 19/20: 100%|██████████| 46/46 [00:00<00:00, 262.93it/s, Batch Loss=0.0751]\n",
      "Epoch 20/20: 100%|██████████| 46/46 [00:00<00:00, 238.57it/s, Batch Loss=0.0765]\n"
     ]
    },
    {
     "name": "stdout",
     "output_type": "stream",
     "text": [
      "\n",
      "Evaluating Client 0\n",
      "Client 0 Accuracy: 31.53%\n",
      "\n",
      "Evaluating Client 1\n",
      "Client 1 Accuracy: 12.58%\n",
      "\n",
      "Evaluating Client 2\n",
      "Client 2 Accuracy: 55.21%\n",
      "\n",
      "Evaluating Client 3\n",
      "Client 3 Accuracy: 30.23%\n",
      "\n",
      "Evaluating Client 4\n",
      "Client 4 Accuracy: 47.94%\n",
      "Total Accuracy: 32.48%\n",
      "Round 1 Accuracy: 32.4833\n",
      "\n",
      "Round 2/3\n",
      "Training on Client 0\n"
     ]
    },
    {
     "name": "stderr",
     "output_type": "stream",
     "text": [
      "Epoch 1/20: 100%|██████████| 76/76 [00:00<00:00, 271.84it/s, Batch Loss=0.0285]\n",
      "Epoch 2/20: 100%|██████████| 76/76 [00:00<00:00, 272.63it/s, Batch Loss=0.0299]\n",
      "Epoch 3/20: 100%|██████████| 76/76 [00:00<00:00, 245.34it/s, Batch Loss=0.0304]\n",
      "Epoch 4/20: 100%|██████████| 76/76 [00:00<00:00, 260.50it/s, Batch Loss=0.0309]\n",
      "Epoch 5/20: 100%|██████████| 76/76 [00:00<00:00, 264.50it/s, Batch Loss=0.0316]\n",
      "Epoch 6/20: 100%|██████████| 76/76 [00:00<00:00, 244.11it/s, Batch Loss=0.032]\n",
      "Epoch 7/20: 100%|██████████| 76/76 [00:00<00:00, 248.68it/s, Batch Loss=0.0322]\n",
      "Epoch 8/20: 100%|██████████| 76/76 [00:00<00:00, 190.30it/s, Batch Loss=0.0321]\n",
      "Epoch 9/20: 100%|██████████| 76/76 [00:00<00:00, 171.38it/s, Batch Loss=0.0321]\n",
      "Epoch 10/20: 100%|██████████| 76/76 [00:00<00:00, 210.01it/s, Batch Loss=0.0318]\n",
      "Epoch 11/20: 100%|██████████| 76/76 [00:00<00:00, 200.84it/s, Batch Loss=0.0315]\n",
      "Epoch 12/20: 100%|██████████| 76/76 [00:00<00:00, 185.72it/s, Batch Loss=0.031]\n",
      "Epoch 13/20: 100%|██████████| 76/76 [00:00<00:00, 197.52it/s, Batch Loss=0.0304]\n",
      "Epoch 14/20: 100%|██████████| 76/76 [00:00<00:00, 237.51it/s, Batch Loss=0.0297]\n",
      "Epoch 15/20: 100%|██████████| 76/76 [00:00<00:00, 259.84it/s, Batch Loss=0.0288]\n",
      "Epoch 16/20: 100%|██████████| 76/76 [00:00<00:00, 244.33it/s, Batch Loss=0.0279]\n",
      "Epoch 17/20: 100%|██████████| 76/76 [00:00<00:00, 247.46it/s, Batch Loss=0.027]\n",
      "Epoch 18/20: 100%|██████████| 76/76 [00:00<00:00, 251.72it/s, Batch Loss=0.0262]\n",
      "Epoch 19/20: 100%|██████████| 76/76 [00:00<00:00, 255.60it/s, Batch Loss=0.0255]\n",
      "Epoch 20/20: 100%|██████████| 76/76 [00:00<00:00, 263.70it/s, Batch Loss=0.0249]\n"
     ]
    },
    {
     "name": "stdout",
     "output_type": "stream",
     "text": [
      "Training on Client 1\n"
     ]
    },
    {
     "name": "stderr",
     "output_type": "stream",
     "text": [
      "Epoch 1/20: 100%|██████████| 94/94 [00:00<00:00, 257.48it/s, Batch Loss=0.0651]\n",
      "Epoch 2/20: 100%|██████████| 94/94 [00:00<00:00, 252.25it/s, Batch Loss=0.0753]\n",
      "Epoch 3/20: 100%|██████████| 94/94 [00:00<00:00, 234.60it/s, Batch Loss=0.0789]\n",
      "Epoch 4/20: 100%|██████████| 94/94 [00:00<00:00, 268.10it/s, Batch Loss=0.0806]\n",
      "Epoch 5/20: 100%|██████████| 94/94 [00:00<00:00, 260.21it/s, Batch Loss=0.0816]\n",
      "Epoch 6/20: 100%|██████████| 94/94 [00:00<00:00, 243.79it/s, Batch Loss=0.0817]\n",
      "Epoch 7/20: 100%|██████████| 94/94 [00:00<00:00, 259.79it/s, Batch Loss=0.0818]\n",
      "Epoch 8/20: 100%|██████████| 94/94 [00:00<00:00, 253.86it/s, Batch Loss=0.0821]\n",
      "Epoch 9/20: 100%|██████████| 94/94 [00:00<00:00, 257.52it/s, Batch Loss=0.0822]\n",
      "Epoch 10/20: 100%|██████████| 94/94 [00:00<00:00, 262.44it/s, Batch Loss=0.0834]\n",
      "Epoch 11/20: 100%|██████████| 94/94 [00:00<00:00, 241.00it/s, Batch Loss=0.0848]\n",
      "Epoch 12/20: 100%|██████████| 94/94 [00:00<00:00, 255.01it/s, Batch Loss=0.0861]\n",
      "Epoch 13/20: 100%|██████████| 94/94 [00:00<00:00, 262.23it/s, Batch Loss=0.0868]\n",
      "Epoch 14/20: 100%|██████████| 94/94 [00:00<00:00, 247.67it/s, Batch Loss=0.0871]\n",
      "Epoch 15/20: 100%|██████████| 94/94 [00:00<00:00, 262.49it/s, Batch Loss=0.0873]\n",
      "Epoch 16/20: 100%|██████████| 94/94 [00:00<00:00, 242.10it/s, Batch Loss=0.0873]\n",
      "Epoch 17/20: 100%|██████████| 94/94 [00:00<00:00, 247.56it/s, Batch Loss=0.0869]\n",
      "Epoch 18/20: 100%|██████████| 94/94 [00:00<00:00, 260.39it/s, Batch Loss=0.0861]\n",
      "Epoch 19/20: 100%|██████████| 94/94 [00:00<00:00, 247.76it/s, Batch Loss=0.0845]\n",
      "Epoch 20/20: 100%|██████████| 94/94 [00:00<00:00, 271.09it/s, Batch Loss=0.0825]\n"
     ]
    },
    {
     "name": "stdout",
     "output_type": "stream",
     "text": [
      "Training on Client 2\n"
     ]
    },
    {
     "name": "stderr",
     "output_type": "stream",
     "text": [
      "Epoch 1/20: 100%|██████████| 61/61 [00:00<00:00, 259.58it/s, Batch Loss=4.22]\n",
      "Epoch 2/20: 100%|██████████| 61/61 [00:00<00:00, 182.64it/s, Batch Loss=3.38]\n",
      "Epoch 3/20: 100%|██████████| 61/61 [00:00<00:00, 189.39it/s, Batch Loss=3.07]\n",
      "Epoch 4/20: 100%|██████████| 61/61 [00:00<00:00, 198.09it/s, Batch Loss=2.89]\n",
      "Epoch 5/20: 100%|██████████| 61/61 [00:00<00:00, 181.65it/s, Batch Loss=2.76]\n",
      "Epoch 6/20: 100%|██████████| 61/61 [00:00<00:00, 193.35it/s, Batch Loss=2.65]\n",
      "Epoch 7/20: 100%|██████████| 61/61 [00:00<00:00, 178.28it/s, Batch Loss=2.55]\n",
      "Epoch 8/20: 100%|██████████| 61/61 [00:00<00:00, 174.71it/s, Batch Loss=2.46]\n",
      "Epoch 9/20: 100%|██████████| 61/61 [00:00<00:00, 212.71it/s, Batch Loss=2.37]\n",
      "Epoch 10/20: 100%|██████████| 61/61 [00:00<00:00, 263.17it/s, Batch Loss=2.29]\n",
      "Epoch 11/20: 100%|██████████| 61/61 [00:00<00:00, 257.99it/s, Batch Loss=2.21]\n",
      "Epoch 12/20: 100%|██████████| 61/61 [00:00<00:00, 231.98it/s, Batch Loss=2.14]\n",
      "Epoch 13/20: 100%|██████████| 61/61 [00:00<00:00, 263.05it/s, Batch Loss=2.08]\n",
      "Epoch 14/20: 100%|██████████| 61/61 [00:00<00:00, 269.65it/s, Batch Loss=2.01]\n",
      "Epoch 15/20: 100%|██████████| 61/61 [00:00<00:00, 251.43it/s, Batch Loss=1.95]\n",
      "Epoch 16/20: 100%|██████████| 61/61 [00:00<00:00, 230.63it/s, Batch Loss=1.89]\n",
      "Epoch 17/20: 100%|██████████| 61/61 [00:00<00:00, 273.52it/s, Batch Loss=1.84]\n",
      "Epoch 18/20: 100%|██████████| 61/61 [00:00<00:00, 269.39it/s, Batch Loss=1.78]\n",
      "Epoch 19/20: 100%|██████████| 61/61 [00:00<00:00, 260.00it/s, Batch Loss=1.73]\n",
      "Epoch 20/20: 100%|██████████| 61/61 [00:00<00:00, 229.05it/s, Batch Loss=1.68]\n"
     ]
    },
    {
     "name": "stdout",
     "output_type": "stream",
     "text": [
      "Training on Client 3\n"
     ]
    },
    {
     "name": "stderr",
     "output_type": "stream",
     "text": [
      "Epoch 1/20: 100%|██████████| 101/101 [00:00<00:00, 275.68it/s, Batch Loss=0.0431]\n",
      "Epoch 2/20: 100%|██████████| 101/101 [00:00<00:00, 265.66it/s, Batch Loss=0.0672]\n",
      "Epoch 3/20: 100%|██████████| 101/101 [00:00<00:00, 226.40it/s, Batch Loss=0.0829]\n",
      "Epoch 4/20: 100%|██████████| 101/101 [00:00<00:00, 267.07it/s, Batch Loss=0.092]\n",
      "Epoch 5/20: 100%|██████████| 101/101 [00:00<00:00, 243.78it/s, Batch Loss=0.0979]\n",
      "Epoch 6/20: 100%|██████████| 101/101 [00:00<00:00, 267.62it/s, Batch Loss=0.101]\n",
      "Epoch 7/20: 100%|██████████| 101/101 [00:00<00:00, 267.54it/s, Batch Loss=0.0993]\n",
      "Epoch 8/20: 100%|██████████| 101/101 [00:00<00:00, 245.52it/s, Batch Loss=0.0944]\n",
      "Epoch 9/20: 100%|██████████| 101/101 [00:00<00:00, 266.36it/s, Batch Loss=0.0861]\n",
      "Epoch 10/20: 100%|██████████| 101/101 [00:00<00:00, 235.29it/s, Batch Loss=0.0783]\n",
      "Epoch 11/20: 100%|██████████| 101/101 [00:00<00:00, 268.59it/s, Batch Loss=0.0698]\n",
      "Epoch 12/20: 100%|██████████| 101/101 [00:00<00:00, 256.35it/s, Batch Loss=0.0624]\n",
      "Epoch 13/20: 100%|██████████| 101/101 [00:00<00:00, 243.94it/s, Batch Loss=0.0561]\n",
      "Epoch 14/20: 100%|██████████| 101/101 [00:00<00:00, 260.79it/s, Batch Loss=0.0497]\n",
      "Epoch 15/20: 100%|██████████| 101/101 [00:00<00:00, 231.06it/s, Batch Loss=0.0447]\n",
      "Epoch 16/20: 100%|██████████| 101/101 [00:00<00:00, 264.81it/s, Batch Loss=0.0404]\n",
      "Epoch 17/20: 100%|██████████| 101/101 [00:00<00:00, 245.16it/s, Batch Loss=0.0365]\n",
      "Epoch 18/20: 100%|██████████| 101/101 [00:00<00:00, 222.53it/s, Batch Loss=0.0333]\n",
      "Epoch 19/20: 100%|██████████| 101/101 [00:00<00:00, 202.97it/s, Batch Loss=0.0309]\n",
      "Epoch 20/20: 100%|██████████| 101/101 [00:00<00:00, 203.19it/s, Batch Loss=0.0286]\n"
     ]
    },
    {
     "name": "stdout",
     "output_type": "stream",
     "text": [
      "Training on Client 4\n"
     ]
    },
    {
     "name": "stderr",
     "output_type": "stream",
     "text": [
      "Epoch 1/20: 100%|██████████| 46/46 [00:00<00:00, 196.45it/s, Batch Loss=0.0312]\n",
      "Epoch 2/20: 100%|██████████| 46/46 [00:00<00:00, 179.53it/s, Batch Loss=0.0379]\n",
      "Epoch 3/20: 100%|██████████| 46/46 [00:00<00:00, 169.99it/s, Batch Loss=0.0398]\n",
      "Epoch 4/20: 100%|██████████| 46/46 [00:00<00:00, 196.08it/s, Batch Loss=0.0416]\n",
      "Epoch 5/20: 100%|██████████| 46/46 [00:00<00:00, 188.18it/s, Batch Loss=0.0435]\n",
      "Epoch 6/20: 100%|██████████| 46/46 [00:00<00:00, 228.93it/s, Batch Loss=0.0456]\n",
      "Epoch 7/20: 100%|██████████| 46/46 [00:00<00:00, 247.53it/s, Batch Loss=0.0477]\n",
      "Epoch 8/20: 100%|██████████| 46/46 [00:00<00:00, 251.17it/s, Batch Loss=0.05]\n",
      "Epoch 9/20: 100%|██████████| 46/46 [00:00<00:00, 257.57it/s, Batch Loss=0.0521]\n",
      "Epoch 10/20: 100%|██████████| 46/46 [00:00<00:00, 256.18it/s, Batch Loss=0.0542]\n",
      "Epoch 11/20: 100%|██████████| 46/46 [00:00<00:00, 247.24it/s, Batch Loss=0.0564]\n",
      "Epoch 12/20: 100%|██████████| 46/46 [00:00<00:00, 232.05it/s, Batch Loss=0.0582]\n",
      "Epoch 13/20: 100%|██████████| 46/46 [00:00<00:00, 256.64it/s, Batch Loss=0.0595]\n",
      "Epoch 14/20: 100%|██████████| 46/46 [00:00<00:00, 266.87it/s, Batch Loss=0.0609]\n",
      "Epoch 15/20: 100%|██████████| 46/46 [00:00<00:00, 261.19it/s, Batch Loss=0.0621]\n",
      "Epoch 16/20: 100%|██████████| 46/46 [00:00<00:00, 269.03it/s, Batch Loss=0.063]\n",
      "Epoch 17/20: 100%|██████████| 46/46 [00:00<00:00, 232.77it/s, Batch Loss=0.0639]\n",
      "Epoch 18/20: 100%|██████████| 46/46 [00:00<00:00, 264.13it/s, Batch Loss=0.0644]\n",
      "Epoch 19/20: 100%|██████████| 46/46 [00:00<00:00, 259.06it/s, Batch Loss=0.0649]\n",
      "Epoch 20/20: 100%|██████████| 46/46 [00:00<00:00, 266.93it/s, Batch Loss=0.0652]\n"
     ]
    },
    {
     "name": "stdout",
     "output_type": "stream",
     "text": [
      "\n",
      "Evaluating Client 0\n",
      "Client 0 Accuracy: 54.53%\n",
      "\n",
      "Evaluating Client 1\n",
      "Client 1 Accuracy: 46.89%\n",
      "\n",
      "Evaluating Client 2\n",
      "Client 2 Accuracy: 78.62%\n",
      "\n",
      "Evaluating Client 3\n",
      "Client 3 Accuracy: 70.90%\n",
      "\n",
      "Evaluating Client 4\n",
      "Client 4 Accuracy: 85.53%\n",
      "Total Accuracy: 64.88%\n",
      "Round 2 Accuracy: 64.8750\n",
      "\n",
      "Round 3/3\n",
      "Training on Client 0\n"
     ]
    },
    {
     "name": "stderr",
     "output_type": "stream",
     "text": [
      "Epoch 1/20: 100%|██████████| 76/76 [00:00<00:00, 249.08it/s, Batch Loss=0.0214]\n",
      "Epoch 2/20: 100%|██████████| 76/76 [00:00<00:00, 267.00it/s, Batch Loss=0.0321]\n",
      "Epoch 3/20: 100%|██████████| 76/76 [00:00<00:00, 275.82it/s, Batch Loss=0.0298]\n",
      "Epoch 4/20: 100%|██████████| 76/76 [00:00<00:00, 257.01it/s, Batch Loss=0.0277]\n",
      "Epoch 5/20: 100%|██████████| 76/76 [00:00<00:00, 250.07it/s, Batch Loss=0.0255]\n",
      "Epoch 6/20: 100%|██████████| 76/76 [00:00<00:00, 269.26it/s, Batch Loss=0.0235]\n",
      "Epoch 7/20: 100%|██████████| 76/76 [00:00<00:00, 271.99it/s, Batch Loss=0.0221]\n",
      "Epoch 8/20: 100%|██████████| 76/76 [00:00<00:00, 248.66it/s, Batch Loss=0.0208]\n",
      "Epoch 9/20: 100%|██████████| 76/76 [00:00<00:00, 266.29it/s, Batch Loss=0.0199]\n",
      "Epoch 10/20: 100%|██████████| 76/76 [00:00<00:00, 275.46it/s, Batch Loss=0.019]\n",
      "Epoch 11/20: 100%|██████████| 76/76 [00:00<00:00, 245.27it/s, Batch Loss=0.0184]\n",
      "Epoch 12/20: 100%|██████████| 76/76 [00:00<00:00, 269.34it/s, Batch Loss=0.0178]\n",
      "Epoch 13/20: 100%|██████████| 76/76 [00:00<00:00, 269.02it/s, Batch Loss=0.0172]\n",
      "Epoch 14/20: 100%|██████████| 76/76 [00:00<00:00, 258.97it/s, Batch Loss=0.0168]\n",
      "Epoch 15/20: 100%|██████████| 76/76 [00:00<00:00, 257.37it/s, Batch Loss=0.0162]\n",
      "Epoch 16/20: 100%|██████████| 76/76 [00:00<00:00, 262.14it/s, Batch Loss=0.0157]\n",
      "Epoch 17/20: 100%|██████████| 76/76 [00:00<00:00, 271.86it/s, Batch Loss=0.0151]\n",
      "Epoch 18/20: 100%|██████████| 76/76 [00:00<00:00, 232.69it/s, Batch Loss=0.0145]\n",
      "Epoch 19/20: 100%|██████████| 76/76 [00:00<00:00, 264.48it/s, Batch Loss=0.0139]\n",
      "Epoch 20/20: 100%|██████████| 76/76 [00:00<00:00, 266.69it/s, Batch Loss=0.0134]\n"
     ]
    },
    {
     "name": "stdout",
     "output_type": "stream",
     "text": [
      "Training on Client 1\n"
     ]
    },
    {
     "name": "stderr",
     "output_type": "stream",
     "text": [
      "Epoch 1/20: 100%|██████████| 94/94 [00:00<00:00, 241.25it/s, Batch Loss=0.135]\n",
      "Epoch 2/20: 100%|██████████| 94/94 [00:00<00:00, 265.08it/s, Batch Loss=0.157]\n",
      "Epoch 3/20: 100%|██████████| 94/94 [00:00<00:00, 250.66it/s, Batch Loss=0.163]\n",
      "Epoch 4/20: 100%|██████████| 94/94 [00:00<00:00, 192.43it/s, Batch Loss=0.154]\n",
      "Epoch 5/20: 100%|██████████| 94/94 [00:00<00:00, 206.37it/s, Batch Loss=0.14]\n",
      "Epoch 6/20: 100%|██████████| 94/94 [00:00<00:00, 195.95it/s, Batch Loss=0.123]\n",
      "Epoch 7/20: 100%|██████████| 94/94 [00:00<00:00, 187.44it/s, Batch Loss=0.106]\n",
      "Epoch 8/20: 100%|██████████| 94/94 [00:00<00:00, 191.27it/s, Batch Loss=0.0924]\n",
      "Epoch 9/20: 100%|██████████| 94/94 [00:00<00:00, 259.95it/s, Batch Loss=0.0796]\n",
      "Epoch 10/20: 100%|██████████| 94/94 [00:00<00:00, 244.16it/s, Batch Loss=0.0689]\n",
      "Epoch 11/20: 100%|██████████| 94/94 [00:00<00:00, 259.62it/s, Batch Loss=0.0603]\n",
      "Epoch 12/20: 100%|██████████| 94/94 [00:00<00:00, 252.73it/s, Batch Loss=0.0531]\n",
      "Epoch 13/20: 100%|██████████| 94/94 [00:00<00:00, 241.47it/s, Batch Loss=0.0468]\n",
      "Epoch 14/20: 100%|██████████| 94/94 [00:00<00:00, 266.26it/s, Batch Loss=0.0413]\n",
      "Epoch 15/20: 100%|██████████| 94/94 [00:00<00:00, 243.20it/s, Batch Loss=0.0374]\n",
      "Epoch 16/20: 100%|██████████| 94/94 [00:00<00:00, 250.85it/s, Batch Loss=0.034]\n",
      "Epoch 17/20: 100%|██████████| 94/94 [00:00<00:00, 266.53it/s, Batch Loss=0.0311]\n",
      "Epoch 18/20: 100%|██████████| 94/94 [00:00<00:00, 239.10it/s, Batch Loss=0.0286]\n",
      "Epoch 19/20: 100%|██████████| 94/94 [00:00<00:00, 253.62it/s, Batch Loss=0.0268]\n",
      "Epoch 20/20: 100%|██████████| 94/94 [00:00<00:00, 259.45it/s, Batch Loss=0.0252]\n"
     ]
    },
    {
     "name": "stdout",
     "output_type": "stream",
     "text": [
      "Training on Client 2\n"
     ]
    },
    {
     "name": "stderr",
     "output_type": "stream",
     "text": [
      "Epoch 1/20: 100%|██████████| 61/61 [00:00<00:00, 233.18it/s, Batch Loss=4.76]\n",
      "Epoch 2/20: 100%|██████████| 61/61 [00:00<00:00, 270.82it/s, Batch Loss=1.87]\n",
      "Epoch 3/20: 100%|██████████| 61/61 [00:00<00:00, 256.13it/s, Batch Loss=1.84]\n",
      "Epoch 4/20: 100%|██████████| 61/61 [00:00<00:00, 243.65it/s, Batch Loss=1.61]\n",
      "Epoch 5/20: 100%|██████████| 61/61 [00:00<00:00, 237.57it/s, Batch Loss=1.39]\n",
      "Epoch 6/20: 100%|██████████| 61/61 [00:00<00:00, 270.12it/s, Batch Loss=1.21]\n",
      "Epoch 7/20: 100%|██████████| 61/61 [00:00<00:00, 260.40it/s, Batch Loss=1.07]\n",
      "Epoch 8/20: 100%|██████████| 61/61 [00:00<00:00, 242.91it/s, Batch Loss=0.941]\n",
      "Epoch 9/20: 100%|██████████| 61/61 [00:00<00:00, 238.23it/s, Batch Loss=0.845]\n",
      "Epoch 10/20: 100%|██████████| 61/61 [00:00<00:00, 269.07it/s, Batch Loss=0.761]\n",
      "Epoch 11/20: 100%|██████████| 61/61 [00:00<00:00, 252.08it/s, Batch Loss=0.69]\n",
      "Epoch 12/20: 100%|██████████| 61/61 [00:00<00:00, 249.15it/s, Batch Loss=0.631]\n",
      "Epoch 13/20: 100%|██████████| 61/61 [00:00<00:00, 237.50it/s, Batch Loss=0.576]\n",
      "Epoch 14/20: 100%|██████████| 61/61 [00:00<00:00, 270.89it/s, Batch Loss=0.526]\n",
      "Epoch 15/20: 100%|██████████| 61/61 [00:00<00:00, 256.21it/s, Batch Loss=0.484]\n",
      "Epoch 16/20: 100%|██████████| 61/61 [00:00<00:00, 255.65it/s, Batch Loss=0.446]\n",
      "Epoch 17/20: 100%|██████████| 61/61 [00:00<00:00, 229.75it/s, Batch Loss=0.412]\n",
      "Epoch 18/20: 100%|██████████| 61/61 [00:00<00:00, 260.96it/s, Batch Loss=0.38]\n",
      "Epoch 19/20: 100%|██████████| 61/61 [00:00<00:00, 261.21it/s, Batch Loss=0.351]\n",
      "Epoch 20/20: 100%|██████████| 61/61 [00:00<00:00, 240.34it/s, Batch Loss=0.327]\n"
     ]
    },
    {
     "name": "stdout",
     "output_type": "stream",
     "text": [
      "Training on Client 3\n"
     ]
    },
    {
     "name": "stderr",
     "output_type": "stream",
     "text": [
      "Epoch 1/20: 100%|██████████| 101/101 [00:00<00:00, 231.70it/s, Batch Loss=0.616]\n",
      "Epoch 2/20: 100%|██████████| 101/101 [00:00<00:00, 206.46it/s, Batch Loss=0.316]\n",
      "Epoch 3/20: 100%|██████████| 101/101 [00:00<00:00, 216.34it/s, Batch Loss=0.188]\n",
      "Epoch 4/20: 100%|██████████| 101/101 [00:00<00:00, 209.30it/s, Batch Loss=0.108]\n",
      "Epoch 5/20: 100%|██████████| 101/101 [00:00<00:00, 186.96it/s, Batch Loss=0.0397]\n",
      "Epoch 6/20: 100%|██████████| 101/101 [00:00<00:00, 202.36it/s, Batch Loss=0.0168]\n",
      "Epoch 7/20: 100%|██████████| 101/101 [00:00<00:00, 236.66it/s, Batch Loss=0.0104]\n",
      "Epoch 8/20: 100%|██████████| 101/101 [00:00<00:00, 266.83it/s, Batch Loss=0.00744]\n",
      "Epoch 9/20: 100%|██████████| 101/101 [00:00<00:00, 238.87it/s, Batch Loss=0.00564]\n",
      "Epoch 10/20: 100%|██████████| 101/101 [00:00<00:00, 269.80it/s, Batch Loss=0.00436]\n",
      "Epoch 11/20: 100%|██████████| 101/101 [00:00<00:00, 261.66it/s, Batch Loss=0.00352]\n",
      "Epoch 12/20: 100%|██████████| 101/101 [00:00<00:00, 242.55it/s, Batch Loss=0.00301]\n",
      "Epoch 13/20: 100%|██████████| 101/101 [00:00<00:00, 272.14it/s, Batch Loss=0.00272]\n",
      "Epoch 14/20: 100%|██████████| 101/101 [00:00<00:00, 241.00it/s, Batch Loss=0.00243]\n",
      "Epoch 15/20: 100%|██████████| 101/101 [00:00<00:00, 270.03it/s, Batch Loss=0.00223]\n",
      "Epoch 16/20: 100%|██████████| 101/101 [00:00<00:00, 266.46it/s, Batch Loss=0.00208]\n",
      "Epoch 17/20: 100%|██████████| 101/101 [00:00<00:00, 246.34it/s, Batch Loss=0.0019]\n",
      "Epoch 18/20: 100%|██████████| 101/101 [00:00<00:00, 262.20it/s, Batch Loss=0.00179]\n",
      "Epoch 19/20: 100%|██████████| 101/101 [00:00<00:00, 239.23it/s, Batch Loss=0.00169]\n",
      "Epoch 20/20: 100%|██████████| 101/101 [00:00<00:00, 263.84it/s, Batch Loss=0.00158]\n"
     ]
    },
    {
     "name": "stdout",
     "output_type": "stream",
     "text": [
      "Training on Client 4\n"
     ]
    },
    {
     "name": "stderr",
     "output_type": "stream",
     "text": [
      "Epoch 1/20: 100%|██████████| 46/46 [00:00<00:00, 268.31it/s, Batch Loss=0.0556]\n",
      "Epoch 2/20: 100%|██████████| 46/46 [00:00<00:00, 252.39it/s, Batch Loss=0.0983]\n",
      "Epoch 3/20: 100%|██████████| 46/46 [00:00<00:00, 220.38it/s, Batch Loss=0.0959]\n",
      "Epoch 4/20: 100%|██████████| 46/46 [00:00<00:00, 257.56it/s, Batch Loss=0.0934]\n",
      "Epoch 5/20: 100%|██████████| 46/46 [00:00<00:00, 267.25it/s, Batch Loss=0.0938]\n",
      "Epoch 6/20: 100%|██████████| 46/46 [00:00<00:00, 274.11it/s, Batch Loss=0.094]\n",
      "Epoch 7/20: 100%|██████████| 46/46 [00:00<00:00, 266.36it/s, Batch Loss=0.0925]\n",
      "Epoch 8/20: 100%|██████████| 46/46 [00:00<00:00, 231.83it/s, Batch Loss=0.0903]\n",
      "Epoch 9/20: 100%|██████████| 46/46 [00:00<00:00, 252.11it/s, Batch Loss=0.0879]\n",
      "Epoch 10/20: 100%|██████████| 46/46 [00:00<00:00, 270.98it/s, Batch Loss=0.0852]\n",
      "Epoch 11/20: 100%|██████████| 46/46 [00:00<00:00, 249.69it/s, Batch Loss=0.083]\n",
      "Epoch 12/20: 100%|██████████| 46/46 [00:00<00:00, 270.26it/s, Batch Loss=0.0807]\n",
      "Epoch 13/20: 100%|██████████| 46/46 [00:00<00:00, 248.37it/s, Batch Loss=0.0788]\n",
      "Epoch 14/20: 100%|██████████| 46/46 [00:00<00:00, 244.54it/s, Batch Loss=0.0765]\n",
      "Epoch 15/20: 100%|██████████| 46/46 [00:00<00:00, 258.13it/s, Batch Loss=0.0742]\n",
      "Epoch 16/20: 100%|██████████| 46/46 [00:00<00:00, 271.82it/s, Batch Loss=0.0718]\n",
      "Epoch 17/20: 100%|██████████| 46/46 [00:00<00:00, 266.85it/s, Batch Loss=0.0695]\n",
      "Epoch 18/20: 100%|██████████| 46/46 [00:00<00:00, 256.09it/s, Batch Loss=0.0672]\n",
      "Epoch 19/20: 100%|██████████| 46/46 [00:00<00:00, 224.50it/s, Batch Loss=0.0645]\n",
      "Epoch 20/20: 100%|██████████| 46/46 [00:00<00:00, 252.97it/s, Batch Loss=0.0621]\n"
     ]
    },
    {
     "name": "stdout",
     "output_type": "stream",
     "text": [
      "\n",
      "Evaluating Client 0\n",
      "Client 0 Accuracy: 85.98%\n",
      "\n",
      "Evaluating Client 1\n",
      "Client 1 Accuracy: 76.12%\n",
      "\n",
      "Evaluating Client 2\n",
      "Client 2 Accuracy: 88.83%\n",
      "\n",
      "Evaluating Client 3\n",
      "Client 3 Accuracy: 75.97%\n",
      "\n",
      "Evaluating Client 4\n",
      "Client 4 Accuracy: 87.72%\n",
      "Total Accuracy: 81.55%\n",
      "Round 3 Accuracy: 81.5500\n",
      "\n",
      "Running SCAFFOLD with Dirichlet Alpha = 0.1\n",
      "\n",
      "Round 1/3\n",
      "Training on Client 0\n"
     ]
    },
    {
     "name": "stderr",
     "output_type": "stream",
     "text": [
      "Epoch 1/20: 100%|██████████| 50/50 [00:00<00:00, 179.70it/s, Batch Loss=0.88]\n",
      "Epoch 2/20: 100%|██████████| 50/50 [00:00<00:00, 184.89it/s, Batch Loss=0.218]\n",
      "Epoch 3/20: 100%|██████████| 50/50 [00:00<00:00, 174.99it/s, Batch Loss=0.205]\n",
      "Epoch 4/20: 100%|██████████| 50/50 [00:00<00:00, 192.03it/s, Batch Loss=0.196]\n",
      "Epoch 5/20: 100%|██████████| 50/50 [00:00<00:00, 174.06it/s, Batch Loss=0.185]\n",
      "Epoch 6/20: 100%|██████████| 50/50 [00:00<00:00, 235.25it/s, Batch Loss=0.171]\n",
      "Epoch 7/20: 100%|██████████| 50/50 [00:00<00:00, 239.94it/s, Batch Loss=0.156]\n",
      "Epoch 8/20: 100%|██████████| 50/50 [00:00<00:00, 262.98it/s, Batch Loss=0.139]\n",
      "Epoch 9/20: 100%|██████████| 50/50 [00:00<00:00, 252.43it/s, Batch Loss=0.123]\n",
      "Epoch 10/20: 100%|██████████| 50/50 [00:00<00:00, 248.68it/s, Batch Loss=0.109]\n",
      "Epoch 11/20: 100%|██████████| 50/50 [00:00<00:00, 255.04it/s, Batch Loss=0.0957]\n",
      "Epoch 12/20: 100%|██████████| 50/50 [00:00<00:00, 252.44it/s, Batch Loss=0.0845]\n",
      "Epoch 13/20: 100%|██████████| 50/50 [00:00<00:00, 259.09it/s, Batch Loss=0.0757]\n",
      "Epoch 14/20: 100%|██████████| 50/50 [00:00<00:00, 241.33it/s, Batch Loss=0.0688]\n",
      "Epoch 15/20: 100%|██████████| 50/50 [00:00<00:00, 235.25it/s, Batch Loss=0.0638]\n",
      "Epoch 16/20: 100%|██████████| 50/50 [00:00<00:00, 268.35it/s, Batch Loss=0.0602]\n",
      "Epoch 17/20: 100%|██████████| 50/50 [00:00<00:00, 265.86it/s, Batch Loss=0.0576]\n",
      "Epoch 18/20: 100%|██████████| 50/50 [00:00<00:00, 276.11it/s, Batch Loss=0.0558]\n",
      "Epoch 19/20: 100%|██████████| 50/50 [00:00<00:00, 245.02it/s, Batch Loss=0.0545]\n",
      "Epoch 20/20: 100%|██████████| 50/50 [00:00<00:00, 236.01it/s, Batch Loss=0.0535]\n"
     ]
    },
    {
     "name": "stdout",
     "output_type": "stream",
     "text": [
      "Training on Client 1\n"
     ]
    },
    {
     "name": "stderr",
     "output_type": "stream",
     "text": [
      "Epoch 1/20: 100%|██████████| 120/120 [00:00<00:00, 261.45it/s, Batch Loss=0.0909]\n",
      "Epoch 2/20: 100%|██████████| 120/120 [00:00<00:00, 253.63it/s, Batch Loss=0.0565]\n",
      "Epoch 3/20: 100%|██████████| 120/120 [00:00<00:00, 269.71it/s, Batch Loss=0.0493]\n",
      "Epoch 4/20: 100%|██████████| 120/120 [00:00<00:00, 250.80it/s, Batch Loss=0.0443]\n",
      "Epoch 5/20: 100%|██████████| 120/120 [00:00<00:00, 269.29it/s, Batch Loss=0.0405]\n",
      "Epoch 6/20: 100%|██████████| 120/120 [00:00<00:00, 251.57it/s, Batch Loss=0.038]\n",
      "Epoch 7/20: 100%|██████████| 120/120 [00:00<00:00, 271.58it/s, Batch Loss=0.0363]\n",
      "Epoch 8/20: 100%|██████████| 120/120 [00:00<00:00, 253.12it/s, Batch Loss=0.0347]\n",
      "Epoch 9/20: 100%|██████████| 120/120 [00:00<00:00, 263.65it/s, Batch Loss=0.0328]\n",
      "Epoch 10/20: 100%|██████████| 120/120 [00:00<00:00, 262.82it/s, Batch Loss=0.0309]\n",
      "Epoch 11/20: 100%|██████████| 120/120 [00:00<00:00, 252.71it/s, Batch Loss=0.0295]\n",
      "Epoch 12/20: 100%|██████████| 120/120 [00:00<00:00, 267.53it/s, Batch Loss=0.0291]\n",
      "Epoch 13/20: 100%|██████████| 120/120 [00:00<00:00, 244.86it/s, Batch Loss=0.0295]\n",
      "Epoch 14/20: 100%|██████████| 120/120 [00:00<00:00, 251.15it/s, Batch Loss=0.0301]\n",
      "Epoch 15/20: 100%|██████████| 120/120 [00:00<00:00, 220.36it/s, Batch Loss=0.0306]\n",
      "Epoch 16/20: 100%|██████████| 120/120 [00:00<00:00, 204.22it/s, Batch Loss=0.0318]\n",
      "Epoch 17/20: 100%|██████████| 120/120 [00:00<00:00, 203.12it/s, Batch Loss=0.0331]\n",
      "Epoch 18/20: 100%|██████████| 120/120 [00:00<00:00, 188.23it/s, Batch Loss=0.0343]\n",
      "Epoch 19/20: 100%|██████████| 120/120 [00:00<00:00, 223.43it/s, Batch Loss=0.0353]\n",
      "Epoch 20/20: 100%|██████████| 120/120 [00:00<00:00, 241.64it/s, Batch Loss=0.0355]\n"
     ]
    },
    {
     "name": "stdout",
     "output_type": "stream",
     "text": [
      "Training on Client 2\n"
     ]
    },
    {
     "name": "stderr",
     "output_type": "stream",
     "text": [
      "Epoch 1/20: 100%|██████████| 46/46 [00:00<00:00, 254.89it/s, Batch Loss=0.133]\n",
      "Epoch 2/20: 100%|██████████| 46/46 [00:00<00:00, 243.78it/s, Batch Loss=0.0458]\n",
      "Epoch 3/20: 100%|██████████| 46/46 [00:00<00:00, 250.09it/s, Batch Loss=0.0422]\n",
      "Epoch 4/20: 100%|██████████| 46/46 [00:00<00:00, 223.15it/s, Batch Loss=0.0404]\n",
      "Epoch 5/20: 100%|██████████| 46/46 [00:00<00:00, 248.58it/s, Batch Loss=0.0387]\n",
      "Epoch 6/20: 100%|██████████| 46/46 [00:00<00:00, 264.95it/s, Batch Loss=0.0369]\n",
      "Epoch 7/20: 100%|██████████| 46/46 [00:00<00:00, 252.98it/s, Batch Loss=0.0349]\n",
      "Epoch 8/20: 100%|██████████| 46/46 [00:00<00:00, 257.63it/s, Batch Loss=0.0326]\n",
      "Epoch 9/20: 100%|██████████| 46/46 [00:00<00:00, 213.81it/s, Batch Loss=0.0304]\n",
      "Epoch 10/20: 100%|██████████| 46/46 [00:00<00:00, 254.21it/s, Batch Loss=0.0283]\n",
      "Epoch 11/20: 100%|██████████| 46/46 [00:00<00:00, 265.33it/s, Batch Loss=0.0265]\n",
      "Epoch 12/20: 100%|██████████| 46/46 [00:00<00:00, 259.55it/s, Batch Loss=0.0247]\n",
      "Epoch 13/20: 100%|██████████| 46/46 [00:00<00:00, 270.02it/s, Batch Loss=0.0231]\n",
      "Epoch 14/20: 100%|██████████| 46/46 [00:00<00:00, 231.55it/s, Batch Loss=0.0216]\n",
      "Epoch 15/20: 100%|██████████| 46/46 [00:00<00:00, 228.00it/s, Batch Loss=0.0202]\n",
      "Epoch 16/20: 100%|██████████| 46/46 [00:00<00:00, 269.89it/s, Batch Loss=0.019]\n",
      "Epoch 17/20: 100%|██████████| 46/46 [00:00<00:00, 273.44it/s, Batch Loss=0.0178]\n",
      "Epoch 18/20: 100%|██████████| 46/46 [00:00<00:00, 258.29it/s, Batch Loss=0.0168]\n",
      "Epoch 19/20: 100%|██████████| 46/46 [00:00<00:00, 265.53it/s, Batch Loss=0.0158]\n",
      "Epoch 20/20: 100%|██████████| 46/46 [00:00<00:00, 216.83it/s, Batch Loss=0.0149]\n"
     ]
    },
    {
     "name": "stdout",
     "output_type": "stream",
     "text": [
      "Training on Client 3\n"
     ]
    },
    {
     "name": "stderr",
     "output_type": "stream",
     "text": [
      "Epoch 1/20: 100%|██████████| 85/85 [00:00<00:00, 260.53it/s, Batch Loss=1.22]\n",
      "Epoch 2/20: 100%|██████████| 85/85 [00:00<00:00, 266.98it/s, Batch Loss=0.472]\n",
      "Epoch 3/20: 100%|██████████| 85/85 [00:00<00:00, 235.19it/s, Batch Loss=0.348]\n",
      "Epoch 4/20: 100%|██████████| 85/85 [00:00<00:00, 265.09it/s, Batch Loss=0.257]\n",
      "Epoch 5/20: 100%|██████████| 85/85 [00:00<00:00, 260.53it/s, Batch Loss=0.189]\n",
      "Epoch 6/20: 100%|██████████| 85/85 [00:00<00:00, 227.12it/s, Batch Loss=0.145]\n",
      "Epoch 7/20: 100%|██████████| 85/85 [00:00<00:00, 259.12it/s, Batch Loss=0.12]\n",
      "Epoch 8/20: 100%|██████████| 85/85 [00:00<00:00, 266.59it/s, Batch Loss=0.107]\n",
      "Epoch 9/20: 100%|██████████| 85/85 [00:00<00:00, 227.80it/s, Batch Loss=0.101]\n",
      "Epoch 10/20: 100%|██████████| 85/85 [00:00<00:00, 262.54it/s, Batch Loss=0.0979]\n",
      "Epoch 11/20: 100%|██████████| 85/85 [00:00<00:00, 250.74it/s, Batch Loss=0.0961]\n",
      "Epoch 12/20: 100%|██████████| 85/85 [00:00<00:00, 230.86it/s, Batch Loss=0.0952]\n",
      "Epoch 13/20: 100%|██████████| 85/85 [00:00<00:00, 270.80it/s, Batch Loss=0.0939]\n",
      "Epoch 14/20: 100%|██████████| 85/85 [00:00<00:00, 240.51it/s, Batch Loss=0.0934]\n",
      "Epoch 15/20: 100%|██████████| 85/85 [00:00<00:00, 243.44it/s, Batch Loss=0.0929]\n",
      "Epoch 16/20: 100%|██████████| 85/85 [00:00<00:00, 237.47it/s, Batch Loss=0.0926]\n",
      "Epoch 17/20: 100%|██████████| 85/85 [00:00<00:00, 184.53it/s, Batch Loss=0.0924]\n",
      "Epoch 18/20: 100%|██████████| 85/85 [00:00<00:00, 212.66it/s, Batch Loss=0.0924]\n",
      "Epoch 19/20: 100%|██████████| 85/85 [00:00<00:00, 182.44it/s, Batch Loss=0.0922]\n",
      "Epoch 20/20: 100%|██████████| 85/85 [00:00<00:00, 192.38it/s, Batch Loss=0.0914]\n"
     ]
    },
    {
     "name": "stdout",
     "output_type": "stream",
     "text": [
      "Training on Client 4\n"
     ]
    },
    {
     "name": "stderr",
     "output_type": "stream",
     "text": [
      "Epoch 1/20: 100%|██████████| 76/76 [00:00<00:00, 139.84it/s, Batch Loss=1.59]\n",
      "Epoch 2/20: 100%|██████████| 76/76 [00:00<00:00, 213.86it/s, Batch Loss=0.545]\n",
      "Epoch 3/20: 100%|██████████| 76/76 [00:00<00:00, 252.52it/s, Batch Loss=0.315]\n",
      "Epoch 4/20: 100%|██████████| 76/76 [00:00<00:00, 229.46it/s, Batch Loss=0.21]\n",
      "Epoch 5/20: 100%|██████████| 76/76 [00:00<00:00, 242.10it/s, Batch Loss=0.151]\n",
      "Epoch 6/20: 100%|██████████| 76/76 [00:00<00:00, 262.50it/s, Batch Loss=0.118]\n",
      "Epoch 7/20: 100%|██████████| 76/76 [00:00<00:00, 246.77it/s, Batch Loss=0.0983]\n",
      "Epoch 8/20: 100%|██████████| 76/76 [00:00<00:00, 261.67it/s, Batch Loss=0.0873]\n",
      "Epoch 9/20: 100%|██████████| 76/76 [00:00<00:00, 255.61it/s, Batch Loss=0.0807]\n",
      "Epoch 10/20: 100%|██████████| 76/76 [00:00<00:00, 258.96it/s, Batch Loss=0.0764]\n",
      "Epoch 11/20: 100%|██████████| 76/76 [00:00<00:00, 238.54it/s, Batch Loss=0.0735]\n",
      "Epoch 12/20: 100%|██████████| 76/76 [00:00<00:00, 261.01it/s, Batch Loss=0.0714]\n",
      "Epoch 13/20: 100%|██████████| 76/76 [00:00<00:00, 267.34it/s, Batch Loss=0.0702]\n",
      "Epoch 14/20: 100%|██████████| 76/76 [00:00<00:00, 234.96it/s, Batch Loss=0.0694]\n",
      "Epoch 15/20: 100%|██████████| 76/76 [00:00<00:00, 253.00it/s, Batch Loss=0.0689]\n",
      "Epoch 16/20: 100%|██████████| 76/76 [00:00<00:00, 264.17it/s, Batch Loss=0.0686]\n",
      "Epoch 17/20: 100%|██████████| 76/76 [00:00<00:00, 231.22it/s, Batch Loss=0.0682]\n",
      "Epoch 18/20: 100%|██████████| 76/76 [00:00<00:00, 262.21it/s, Batch Loss=0.0678]\n",
      "Epoch 19/20: 100%|██████████| 76/76 [00:00<00:00, 258.27it/s, Batch Loss=0.0674]\n",
      "Epoch 20/20: 100%|██████████| 76/76 [00:00<00:00, 250.97it/s, Batch Loss=0.067]\n"
     ]
    },
    {
     "name": "stdout",
     "output_type": "stream",
     "text": [
      "\n",
      "Evaluating Client 0\n",
      "Client 0 Accuracy: 14.77%\n",
      "\n",
      "Evaluating Client 1\n",
      "Client 1 Accuracy: 43.38%\n",
      "\n",
      "Evaluating Client 2\n",
      "Client 2 Accuracy: 91.32%\n",
      "\n",
      "Evaluating Client 3\n",
      "Client 3 Accuracy: 41.16%\n",
      "\n",
      "Evaluating Client 4\n",
      "Client 4 Accuracy: 16.40%\n",
      "Total Accuracy: 39.10%\n",
      "Round 1 Accuracy: 39.1000\n",
      "\n",
      "Round 2/3\n",
      "Training on Client 0\n"
     ]
    },
    {
     "name": "stderr",
     "output_type": "stream",
     "text": [
      "Epoch 1/20: 100%|██████████| 50/50 [00:00<00:00, 263.80it/s, Batch Loss=0.000112]\n",
      "Epoch 2/20: 100%|██████████| 50/50 [00:00<00:00, 258.93it/s, Batch Loss=0.0338]\n",
      "Epoch 3/20: 100%|██████████| 50/50 [00:00<00:00, 259.69it/s, Batch Loss=0.0313]\n",
      "Epoch 4/20: 100%|██████████| 50/50 [00:00<00:00, 238.70it/s, Batch Loss=0.0303]\n",
      "Epoch 5/20: 100%|██████████| 50/50 [00:00<00:00, 250.54it/s, Batch Loss=0.0288]\n",
      "Epoch 6/20: 100%|██████████| 50/50 [00:00<00:00, 264.32it/s, Batch Loss=0.0275]\n",
      "Epoch 7/20: 100%|██████████| 50/50 [00:00<00:00, 251.67it/s, Batch Loss=0.0262]\n",
      "Epoch 8/20: 100%|██████████| 50/50 [00:00<00:00, 263.27it/s, Batch Loss=0.025]\n",
      "Epoch 9/20: 100%|██████████| 50/50 [00:00<00:00, 225.22it/s, Batch Loss=0.0239]\n",
      "Epoch 10/20: 100%|██████████| 50/50 [00:00<00:00, 244.21it/s, Batch Loss=0.0228]\n",
      "Epoch 11/20: 100%|██████████| 50/50 [00:00<00:00, 222.82it/s, Batch Loss=0.0218]\n",
      "Epoch 12/20: 100%|██████████| 50/50 [00:00<00:00, 192.45it/s, Batch Loss=0.0209]\n",
      "Epoch 13/20: 100%|██████████| 50/50 [00:00<00:00, 176.03it/s, Batch Loss=0.0201]\n",
      "Epoch 14/20: 100%|██████████| 50/50 [00:00<00:00, 183.12it/s, Batch Loss=0.0192]\n",
      "Epoch 15/20: 100%|██████████| 50/50 [00:00<00:00, 211.72it/s, Batch Loss=0.0185]\n",
      "Epoch 16/20: 100%|██████████| 50/50 [00:00<00:00, 211.22it/s, Batch Loss=0.0178]\n",
      "Epoch 17/20: 100%|██████████| 50/50 [00:00<00:00, 174.78it/s, Batch Loss=0.017]\n",
      "Epoch 18/20: 100%|██████████| 50/50 [00:00<00:00, 192.35it/s, Batch Loss=0.0164]\n",
      "Epoch 19/20: 100%|██████████| 50/50 [00:00<00:00, 157.18it/s, Batch Loss=0.0158]\n",
      "Epoch 20/20: 100%|██████████| 50/50 [00:00<00:00, 173.04it/s, Batch Loss=0.0152]\n"
     ]
    },
    {
     "name": "stdout",
     "output_type": "stream",
     "text": [
      "Training on Client 1\n"
     ]
    },
    {
     "name": "stderr",
     "output_type": "stream",
     "text": [
      "Epoch 1/20: 100%|██████████| 120/120 [00:00<00:00, 189.21it/s, Batch Loss=0.012]\n",
      "Epoch 2/20: 100%|██████████| 120/120 [00:00<00:00, 193.41it/s, Batch Loss=0.019]\n",
      "Epoch 3/20: 100%|██████████| 120/120 [00:00<00:00, 192.39it/s, Batch Loss=0.0193]\n",
      "Epoch 4/20: 100%|██████████| 120/120 [00:00<00:00, 198.96it/s, Batch Loss=0.0191]\n",
      "Epoch 5/20: 100%|██████████| 120/120 [00:00<00:00, 237.53it/s, Batch Loss=0.0192]\n",
      "Epoch 6/20: 100%|██████████| 120/120 [00:00<00:00, 253.38it/s, Batch Loss=0.0194]\n",
      "Epoch 7/20: 100%|██████████| 120/120 [00:00<00:00, 223.71it/s, Batch Loss=0.0196]\n",
      "Epoch 8/20: 100%|██████████| 120/120 [00:00<00:00, 253.37it/s, Batch Loss=0.0201]\n",
      "Epoch 9/20: 100%|██████████| 120/120 [00:00<00:00, 234.13it/s, Batch Loss=0.0206]\n",
      "Epoch 10/20: 100%|██████████| 120/120 [00:00<00:00, 260.32it/s, Batch Loss=0.0211]\n",
      "Epoch 11/20: 100%|██████████| 120/120 [00:00<00:00, 240.47it/s, Batch Loss=0.0219]\n",
      "Epoch 12/20: 100%|██████████| 120/120 [00:00<00:00, 261.03it/s, Batch Loss=0.0229]\n",
      "Epoch 13/20: 100%|██████████| 120/120 [00:00<00:00, 235.73it/s, Batch Loss=0.024]\n",
      "Epoch 14/20: 100%|██████████| 120/120 [00:00<00:00, 260.77it/s, Batch Loss=0.0251]\n",
      "Epoch 15/20: 100%|██████████| 120/120 [00:00<00:00, 243.87it/s, Batch Loss=0.0265]\n",
      "Epoch 16/20: 100%|██████████| 120/120 [00:00<00:00, 253.81it/s, Batch Loss=0.0276]\n",
      "Epoch 17/20: 100%|██████████| 120/120 [00:00<00:00, 244.34it/s, Batch Loss=0.0287]\n",
      "Epoch 18/20: 100%|██████████| 120/120 [00:00<00:00, 246.47it/s, Batch Loss=0.0294]\n",
      "Epoch 19/20: 100%|██████████| 120/120 [00:00<00:00, 258.84it/s, Batch Loss=0.0298]\n",
      "Epoch 20/20: 100%|██████████| 120/120 [00:00<00:00, 253.78it/s, Batch Loss=0.03]\n"
     ]
    },
    {
     "name": "stdout",
     "output_type": "stream",
     "text": [
      "Training on Client 2\n"
     ]
    },
    {
     "name": "stderr",
     "output_type": "stream",
     "text": [
      "Epoch 1/20: 100%|██████████| 46/46 [00:00<00:00, 253.39it/s, Batch Loss=9.23e-6]\n",
      "Epoch 2/20: 100%|██████████| 46/46 [00:00<00:00, 254.97it/s, Batch Loss=0.00966]\n",
      "Epoch 3/20: 100%|██████████| 46/46 [00:00<00:00, 218.23it/s, Batch Loss=0.0111]\n",
      "Epoch 4/20: 100%|██████████| 46/46 [00:00<00:00, 247.36it/s, Batch Loss=0.0086]\n",
      "Epoch 5/20: 100%|██████████| 46/46 [00:00<00:00, 268.71it/s, Batch Loss=0.00732]\n",
      "Epoch 6/20: 100%|██████████| 46/46 [00:00<00:00, 274.15it/s, Batch Loss=0.00659]\n",
      "Epoch 7/20: 100%|██████████| 46/46 [00:00<00:00, 271.81it/s, Batch Loss=0.00614]\n",
      "Epoch 8/20: 100%|██████████| 46/46 [00:00<00:00, 255.36it/s, Batch Loss=0.00583]\n",
      "Epoch 9/20: 100%|██████████| 46/46 [00:00<00:00, 229.50it/s, Batch Loss=0.00558]\n",
      "Epoch 10/20: 100%|██████████| 46/46 [00:00<00:00, 276.81it/s, Batch Loss=0.00537]\n",
      "Epoch 11/20: 100%|██████████| 46/46 [00:00<00:00, 241.03it/s, Batch Loss=0.00517]\n",
      "Epoch 12/20: 100%|██████████| 46/46 [00:00<00:00, 192.10it/s, Batch Loss=0.00502]\n",
      "Epoch 13/20: 100%|██████████| 46/46 [00:00<00:00, 183.88it/s, Batch Loss=0.00487]\n",
      "Epoch 14/20: 100%|██████████| 46/46 [00:00<00:00, 183.63it/s, Batch Loss=0.00474]\n",
      "Epoch 15/20: 100%|██████████| 46/46 [00:00<00:00, 213.83it/s, Batch Loss=0.00463]\n",
      "Epoch 16/20: 100%|██████████| 46/46 [00:00<00:00, 221.11it/s, Batch Loss=0.00451]\n",
      "Epoch 17/20: 100%|██████████| 46/46 [00:00<00:00, 204.43it/s, Batch Loss=0.00441]\n",
      "Epoch 18/20: 100%|██████████| 46/46 [00:00<00:00, 174.30it/s, Batch Loss=0.00432]\n",
      "Epoch 19/20: 100%|██████████| 46/46 [00:00<00:00, 194.51it/s, Batch Loss=0.00424]\n",
      "Epoch 20/20: 100%|██████████| 46/46 [00:00<00:00, 190.55it/s, Batch Loss=0.00416]\n"
     ]
    },
    {
     "name": "stdout",
     "output_type": "stream",
     "text": [
      "Training on Client 3\n"
     ]
    },
    {
     "name": "stderr",
     "output_type": "stream",
     "text": [
      "Epoch 1/20: 100%|██████████| 85/85 [00:00<00:00, 200.05it/s, Batch Loss=0.0126]\n",
      "Epoch 2/20: 100%|██████████| 85/85 [00:00<00:00, 249.38it/s, Batch Loss=0.0572]\n",
      "Epoch 3/20: 100%|██████████| 85/85 [00:00<00:00, 259.84it/s, Batch Loss=0.0604]\n",
      "Epoch 4/20: 100%|██████████| 85/85 [00:00<00:00, 233.28it/s, Batch Loss=0.0609]\n",
      "Epoch 5/20: 100%|██████████| 85/85 [00:00<00:00, 251.10it/s, Batch Loss=0.0616]\n",
      "Epoch 6/20: 100%|██████████| 85/85 [00:00<00:00, 256.34it/s, Batch Loss=0.0624]\n",
      "Epoch 7/20: 100%|██████████| 85/85 [00:00<00:00, 232.58it/s, Batch Loss=0.0631]\n",
      "Epoch 8/20: 100%|██████████| 85/85 [00:00<00:00, 256.87it/s, Batch Loss=0.0635]\n",
      "Epoch 9/20: 100%|██████████| 85/85 [00:00<00:00, 248.97it/s, Batch Loss=0.0638]\n",
      "Epoch 10/20: 100%|██████████| 85/85 [00:00<00:00, 236.37it/s, Batch Loss=0.0637]\n",
      "Epoch 11/20: 100%|██████████| 85/85 [00:00<00:00, 262.52it/s, Batch Loss=0.0634]\n",
      "Epoch 12/20: 100%|██████████| 85/85 [00:00<00:00, 242.55it/s, Batch Loss=0.063]\n",
      "Epoch 13/20: 100%|██████████| 85/85 [00:00<00:00, 246.32it/s, Batch Loss=0.0626]\n",
      "Epoch 14/20: 100%|██████████| 85/85 [00:00<00:00, 255.79it/s, Batch Loss=0.062]\n",
      "Epoch 15/20: 100%|██████████| 85/85 [00:00<00:00, 233.05it/s, Batch Loss=0.0615]\n",
      "Epoch 16/20: 100%|██████████| 85/85 [00:00<00:00, 252.73it/s, Batch Loss=0.0609]\n",
      "Epoch 17/20: 100%|██████████| 85/85 [00:00<00:00, 236.88it/s, Batch Loss=0.0605]\n",
      "Epoch 18/20: 100%|██████████| 85/85 [00:00<00:00, 222.95it/s, Batch Loss=0.0598]\n",
      "Epoch 19/20: 100%|██████████| 85/85 [00:00<00:00, 250.25it/s, Batch Loss=0.0591]\n",
      "Epoch 20/20: 100%|██████████| 85/85 [00:00<00:00, 254.39it/s, Batch Loss=0.0581]\n"
     ]
    },
    {
     "name": "stdout",
     "output_type": "stream",
     "text": [
      "Training on Client 4\n"
     ]
    },
    {
     "name": "stderr",
     "output_type": "stream",
     "text": [
      "Epoch 1/20: 100%|██████████| 76/76 [00:00<00:00, 227.55it/s, Batch Loss=0.0356]\n",
      "Epoch 2/20: 100%|██████████| 76/76 [00:00<00:00, 249.60it/s, Batch Loss=0.0502]\n",
      "Epoch 3/20: 100%|██████████| 76/76 [00:00<00:00, 269.27it/s, Batch Loss=0.0476]\n",
      "Epoch 4/20: 100%|██████████| 76/76 [00:00<00:00, 231.13it/s, Batch Loss=0.0462]\n",
      "Epoch 5/20: 100%|██████████| 76/76 [00:00<00:00, 246.36it/s, Batch Loss=0.0451]\n",
      "Epoch 6/20: 100%|██████████| 76/76 [00:00<00:00, 254.86it/s, Batch Loss=0.0442]\n",
      "Epoch 7/20: 100%|██████████| 76/76 [00:00<00:00, 236.06it/s, Batch Loss=0.0434]\n",
      "Epoch 8/20: 100%|██████████| 76/76 [00:00<00:00, 258.93it/s, Batch Loss=0.0429]\n",
      "Epoch 9/20: 100%|██████████| 76/76 [00:00<00:00, 249.98it/s, Batch Loss=0.0422]\n",
      "Epoch 10/20: 100%|██████████| 76/76 [00:00<00:00, 227.03it/s, Batch Loss=0.0417]\n",
      "Epoch 11/20: 100%|██████████| 76/76 [00:00<00:00, 187.23it/s, Batch Loss=0.0411]\n",
      "Epoch 12/20: 100%|██████████| 76/76 [00:00<00:00, 198.47it/s, Batch Loss=0.0405]\n",
      "Epoch 13/20: 100%|██████████| 76/76 [00:00<00:00, 189.33it/s, Batch Loss=0.0399]\n",
      "Epoch 14/20: 100%|██████████| 76/76 [00:00<00:00, 180.72it/s, Batch Loss=0.0393]\n",
      "Epoch 15/20: 100%|██████████| 76/76 [00:00<00:00, 166.72it/s, Batch Loss=0.0388]\n",
      "Epoch 16/20: 100%|██████████| 76/76 [00:00<00:00, 185.59it/s, Batch Loss=0.0382]\n",
      "Epoch 17/20: 100%|██████████| 76/76 [00:00<00:00, 227.28it/s, Batch Loss=0.0376]\n",
      "Epoch 18/20: 100%|██████████| 76/76 [00:00<00:00, 235.18it/s, Batch Loss=0.037]\n",
      "Epoch 19/20: 100%|██████████| 76/76 [00:00<00:00, 249.95it/s, Batch Loss=0.0363]\n",
      "Epoch 20/20: 100%|██████████| 76/76 [00:00<00:00, 241.78it/s, Batch Loss=0.0356]\n"
     ]
    },
    {
     "name": "stdout",
     "output_type": "stream",
     "text": [
      "\n",
      "Evaluating Client 0\n",
      "Client 0 Accuracy: 30.78%\n",
      "\n",
      "Evaluating Client 1\n",
      "Client 1 Accuracy: 55.55%\n",
      "\n",
      "Evaluating Client 2\n",
      "Client 2 Accuracy: 93.45%\n",
      "\n",
      "Evaluating Client 3\n",
      "Client 3 Accuracy: 77.34%\n",
      "\n",
      "Evaluating Client 4\n",
      "Client 4 Accuracy: 60.33%\n",
      "Total Accuracy: 62.51%\n",
      "Round 2 Accuracy: 62.5083\n",
      "\n",
      "Round 3/3\n",
      "Training on Client 0\n"
     ]
    },
    {
     "name": "stderr",
     "output_type": "stream",
     "text": [
      "Epoch 1/20: 100%|██████████| 50/50 [00:00<00:00, 240.91it/s, Batch Loss=0]\n",
      "Epoch 2/20: 100%|██████████| 50/50 [00:00<00:00, 256.70it/s, Batch Loss=0.0086]\n",
      "Epoch 3/20: 100%|██████████| 50/50 [00:00<00:00, 241.25it/s, Batch Loss=0.00635]\n",
      "Epoch 4/20: 100%|██████████| 50/50 [00:00<00:00, 236.99it/s, Batch Loss=0.00877]\n",
      "Epoch 5/20: 100%|██████████| 50/50 [00:00<00:00, 230.28it/s, Batch Loss=0.0109]\n",
      "Epoch 6/20: 100%|██████████| 50/50 [00:00<00:00, 257.06it/s, Batch Loss=0.0142]\n",
      "Epoch 7/20: 100%|██████████| 50/50 [00:00<00:00, 260.62it/s, Batch Loss=0.014]\n",
      "Epoch 8/20: 100%|██████████| 50/50 [00:00<00:00, 240.68it/s, Batch Loss=0.0131]\n",
      "Epoch 9/20: 100%|██████████| 50/50 [00:00<00:00, 229.71it/s, Batch Loss=0.0125]\n",
      "Epoch 10/20: 100%|██████████| 50/50 [00:00<00:00, 258.37it/s, Batch Loss=0.0124]\n",
      "Epoch 11/20: 100%|██████████| 50/50 [00:00<00:00, 256.85it/s, Batch Loss=0.0129]\n",
      "Epoch 12/20: 100%|██████████| 50/50 [00:00<00:00, 253.52it/s, Batch Loss=0.0135]\n",
      "Epoch 13/20: 100%|██████████| 50/50 [00:00<00:00, 250.68it/s, Batch Loss=0.0135]\n",
      "Epoch 14/20: 100%|██████████| 50/50 [00:00<00:00, 211.19it/s, Batch Loss=0.0136]\n",
      "Epoch 15/20: 100%|██████████| 50/50 [00:00<00:00, 255.88it/s, Batch Loss=0.0135]\n",
      "Epoch 16/20: 100%|██████████| 50/50 [00:00<00:00, 258.09it/s, Batch Loss=0.0134]\n",
      "Epoch 17/20: 100%|██████████| 50/50 [00:00<00:00, 260.54it/s, Batch Loss=0.0132]\n",
      "Epoch 18/20: 100%|██████████| 50/50 [00:00<00:00, 236.03it/s, Batch Loss=0.0129]\n",
      "Epoch 19/20: 100%|██████████| 50/50 [00:00<00:00, 220.48it/s, Batch Loss=0.0125]\n",
      "Epoch 20/20: 100%|██████████| 50/50 [00:00<00:00, 267.92it/s, Batch Loss=0.012]\n"
     ]
    },
    {
     "name": "stdout",
     "output_type": "stream",
     "text": [
      "Training on Client 1\n"
     ]
    },
    {
     "name": "stderr",
     "output_type": "stream",
     "text": [
      "Epoch 1/20: 100%|██████████| 120/120 [00:00<00:00, 241.84it/s, Batch Loss=0.00785]\n",
      "Epoch 2/20: 100%|██████████| 120/120 [00:00<00:00, 243.87it/s, Batch Loss=0.0276]\n",
      "Epoch 3/20: 100%|██████████| 120/120 [00:00<00:00, 255.86it/s, Batch Loss=0.0354]\n",
      "Epoch 4/20: 100%|██████████| 120/120 [00:00<00:00, 243.67it/s, Batch Loss=0.0396]\n",
      "Epoch 5/20: 100%|██████████| 120/120 [00:00<00:00, 270.87it/s, Batch Loss=0.0469]\n",
      "Epoch 6/20: 100%|██████████| 120/120 [00:00<00:00, 244.89it/s, Batch Loss=0.0567]\n",
      "Epoch 7/20: 100%|██████████| 120/120 [00:00<00:00, 258.82it/s, Batch Loss=0.0571]\n",
      "Epoch 8/20: 100%|██████████| 120/120 [00:00<00:00, 242.05it/s, Batch Loss=0.0538]\n",
      "Epoch 9/20: 100%|██████████| 120/120 [00:00<00:00, 234.77it/s, Batch Loss=0.0503]\n",
      "Epoch 10/20: 100%|██████████| 120/120 [00:00<00:00, 196.13it/s, Batch Loss=0.049]\n",
      "Epoch 11/20: 100%|██████████| 120/120 [00:00<00:00, 199.03it/s, Batch Loss=0.0468]\n",
      "Epoch 12/20: 100%|██████████| 120/120 [00:00<00:00, 180.71it/s, Batch Loss=0.0434]\n",
      "Epoch 13/20: 100%|██████████| 120/120 [00:00<00:00, 190.34it/s, Batch Loss=0.0399]\n",
      "Epoch 14/20: 100%|██████████| 120/120 [00:00<00:00, 257.41it/s, Batch Loss=0.0369]\n",
      "Epoch 15/20: 100%|██████████| 120/120 [00:00<00:00, 242.53it/s, Batch Loss=0.0351]\n",
      "Epoch 16/20: 100%|██████████| 120/120 [00:00<00:00, 256.58it/s, Batch Loss=0.034]\n",
      "Epoch 17/20: 100%|██████████| 120/120 [00:00<00:00, 243.83it/s, Batch Loss=0.0335]\n",
      "Epoch 18/20: 100%|██████████| 120/120 [00:00<00:00, 262.00it/s, Batch Loss=0.0325]\n",
      "Epoch 19/20: 100%|██████████| 120/120 [00:00<00:00, 233.16it/s, Batch Loss=0.0319]\n",
      "Epoch 20/20: 100%|██████████| 120/120 [00:00<00:00, 261.05it/s, Batch Loss=0.0315]\n"
     ]
    },
    {
     "name": "stdout",
     "output_type": "stream",
     "text": [
      "Training on Client 2\n"
     ]
    },
    {
     "name": "stderr",
     "output_type": "stream",
     "text": [
      "Epoch 1/20: 100%|██████████| 46/46 [00:00<00:00, 257.19it/s, Batch Loss=0]\n",
      "Epoch 2/20: 100%|██████████| 46/46 [00:00<00:00, 213.64it/s, Batch Loss=0.0122]\n",
      "Epoch 3/20: 100%|██████████| 46/46 [00:00<00:00, 245.80it/s, Batch Loss=0.0156]\n",
      "Epoch 4/20: 100%|██████████| 46/46 [00:00<00:00, 260.04it/s, Batch Loss=0.0153]\n",
      "Epoch 5/20: 100%|██████████| 46/46 [00:00<00:00, 261.40it/s, Batch Loss=0.0138]\n",
      "Epoch 6/20: 100%|██████████| 46/46 [00:00<00:00, 263.72it/s, Batch Loss=0.0124]\n",
      "Epoch 7/20: 100%|██████████| 46/46 [00:00<00:00, 215.36it/s, Batch Loss=0.0111]\n",
      "Epoch 8/20: 100%|██████████| 46/46 [00:00<00:00, 236.15it/s, Batch Loss=0.0103]\n",
      "Epoch 9/20: 100%|██████████| 46/46 [00:00<00:00, 260.53it/s, Batch Loss=0.0096]\n",
      "Epoch 10/20: 100%|██████████| 46/46 [00:00<00:00, 263.10it/s, Batch Loss=0.00906]\n",
      "Epoch 11/20: 100%|██████████| 46/46 [00:00<00:00, 258.08it/s, Batch Loss=0.00844]\n",
      "Epoch 12/20: 100%|██████████| 46/46 [00:00<00:00, 205.21it/s, Batch Loss=0.00791]\n",
      "Epoch 13/20: 100%|██████████| 46/46 [00:00<00:00, 232.49it/s, Batch Loss=0.00751]\n",
      "Epoch 14/20: 100%|██████████| 46/46 [00:00<00:00, 256.15it/s, Batch Loss=0.00714]\n",
      "Epoch 15/20: 100%|██████████| 46/46 [00:00<00:00, 259.19it/s, Batch Loss=0.00685]\n",
      "Epoch 16/20: 100%|██████████| 46/46 [00:00<00:00, 260.14it/s, Batch Loss=0.00662]\n",
      "Epoch 17/20: 100%|██████████| 46/46 [00:00<00:00, 222.35it/s, Batch Loss=0.0064]\n",
      "Epoch 18/20: 100%|██████████| 46/46 [00:00<00:00, 249.82it/s, Batch Loss=0.00624]\n",
      "Epoch 19/20: 100%|██████████| 46/46 [00:00<00:00, 246.10it/s, Batch Loss=0.00613]\n",
      "Epoch 20/20: 100%|██████████| 46/46 [00:00<00:00, 267.11it/s, Batch Loss=0.00604]\n"
     ]
    },
    {
     "name": "stdout",
     "output_type": "stream",
     "text": [
      "Training on Client 3\n"
     ]
    },
    {
     "name": "stderr",
     "output_type": "stream",
     "text": [
      "Epoch 1/20: 100%|██████████| 85/85 [00:00<00:00, 242.38it/s, Batch Loss=7.01e-5]\n",
      "Epoch 2/20: 100%|██████████| 85/85 [00:00<00:00, 243.46it/s, Batch Loss=0.0515]\n",
      "Epoch 3/20: 100%|██████████| 85/85 [00:00<00:00, 255.71it/s, Batch Loss=0.0609]\n",
      "Epoch 4/20: 100%|██████████| 85/85 [00:00<00:00, 236.69it/s, Batch Loss=0.0627]\n",
      "Epoch 5/20: 100%|██████████| 85/85 [00:00<00:00, 258.39it/s, Batch Loss=0.0623]\n",
      "Epoch 6/20: 100%|██████████| 85/85 [00:00<00:00, 260.97it/s, Batch Loss=0.0609]\n",
      "Epoch 7/20: 100%|██████████| 85/85 [00:00<00:00, 234.54it/s, Batch Loss=0.0607]\n",
      "Epoch 8/20: 100%|██████████| 85/85 [00:00<00:00, 209.38it/s, Batch Loss=0.0604]\n",
      "Epoch 9/20: 100%|██████████| 85/85 [00:00<00:00, 213.24it/s, Batch Loss=0.061]\n",
      "Epoch 10/20: 100%|██████████| 85/85 [00:00<00:00, 195.64it/s, Batch Loss=0.061]\n",
      "Epoch 11/20: 100%|██████████| 85/85 [00:00<00:00, 215.83it/s, Batch Loss=0.0612]\n",
      "Epoch 12/20: 100%|██████████| 85/85 [00:00<00:00, 179.71it/s, Batch Loss=0.0614]\n",
      "Epoch 13/20: 100%|██████████| 85/85 [00:00<00:00, 197.60it/s, Batch Loss=0.0615]\n",
      "Epoch 14/20: 100%|██████████| 85/85 [00:00<00:00, 207.40it/s, Batch Loss=0.0612]\n",
      "Epoch 15/20: 100%|██████████| 85/85 [00:00<00:00, 255.05it/s, Batch Loss=0.0607]\n",
      "Epoch 16/20: 100%|██████████| 85/85 [00:00<00:00, 248.77it/s, Batch Loss=0.0601]\n",
      "Epoch 17/20: 100%|██████████| 85/85 [00:00<00:00, 232.80it/s, Batch Loss=0.0594]\n",
      "Epoch 18/20: 100%|██████████| 85/85 [00:00<00:00, 264.18it/s, Batch Loss=0.0582]\n",
      "Epoch 19/20: 100%|██████████| 85/85 [00:00<00:00, 260.44it/s, Batch Loss=0.0569]\n",
      "Epoch 20/20: 100%|██████████| 85/85 [00:00<00:00, 236.19it/s, Batch Loss=0.0553]\n"
     ]
    },
    {
     "name": "stdout",
     "output_type": "stream",
     "text": [
      "Training on Client 4\n"
     ]
    },
    {
     "name": "stderr",
     "output_type": "stream",
     "text": [
      "Epoch 1/20: 100%|██████████| 76/76 [00:00<00:00, 268.12it/s, Batch Loss=0.0204]\n",
      "Epoch 2/20: 100%|██████████| 76/76 [00:00<00:00, 257.47it/s, Batch Loss=0.072]\n",
      "Epoch 3/20: 100%|██████████| 76/76 [00:00<00:00, 241.94it/s, Batch Loss=0.0736]\n",
      "Epoch 4/20: 100%|██████████| 76/76 [00:00<00:00, 268.68it/s, Batch Loss=0.0663]\n",
      "Epoch 5/20: 100%|██████████| 76/76 [00:00<00:00, 263.27it/s, Batch Loss=0.0594]\n",
      "Epoch 6/20: 100%|██████████| 76/76 [00:00<00:00, 248.22it/s, Batch Loss=0.0541]\n",
      "Epoch 7/20: 100%|██████████| 76/76 [00:00<00:00, 256.95it/s, Batch Loss=0.0498]\n",
      "Epoch 8/20: 100%|██████████| 76/76 [00:00<00:00, 262.93it/s, Batch Loss=0.046]\n",
      "Epoch 9/20: 100%|██████████| 76/76 [00:00<00:00, 253.60it/s, Batch Loss=0.0428]\n",
      "Epoch 10/20: 100%|██████████| 76/76 [00:00<00:00, 227.96it/s, Batch Loss=0.0398]\n",
      "Epoch 11/20: 100%|██████████| 76/76 [00:00<00:00, 259.32it/s, Batch Loss=0.0371]\n",
      "Epoch 12/20: 100%|██████████| 76/76 [00:00<00:00, 249.42it/s, Batch Loss=0.0341]\n",
      "Epoch 13/20: 100%|██████████| 76/76 [00:00<00:00, 232.58it/s, Batch Loss=0.0315]\n",
      "Epoch 14/20: 100%|██████████| 76/76 [00:00<00:00, 257.39it/s, Batch Loss=0.0293]\n",
      "Epoch 15/20: 100%|██████████| 76/76 [00:00<00:00, 258.76it/s, Batch Loss=0.0274]\n",
      "Epoch 16/20: 100%|██████████| 76/76 [00:00<00:00, 230.54it/s, Batch Loss=0.0253]\n",
      "Epoch 17/20: 100%|██████████| 76/76 [00:00<00:00, 254.99it/s, Batch Loss=0.0237]\n",
      "Epoch 18/20: 100%|██████████| 76/76 [00:00<00:00, 267.67it/s, Batch Loss=0.0222]\n",
      "Epoch 19/20: 100%|██████████| 76/76 [00:00<00:00, 241.06it/s, Batch Loss=0.0205]\n",
      "Epoch 20/20: 100%|██████████| 76/76 [00:00<00:00, 257.21it/s, Batch Loss=0.0194]\n"
     ]
    },
    {
     "name": "stdout",
     "output_type": "stream",
     "text": [
      "\n",
      "Evaluating Client 0\n",
      "Client 0 Accuracy: 67.00%\n",
      "\n",
      "Evaluating Client 1\n",
      "Client 1 Accuracy: 54.43%\n",
      "\n",
      "Evaluating Client 2\n",
      "Client 2 Accuracy: 89.75%\n",
      "\n",
      "Evaluating Client 3\n",
      "Client 3 Accuracy: 79.75%\n",
      "\n",
      "Evaluating Client 4\n",
      "Client 4 Accuracy: 49.25%\n",
      "Total Accuracy: 64.87%\n",
      "Round 3 Accuracy: 64.8667\n"
     ]
    }
   ],
   "source": [
    "num_clients = 5\n",
    "rounds = 3\n",
    "epochs = 20\n",
    "lr = 0.01\n",
    "mu = 0.001\n",
    "dirichlet_alphas = [2, 0.5, 0.1]\n",
    "\n",
    "# Run federated SCAFFOLD with 0.1 Dirichlet and plot accuracy per round\n",
    "def run_scaffold(alpha):\n",
    "    # Partition data with a Dirichlet alpha of 0.1\n",
    "    train_loaders, test_loaders,_,_ = partition_data(train_images / 255, train_labels, test_images / 255, test_labels, num_clients, alpha, batch_size=128)\n",
    "    global_model_scaffold = SimpleCNN()\n",
    "    round_accuracies = federated_scaffold(global_model_scaffold, train_loaders, test_loaders, num_clients, rounds, epochs, local_lr=lr, mu=mu)\n",
    "    return round_accuracies\n",
    "\n",
    "# Run SCAFFOLD and get accuracy per round\n",
    "# scaffold_accuracies = run_scaffold()\n",
    "\n",
    "accuracies_per_alpha_scaffold = []\n",
    "\n",
    "for alpha in dirichlet_alphas:\n",
    "    print(f\"\\nRunning SCAFFOLD with Dirichlet Alpha = {alpha}\")\n",
    "    round_accuracies_scaffold = run_scaffold(alpha)\n",
    "    accuracies_per_alpha_scaffold.append(round_accuracies_scaffold)"
   ]
  },
  {
   "cell_type": "code",
   "execution_count": 9,
   "metadata": {
    "colab": {
     "base_uri": "https://localhost:8080/",
     "height": 472
    },
    "id": "7N4pH0zaK-78",
    "outputId": "eff5f107-3c62-4b9f-9d6a-40e525a42fdc"
   },
   "outputs": [
    {
     "data": {
      "image/png": "[encoded data removed]",
      "text/plain": [
       "<Figure size 640x480 with 1 Axes>"
      ]
     },
     "metadata": {},
     "output_type": "display_data"
    }
   ],
   "source": [
    "# plt.figure()\n",
    "# plt.plot(range(1, rounds + 1), scaffold_accuracies, marker='o', label='SCAFFOLD Alpha = 0.1')\n",
    "# plt.xlabel('Rounds')\n",
    "# plt.ylabel('Accuracy (%)')\n",
    "# plt.title('SCAFFOLD Accuracy per Round (Dirichlet Alpha = 0.1)')\n",
    "# plt.legend()\n",
    "# plt.show()\n",
    "\n",
    "# Plotting accuracy per round for each alpha value\n",
    "plt.figure()\n",
    "for idx, alpha in enumerate(dirichlet_alphas):\n",
    "    plt.plot(range(1, rounds + 1), accuracies_per_alpha_scaffold[idx], marker='o', label=f'Alpha = {alpha}')\n",
    "\n",
    "plt.xlabel('Rounds')\n",
    "plt.ylabel('Accuracy (%)')\n",
    "plt.legend()\n",
    "plt.title('SCAFFOLD Accuracy per Round across Different Dirichlet Alphas')\n",
    "plt.show()"
   ]
  },
  {
   "cell_type": "markdown",
   "metadata": {
    "id": "jqXIdX_wQ59N"
   },
   "source": [
    "Exploring the effect of setting the control variate to the global control variable"
   ]
  },
  {
   "cell_type": "code",
   "execution_count": null,
   "metadata": {
    "id": "gsbmq-ZtQ59N"
   },
   "outputs": [],
   "source": [
    "def federated_scaffold_modified(global_model, train_loaders, test_loaders, num_clients, rounds, epochs, local_lr):\n",
    "    round_accuracies = []\n",
    "\n",
    "    # Step 1: Initialize the global control variate\n",
    "    c_global = {name: torch.zeros_like(param) for name, param in global_model.state_dict().items()}\n",
    "\n",
    "    # Step 2: Initialize local control variates for each client\n",
    "    c_locals = {client_id: {name: torch.zeros_like(param) for name, param in global_model.state_dict().items()}\n",
    "                for client_id in range(num_clients)}\n",
    "\n",
    "    # Step 3: Federated learning rounds\n",
    "    for round_num in range(rounds):\n",
    "        print(f\"\\nRound {round_num + 1}/{rounds}\")\n",
    "\n",
    "        # Store updates and control variate deltas from clients\n",
    "        client_updates = []\n",
    "\n",
    "        # Step 4: Train on each client\n",
    "        for client_id, train_loader in enumerate(train_loaders):\n",
    "            print(f\"Training on Client {client_id}\")\n",
    "\n",
    "            # Create a local copy of the global model\n",
    "            local_model = SimpleCNN()\n",
    "            local_model.load_state_dict(global_model.state_dict())\n",
    "\n",
    "            # Setting the local control variates equal to the global control variates\n",
    "            c_locals[client_id] = {name: c_global[name].clone() for name in c_global}\n",
    "\n",
    "            # Perform local training with SCAFFOLD\n",
    "            local_update, new_c_local = local_train_scaffold(\n",
    "                local_model, train_loader, c_global, c_locals[client_id], epochs, local_lr\n",
    "            )\n",
    "\n",
    "            # Update local control variate for the client\n",
    "            c_locals[client_id] = new_c_local\n",
    "\n",
    "            # Collect updates and control deltas\n",
    "            client_updates.append(local_update)\n",
    "\n",
    "        # Step 5: Aggregate client updates for the global model\n",
    "        global_update = {name: torch.zeros_like(param) for name, param in global_model.state_dict().items()}\n",
    "        for client_update in client_updates:\n",
    "            for name, param in client_update.items():\n",
    "                global_update[name] += param / num_clients\n",
    "\n",
    "        # Apply the aggregated update to the global model\n",
    "        global_state_dict = global_model.state_dict()\n",
    "        for name, param in global_state_dict.items():\n",
    "            global_state_dict[name] += local_lr * global_update[name]\n",
    "        global_model.load_state_dict(global_state_dict)\n",
    "\n",
    "        # Step 6: Evaluate the global model on the test dataset\n",
    "        _, total_accuracy = evaluate_model(global_model, test_loaders)\n",
    "        round_accuracies.append(total_accuracy)\n",
    "\n",
    "        print(f\"Round {round_num + 1} Accuracy: {total_accuracy:.4f}\")\n",
    "\n",
    "    return round_accuracies"
   ]
  },
  {
   "cell_type": "markdown",
   "metadata": {
    "id": "q9piT3YUQ59N"
   },
   "source": [
    "Running the modified SCAFFOLD algorithm with alpha = 0.1"
   ]
  },
  {
   "cell_type": "code",
   "execution_count": null,
   "metadata": {
    "id": "i5MRarSZQ59N",
    "outputId": "35d73dfb-cabb-493e-e204-2fd1b27d38af"
   },
   "outputs": [
    {
     "name": "stdout",
     "output_type": "stream",
     "text": [
      "\n",
      "Round 1/3\n",
      "Training on Client 0\n"
     ]
    },
    {
     "name": "stderr",
     "output_type": "stream",
     "text": [
      "Epoch 1/20: 100%|██████████| 33/33 [00:00<00:00, 38.56it/s, Batch Loss=0.192]\n",
      "Epoch 2/20: 100%|██████████| 33/33 [00:00<00:00, 41.03it/s, Batch Loss=0.0347]\n",
      "Epoch 3/20: 100%|██████████| 33/33 [00:00<00:00, 40.06it/s, Batch Loss=0.032] \n",
      "Epoch 4/20: 100%|██████████| 33/33 [00:00<00:00, 39.34it/s, Batch Loss=0.0315]\n",
      "Epoch 5/20: 100%|██████████| 33/33 [00:00<00:00, 38.22it/s, Batch Loss=0.0312]\n",
      "Epoch 6/20: 100%|██████████| 33/33 [00:00<00:00, 34.59it/s, Batch Loss=0.0307]\n",
      "Epoch 7/20: 100%|██████████| 33/33 [00:00<00:00, 38.88it/s, Batch Loss=0.0298]\n",
      "Epoch 8/20: 100%|██████████| 33/33 [00:01<00:00, 30.51it/s, Batch Loss=0.0284]\n",
      "Epoch 9/20: 100%|██████████| 33/33 [00:00<00:00, 37.92it/s, Batch Loss=0.0267]\n",
      "Epoch 10/20: 100%|██████████| 33/33 [00:00<00:00, 36.41it/s, Batch Loss=0.0246]\n",
      "Epoch 11/20: 100%|██████████| 33/33 [00:00<00:00, 38.98it/s, Batch Loss=0.0225]\n",
      "Epoch 12/20: 100%|██████████| 33/33 [00:01<00:00, 30.33it/s, Batch Loss=0.0203]\n",
      "Epoch 13/20: 100%|██████████| 33/33 [00:00<00:00, 37.04it/s, Batch Loss=0.0183]\n",
      "Epoch 14/20: 100%|██████████| 33/33 [00:00<00:00, 41.05it/s, Batch Loss=0.0165]\n",
      "Epoch 15/20: 100%|██████████| 33/33 [00:00<00:00, 38.94it/s, Batch Loss=0.015] \n",
      "Epoch 16/20: 100%|██████████| 33/33 [00:00<00:00, 42.89it/s, Batch Loss=0.0137]\n",
      "Epoch 17/20: 100%|██████████| 33/33 [00:00<00:00, 43.09it/s, Batch Loss=0.0127]\n",
      "Epoch 18/20: 100%|██████████| 33/33 [00:00<00:00, 42.48it/s, Batch Loss=0.012] \n",
      "Epoch 19/20: 100%|██████████| 33/33 [00:00<00:00, 43.11it/s, Batch Loss=0.0113]\n",
      "Epoch 20/20: 100%|██████████| 33/33 [00:00<00:00, 40.83it/s, Batch Loss=0.0108]\n"
     ]
    },
    {
     "name": "stdout",
     "output_type": "stream",
     "text": [
      "Training on Client 1\n"
     ]
    },
    {
     "name": "stderr",
     "output_type": "stream",
     "text": [
      "Epoch 1/20: 100%|██████████| 113/113 [00:03<00:00, 35.01it/s, Batch Loss=7.44]  \n",
      "Epoch 2/20: 100%|██████████| 113/113 [00:02<00:00, 40.61it/s, Batch Loss=6.86]  \n",
      "Epoch 3/20: 100%|██████████| 113/113 [00:02<00:00, 42.35it/s, Batch Loss=6.38]  \n",
      "Epoch 4/20: 100%|██████████| 113/113 [00:02<00:00, 41.03it/s, Batch Loss=6.06]  \n",
      "Epoch 5/20: 100%|██████████| 113/113 [00:02<00:00, 40.97it/s, Batch Loss=5.79]  \n",
      "Epoch 6/20: 100%|██████████| 113/113 [00:02<00:00, 42.53it/s, Batch Loss=5.52]  \n",
      "Epoch 7/20: 100%|██████████| 113/113 [00:02<00:00, 41.15it/s, Batch Loss=5.26] \n",
      "Epoch 8/20: 100%|██████████| 113/113 [00:02<00:00, 41.31it/s, Batch Loss=5.01]  \n",
      "Epoch 9/20: 100%|██████████| 113/113 [00:02<00:00, 40.93it/s, Batch Loss=4.75]  \n",
      "Epoch 10/20: 100%|██████████| 113/113 [00:02<00:00, 41.85it/s, Batch Loss=4.5]   \n",
      "Epoch 11/20: 100%|██████████| 113/113 [00:02<00:00, 40.88it/s, Batch Loss=4.27]  \n",
      "Epoch 12/20: 100%|██████████| 113/113 [00:02<00:00, 40.23it/s, Batch Loss=4.06]  \n",
      "Epoch 13/20: 100%|██████████| 113/113 [00:02<00:00, 38.59it/s, Batch Loss=3.87]  \n",
      "Epoch 14/20: 100%|██████████| 113/113 [00:02<00:00, 40.11it/s, Batch Loss=3.7]  \n",
      "Epoch 15/20: 100%|██████████| 113/113 [00:02<00:00, 39.48it/s, Batch Loss=3.56]  \n",
      "Epoch 16/20: 100%|██████████| 113/113 [00:02<00:00, 39.42it/s, Batch Loss=3.43]  \n",
      "Epoch 17/20: 100%|██████████| 113/113 [00:02<00:00, 39.68it/s, Batch Loss=3.32]  \n",
      "Epoch 18/20: 100%|██████████| 113/113 [00:02<00:00, 39.50it/s, Batch Loss=3.22]  \n",
      "Epoch 19/20: 100%|██████████| 113/113 [00:02<00:00, 39.02it/s, Batch Loss=3.12]  \n",
      "Epoch 20/20: 100%|██████████| 113/113 [00:02<00:00, 38.73it/s, Batch Loss=3.03]  \n"
     ]
    },
    {
     "name": "stdout",
     "output_type": "stream",
     "text": [
      "Training on Client 2\n"
     ]
    },
    {
     "name": "stderr",
     "output_type": "stream",
     "text": [
      "Epoch 1/20: 100%|██████████| 151/151 [00:03<00:00, 38.86it/s, Batch Loss=0.0451]\n",
      "Epoch 2/20: 100%|██████████| 151/151 [00:04<00:00, 32.98it/s, Batch Loss=0.0329]\n",
      "Epoch 3/20: 100%|██████████| 151/151 [00:04<00:00, 36.68it/s, Batch Loss=0.0287]\n",
      "Epoch 4/20: 100%|██████████| 151/151 [00:04<00:00, 35.31it/s, Batch Loss=0.025] \n",
      "Epoch 5/20: 100%|██████████| 151/151 [00:04<00:00, 36.31it/s, Batch Loss=0.0221]\n",
      "Epoch 6/20: 100%|██████████| 151/151 [00:04<00:00, 36.37it/s, Batch Loss=0.02]  \n",
      "Epoch 7/20: 100%|██████████| 151/151 [00:04<00:00, 35.06it/s, Batch Loss=0.0185]\n",
      "Epoch 8/20: 100%|██████████| 151/151 [00:04<00:00, 35.66it/s, Batch Loss=0.0174]\n",
      "Epoch 9/20: 100%|██████████| 151/151 [00:04<00:00, 35.48it/s, Batch Loss=0.0165]\n",
      "Epoch 10/20: 100%|██████████| 151/151 [00:04<00:00, 35.72it/s, Batch Loss=0.0159]\n",
      "Epoch 11/20: 100%|██████████| 151/151 [00:04<00:00, 35.93it/s, Batch Loss=0.0155]\n",
      "Epoch 12/20: 100%|██████████| 151/151 [00:04<00:00, 34.05it/s, Batch Loss=0.0152]\n",
      "Epoch 13/20: 100%|██████████| 151/151 [00:04<00:00, 35.05it/s, Batch Loss=0.015] \n",
      "Epoch 14/20: 100%|██████████| 151/151 [00:04<00:00, 34.93it/s, Batch Loss=0.0147]\n",
      "Epoch 15/20: 100%|██████████| 151/151 [00:04<00:00, 35.64it/s, Batch Loss=0.0144]\n",
      "Epoch 16/20: 100%|██████████| 151/151 [00:04<00:00, 32.31it/s, Batch Loss=0.014] \n",
      "Epoch 17/20: 100%|██████████| 151/151 [00:04<00:00, 34.91it/s, Batch Loss=0.0137]\n",
      "Epoch 18/20: 100%|██████████| 151/151 [00:04<00:00, 35.53it/s, Batch Loss=0.0134]\n",
      "Epoch 19/20: 100%|██████████| 151/151 [00:04<00:00, 34.94it/s, Batch Loss=0.0131]\n",
      "Epoch 20/20: 100%|██████████| 151/151 [00:04<00:00, 34.88it/s, Batch Loss=0.0129]\n"
     ]
    },
    {
     "name": "stdout",
     "output_type": "stream",
     "text": [
      "Training on Client 3\n"
     ]
    },
    {
     "name": "stderr",
     "output_type": "stream",
     "text": [
      "Epoch 1/20: 100%|██████████| 45/45 [00:01<00:00, 34.54it/s, Batch Loss=0.656]\n",
      "Epoch 2/20: 100%|██████████| 45/45 [00:01<00:00, 36.60it/s, Batch Loss=0.154] \n",
      "Epoch 3/20: 100%|██████████| 45/45 [00:01<00:00, 35.31it/s, Batch Loss=0.141] \n",
      "Epoch 4/20: 100%|██████████| 45/45 [00:01<00:00, 36.66it/s, Batch Loss=0.137] \n",
      "Epoch 5/20: 100%|██████████| 45/45 [00:01<00:00, 36.42it/s, Batch Loss=0.133] \n",
      "Epoch 6/20: 100%|██████████| 45/45 [00:01<00:00, 31.61it/s, Batch Loss=0.127] \n",
      "Epoch 7/20: 100%|██████████| 45/45 [00:01<00:00, 31.79it/s, Batch Loss=0.12]  \n",
      "Epoch 8/20: 100%|██████████| 45/45 [00:01<00:00, 33.12it/s, Batch Loss=0.111]\n",
      "Epoch 9/20: 100%|██████████| 45/45 [00:01<00:00, 35.49it/s, Batch Loss=0.102] \n",
      "Epoch 10/20: 100%|██████████| 45/45 [00:01<00:00, 36.65it/s, Batch Loss=0.0931]\n",
      "Epoch 11/20: 100%|██████████| 45/45 [00:01<00:00, 34.82it/s, Batch Loss=0.0857]\n",
      "Epoch 12/20: 100%|██████████| 45/45 [00:01<00:00, 35.63it/s, Batch Loss=0.0798]\n",
      "Epoch 13/20: 100%|██████████| 45/45 [00:01<00:00, 35.23it/s, Batch Loss=0.0753]\n",
      "Epoch 14/20: 100%|██████████| 45/45 [00:01<00:00, 36.59it/s, Batch Loss=0.0723]\n",
      "Epoch 15/20: 100%|██████████| 45/45 [00:01<00:00, 35.41it/s, Batch Loss=0.0704]\n",
      "Epoch 16/20: 100%|██████████| 45/45 [00:01<00:00, 36.38it/s, Batch Loss=0.0692]\n",
      "Epoch 17/20: 100%|██████████| 45/45 [00:01<00:00, 36.41it/s, Batch Loss=0.0687]\n",
      "Epoch 18/20: 100%|██████████| 45/45 [00:01<00:00, 35.04it/s, Batch Loss=0.0684]\n",
      "Epoch 19/20: 100%|██████████| 45/45 [00:01<00:00, 36.21it/s, Batch Loss=0.0683]\n",
      "Epoch 20/20: 100%|██████████| 45/45 [00:01<00:00, 35.25it/s, Batch Loss=0.0683]\n"
     ]
    },
    {
     "name": "stdout",
     "output_type": "stream",
     "text": [
      "Training on Client 4\n"
     ]
    },
    {
     "name": "stderr",
     "output_type": "stream",
     "text": [
      "Epoch 1/20: 100%|██████████| 35/35 [00:00<00:00, 37.01it/s, Batch Loss=0.151]\n",
      "Epoch 2/20: 100%|██████████| 35/35 [00:00<00:00, 37.26it/s, Batch Loss=0.0367]\n",
      "Epoch 3/20: 100%|██████████| 35/35 [00:00<00:00, 35.61it/s, Batch Loss=0.035]\n",
      "Epoch 4/20: 100%|██████████| 35/35 [00:00<00:00, 37.37it/s, Batch Loss=0.0337]\n",
      "Epoch 5/20: 100%|██████████| 35/35 [00:00<00:00, 37.57it/s, Batch Loss=0.0323]\n",
      "Epoch 6/20: 100%|██████████| 35/35 [00:00<00:00, 36.15it/s, Batch Loss=0.0307]\n",
      "Epoch 7/20: 100%|██████████| 35/35 [00:00<00:00, 37.23it/s, Batch Loss=0.0291]\n",
      "Epoch 8/20: 100%|██████████| 35/35 [00:00<00:00, 37.36it/s, Batch Loss=0.0276]\n",
      "Epoch 9/20: 100%|██████████| 35/35 [00:00<00:00, 35.83it/s, Batch Loss=0.0263]\n",
      "Epoch 10/20: 100%|██████████| 35/35 [00:00<00:00, 37.14it/s, Batch Loss=0.0252]\n",
      "Epoch 11/20: 100%|██████████| 35/35 [00:00<00:00, 37.47it/s, Batch Loss=0.0244]\n",
      "Epoch 12/20: 100%|██████████| 35/35 [00:00<00:00, 37.51it/s, Batch Loss=0.0239]\n",
      "Epoch 13/20: 100%|██████████| 35/35 [00:00<00:00, 35.65it/s, Batch Loss=0.0236]\n",
      "Epoch 14/20: 100%|██████████| 35/35 [00:01<00:00, 25.47it/s, Batch Loss=0.0236]\n",
      "Epoch 15/20: 100%|██████████| 35/35 [00:01<00:00, 34.82it/s, Batch Loss=0.0237]\n",
      "Epoch 16/20: 100%|██████████| 35/35 [00:01<00:00, 32.30it/s, Batch Loss=0.024] \n",
      "Epoch 17/20: 100%|██████████| 35/35 [00:01<00:00, 33.13it/s, Batch Loss=0.0243]\n",
      "Epoch 18/20: 100%|██████████| 35/35 [00:01<00:00, 24.89it/s, Batch Loss=0.0247]\n",
      "Epoch 19/20: 100%|██████████| 35/35 [00:01<00:00, 27.81it/s, Batch Loss=0.0251]\n",
      "Epoch 20/20: 100%|██████████| 35/35 [00:01<00:00, 33.31it/s, Batch Loss=0.0254]\n"
     ]
    },
    {
     "name": "stdout",
     "output_type": "stream",
     "text": [
      "\n",
      "Evaluating Client 0\n",
      "Client 0 Accuracy: 5.10%\n",
      "\n",
      "Evaluating Client 1\n",
      "Client 1 Accuracy: 26.38%\n",
      "\n",
      "Evaluating Client 2\n",
      "Client 2 Accuracy: 14.99%\n",
      "\n",
      "Evaluating Client 3\n",
      "Client 3 Accuracy: 6.17%\n",
      "\n",
      "Evaluating Client 4\n",
      "Client 4 Accuracy: 2.88%\n",
      "Total Accuracy: 15.47%\n",
      "Round 1 Accuracy: 15.4750\n",
      "\n",
      "Round 2/3\n",
      "Training on Client 0\n"
     ]
    },
    {
     "name": "stderr",
     "output_type": "stream",
     "text": [
      "Epoch 1/20: 100%|██████████| 33/33 [00:00<00:00, 33.67it/s, Batch Loss=0.212]\n",
      "Epoch 2/20: 100%|██████████| 33/33 [00:00<00:00, 36.25it/s, Batch Loss=0.035]\n",
      "Epoch 3/20: 100%|██████████| 33/33 [00:00<00:00, 33.62it/s, Batch Loss=0.0322]\n",
      "Epoch 4/20: 100%|██████████| 33/33 [00:00<00:00, 34.44it/s, Batch Loss=0.0317]\n",
      "Epoch 5/20: 100%|██████████| 33/33 [00:01<00:00, 32.76it/s, Batch Loss=0.0315]\n",
      "Epoch 6/20: 100%|██████████| 33/33 [00:00<00:00, 35.88it/s, Batch Loss=0.0311]\n",
      "Epoch 7/20: 100%|██████████| 33/33 [00:00<00:00, 35.30it/s, Batch Loss=0.0303]\n",
      "Epoch 8/20: 100%|██████████| 33/33 [00:00<00:00, 34.61it/s, Batch Loss=0.0291]\n",
      "Epoch 9/20: 100%|██████████| 33/33 [00:00<00:00, 36.66it/s, Batch Loss=0.0275]\n",
      "Epoch 10/20: 100%|██████████| 33/33 [00:00<00:00, 35.45it/s, Batch Loss=0.0255]\n",
      "Epoch 11/20: 100%|██████████| 33/33 [00:00<00:00, 34.20it/s, Batch Loss=0.0233]\n",
      "Epoch 12/20: 100%|██████████| 33/33 [00:00<00:00, 35.95it/s, Batch Loss=0.0211]\n",
      "Epoch 13/20: 100%|██████████| 33/33 [00:00<00:00, 35.89it/s, Batch Loss=0.019] \n",
      "Epoch 14/20: 100%|██████████| 33/33 [00:00<00:00, 34.57it/s, Batch Loss=0.0171]\n",
      "Epoch 15/20: 100%|██████████| 33/33 [00:00<00:00, 36.08it/s, Batch Loss=0.0155]\n",
      "Epoch 16/20: 100%|██████████| 33/33 [00:00<00:00, 35.62it/s, Batch Loss=0.0142]\n",
      "Epoch 17/20: 100%|██████████| 33/33 [00:00<00:00, 34.76it/s, Batch Loss=0.0131]\n",
      "Epoch 18/20: 100%|██████████| 33/33 [00:00<00:00, 36.17it/s, Batch Loss=0.0123]\n",
      "Epoch 19/20: 100%|██████████| 33/33 [00:00<00:00, 36.40it/s, Batch Loss=0.0116]\n",
      "Epoch 20/20: 100%|██████████| 33/33 [00:00<00:00, 34.83it/s, Batch Loss=0.011]\n"
     ]
    },
    {
     "name": "stdout",
     "output_type": "stream",
     "text": [
      "Training on Client 1\n"
     ]
    },
    {
     "name": "stderr",
     "output_type": "stream",
     "text": [
      "Epoch 1/20: 100%|██████████| 113/113 [00:03<00:00, 35.44it/s, Batch Loss=7.44]  \n",
      "Epoch 2/20: 100%|██████████| 113/113 [00:03<00:00, 35.38it/s, Batch Loss=6.87]  \n",
      "Epoch 3/20: 100%|██████████| 113/113 [00:03<00:00, 36.12it/s, Batch Loss=6.4]   \n",
      "Epoch 4/20: 100%|██████████| 113/113 [00:03<00:00, 35.90it/s, Batch Loss=6.08]  \n",
      "Epoch 5/20: 100%|██████████| 113/113 [00:03<00:00, 35.48it/s, Batch Loss=5.83]  \n",
      "Epoch 6/20: 100%|██████████| 113/113 [00:03<00:00, 35.89it/s, Batch Loss=5.56]  \n",
      "Epoch 7/20: 100%|██████████| 113/113 [00:03<00:00, 35.51it/s, Batch Loss=5.3]   \n",
      "Epoch 8/20: 100%|██████████| 113/113 [00:03<00:00, 35.00it/s, Batch Loss=5.04]  \n",
      "Epoch 9/20: 100%|██████████| 113/113 [00:03<00:00, 35.79it/s, Batch Loss=4.79]  \n",
      "Epoch 10/20: 100%|██████████| 113/113 [00:03<00:00, 35.39it/s, Batch Loss=4.54]  \n",
      "Epoch 11/20: 100%|██████████| 113/113 [00:03<00:00, 31.19it/s, Batch Loss=4.31]  \n",
      "Epoch 12/20: 100%|██████████| 113/113 [00:03<00:00, 35.28it/s, Batch Loss=4.1]   \n",
      "Epoch 13/20: 100%|██████████| 113/113 [00:03<00:00, 35.20it/s, Batch Loss=3.9]   \n",
      "Epoch 14/20: 100%|██████████| 113/113 [00:03<00:00, 35.73it/s, Batch Loss=3.73]  \n",
      "Epoch 15/20: 100%|██████████| 113/113 [00:03<00:00, 34.75it/s, Batch Loss=3.58]  \n",
      "Epoch 16/20: 100%|██████████| 113/113 [00:03<00:00, 35.49it/s, Batch Loss=3.45]  \n",
      "Epoch 17/20: 100%|██████████| 113/113 [00:03<00:00, 35.36it/s, Batch Loss=3.34]  \n",
      "Epoch 18/20: 100%|██████████| 113/113 [00:03<00:00, 34.86it/s, Batch Loss=3.23]  \n",
      "Epoch 19/20: 100%|██████████| 113/113 [00:03<00:00, 35.42it/s, Batch Loss=3.13]  \n",
      "Epoch 20/20: 100%|██████████| 113/113 [00:03<00:00, 35.18it/s, Batch Loss=3.04]  \n"
     ]
    },
    {
     "name": "stdout",
     "output_type": "stream",
     "text": [
      "Training on Client 2\n"
     ]
    },
    {
     "name": "stderr",
     "output_type": "stream",
     "text": [
      "Epoch 1/20: 100%|██████████| 151/151 [00:04<00:00, 33.72it/s, Batch Loss=0.0457]\n",
      "Epoch 2/20: 100%|██████████| 151/151 [00:04<00:00, 33.49it/s, Batch Loss=0.0333]\n",
      "Epoch 3/20: 100%|██████████| 151/151 [00:04<00:00, 34.50it/s, Batch Loss=0.0292]\n",
      "Epoch 4/20: 100%|██████████| 151/151 [00:04<00:00, 33.80it/s, Batch Loss=0.0254]\n",
      "Epoch 5/20: 100%|██████████| 151/151 [00:04<00:00, 33.21it/s, Batch Loss=0.0225]\n",
      "Epoch 6/20: 100%|██████████| 151/151 [00:04<00:00, 35.06it/s, Batch Loss=0.0204]\n",
      "Epoch 7/20: 100%|██████████| 151/151 [00:04<00:00, 32.32it/s, Batch Loss=0.0189]\n",
      "Epoch 8/20: 100%|██████████| 151/151 [00:04<00:00, 33.35it/s, Batch Loss=0.0178]\n",
      "Epoch 9/20: 100%|██████████| 151/151 [00:04<00:00, 34.68it/s, Batch Loss=0.0169]\n",
      "Epoch 10/20: 100%|██████████| 151/151 [00:04<00:00, 34.56it/s, Batch Loss=0.0163]\n",
      "Epoch 11/20: 100%|██████████| 151/151 [00:04<00:00, 34.18it/s, Batch Loss=0.0158]\n",
      "Epoch 12/20: 100%|██████████| 151/151 [00:04<00:00, 34.44it/s, Batch Loss=0.0154]\n",
      "Epoch 13/20: 100%|██████████| 151/151 [00:04<00:00, 34.65it/s, Batch Loss=0.0152]\n",
      "Epoch 14/20: 100%|██████████| 151/151 [00:04<00:00, 31.89it/s, Batch Loss=0.0149]\n",
      "Epoch 15/20: 100%|██████████| 151/151 [00:04<00:00, 34.48it/s, Batch Loss=0.0145]\n",
      "Epoch 16/20: 100%|██████████| 151/151 [00:04<00:00, 34.38it/s, Batch Loss=0.0141]\n",
      "Epoch 17/20: 100%|██████████| 151/151 [00:04<00:00, 33.46it/s, Batch Loss=0.0137]\n",
      "Epoch 18/20: 100%|██████████| 151/151 [00:04<00:00, 31.60it/s, Batch Loss=0.0133]\n",
      "Epoch 19/20: 100%|██████████| 151/151 [00:04<00:00, 31.60it/s, Batch Loss=0.0131]\n",
      "Epoch 20/20: 100%|██████████| 151/151 [00:04<00:00, 31.24it/s, Batch Loss=0.0129]\n"
     ]
    },
    {
     "name": "stdout",
     "output_type": "stream",
     "text": [
      "Training on Client 3\n"
     ]
    },
    {
     "name": "stderr",
     "output_type": "stream",
     "text": [
      "Epoch 1/20: 100%|██████████| 45/45 [00:01<00:00, 33.71it/s, Batch Loss=0.68]\n",
      "Epoch 2/20: 100%|██████████| 45/45 [00:01<00:00, 34.97it/s, Batch Loss=0.156] \n",
      "Epoch 3/20: 100%|██████████| 45/45 [00:01<00:00, 36.22it/s, Batch Loss=0.143] \n",
      "Epoch 4/20: 100%|██████████| 45/45 [00:01<00:00, 32.07it/s, Batch Loss=0.14]  \n",
      "Epoch 5/20: 100%|██████████| 45/45 [00:01<00:00, 35.57it/s, Batch Loss=0.136] \n",
      "Epoch 6/20: 100%|██████████| 45/45 [00:01<00:00, 29.57it/s, Batch Loss=0.131] \n",
      "Epoch 7/20: 100%|██████████| 45/45 [00:01<00:00, 33.11it/s, Batch Loss=0.124] \n",
      "Epoch 8/20: 100%|██████████| 45/45 [00:01<00:00, 35.35it/s, Batch Loss=0.115] \n",
      "Epoch 9/20: 100%|██████████| 45/45 [00:01<00:00, 32.91it/s, Batch Loss=0.106] \n",
      "Epoch 10/20: 100%|██████████| 45/45 [00:01<00:00, 35.76it/s, Batch Loss=0.0966]\n",
      "Epoch 11/20: 100%|██████████| 45/45 [00:01<00:00, 35.76it/s, Batch Loss=0.0885]\n",
      "Epoch 12/20: 100%|██████████| 45/45 [00:01<00:00, 34.31it/s, Batch Loss=0.082] \n",
      "Epoch 13/20: 100%|██████████| 45/45 [00:01<00:00, 35.09it/s, Batch Loss=0.0769]\n",
      "Epoch 14/20: 100%|██████████| 45/45 [00:01<00:00, 32.10it/s, Batch Loss=0.0735]\n",
      "Epoch 15/20: 100%|██████████| 45/45 [00:01<00:00, 31.97it/s, Batch Loss=0.0713]\n",
      "Epoch 16/20: 100%|██████████| 45/45 [00:01<00:00, 32.78it/s, Batch Loss=0.0698]\n",
      "Epoch 17/20: 100%|██████████| 45/45 [00:01<00:00, 33.78it/s, Batch Loss=0.0691]\n",
      "Epoch 18/20: 100%|██████████| 45/45 [00:01<00:00, 29.88it/s, Batch Loss=0.0686]\n",
      "Epoch 19/20: 100%|██████████| 45/45 [00:01<00:00, 34.97it/s, Batch Loss=0.0685]\n",
      "Epoch 20/20: 100%|██████████| 45/45 [00:01<00:00, 34.31it/s, Batch Loss=0.0684]\n"
     ]
    },
    {
     "name": "stdout",
     "output_type": "stream",
     "text": [
      "Training on Client 4\n"
     ]
    },
    {
     "name": "stderr",
     "output_type": "stream",
     "text": [
      "Epoch 1/20: 100%|██████████| 35/35 [00:00<00:00, 36.86it/s, Batch Loss=0.164]\n",
      "Epoch 2/20: 100%|██████████| 35/35 [00:01<00:00, 34.23it/s, Batch Loss=0.0371]\n",
      "Epoch 3/20: 100%|██████████| 35/35 [00:00<00:00, 35.46it/s, Batch Loss=0.0354]\n",
      "Epoch 4/20: 100%|██████████| 35/35 [00:00<00:00, 35.46it/s, Batch Loss=0.0342]\n",
      "Epoch 5/20: 100%|██████████| 35/35 [00:00<00:00, 35.16it/s, Batch Loss=0.0328]\n",
      "Epoch 6/20: 100%|██████████| 35/35 [00:01<00:00, 32.79it/s, Batch Loss=0.0313]\n",
      "Epoch 7/20: 100%|██████████| 35/35 [00:00<00:00, 35.05it/s, Batch Loss=0.0297]\n",
      "Epoch 8/20: 100%|██████████| 35/35 [00:01<00:00, 32.67it/s, Batch Loss=0.0281]\n",
      "Epoch 9/20: 100%|██████████| 35/35 [00:01<00:00, 33.63it/s, Batch Loss=0.0267]\n",
      "Epoch 10/20: 100%|██████████| 35/35 [00:01<00:00, 29.62it/s, Batch Loss=0.0256]\n",
      "Epoch 11/20: 100%|██████████| 35/35 [00:01<00:00, 32.76it/s, Batch Loss=0.0247]\n",
      "Epoch 12/20: 100%|██████████| 35/35 [00:00<00:00, 35.04it/s, Batch Loss=0.0241]\n",
      "Epoch 13/20: 100%|██████████| 35/35 [00:01<00:00, 26.87it/s, Batch Loss=0.0238]\n",
      "Epoch 14/20: 100%|██████████| 35/35 [00:01<00:00, 20.76it/s, Batch Loss=0.0236]\n",
      "Epoch 15/20: 100%|██████████| 35/35 [00:01<00:00, 33.04it/s, Batch Loss=0.0237]\n",
      "Epoch 16/20: 100%|██████████| 35/35 [00:01<00:00, 30.53it/s, Batch Loss=0.0239]\n",
      "Epoch 17/20: 100%|██████████| 35/35 [00:01<00:00, 33.25it/s, Batch Loss=0.0242]\n",
      "Epoch 18/20: 100%|██████████| 35/35 [00:00<00:00, 35.36it/s, Batch Loss=0.0246]\n",
      "Epoch 19/20: 100%|██████████| 35/35 [00:01<00:00, 31.78it/s, Batch Loss=0.025] \n",
      "Epoch 20/20: 100%|██████████| 35/35 [00:01<00:00, 33.33it/s, Batch Loss=0.0253]\n"
     ]
    },
    {
     "name": "stdout",
     "output_type": "stream",
     "text": [
      "\n",
      "Evaluating Client 0\n",
      "Client 0 Accuracy: 4.91%\n",
      "\n",
      "Evaluating Client 1\n",
      "Client 1 Accuracy: 26.00%\n",
      "\n",
      "Evaluating Client 2\n",
      "Client 2 Accuracy: 14.47%\n",
      "\n",
      "Evaluating Client 3\n",
      "Client 3 Accuracy: 6.17%\n",
      "\n",
      "Evaluating Client 4\n",
      "Client 4 Accuracy: 2.88%\n",
      "Total Accuracy: 15.13%\n",
      "Round 2 Accuracy: 15.1333\n",
      "\n",
      "Round 3/3\n",
      "Training on Client 0\n"
     ]
    },
    {
     "name": "stderr",
     "output_type": "stream",
     "text": [
      "Epoch 1/20: 100%|██████████| 33/33 [00:01<00:00, 25.42it/s, Batch Loss=0.235]\n",
      "Epoch 2/20: 100%|██████████| 33/33 [00:00<00:00, 33.18it/s, Batch Loss=0.0353]\n",
      "Epoch 3/20: 100%|██████████| 33/33 [00:01<00:00, 32.80it/s, Batch Loss=0.0324]\n",
      "Epoch 4/20: 100%|██████████| 33/33 [00:01<00:00, 30.00it/s, Batch Loss=0.032] \n",
      "Epoch 5/20: 100%|██████████| 33/33 [00:01<00:00, 30.05it/s, Batch Loss=0.0317]\n",
      "Epoch 6/20: 100%|██████████| 33/33 [00:00<00:00, 33.32it/s, Batch Loss=0.0315]\n",
      "Epoch 7/20: 100%|██████████| 33/33 [00:00<00:00, 34.32it/s, Batch Loss=0.0308]\n",
      "Epoch 8/20: 100%|██████████| 33/33 [00:01<00:00, 25.61it/s, Batch Loss=0.0297]\n",
      "Epoch 9/20: 100%|██████████| 33/33 [00:01<00:00, 28.28it/s, Batch Loss=0.0282]\n",
      "Epoch 10/20: 100%|██████████| 33/33 [00:01<00:00, 27.91it/s, Batch Loss=0.0264]\n",
      "Epoch 11/20: 100%|██████████| 33/33 [00:00<00:00, 35.94it/s, Batch Loss=0.0242]\n",
      "Epoch 12/20: 100%|██████████| 33/33 [00:00<00:00, 34.09it/s, Batch Loss=0.022] \n",
      "Epoch 13/20: 100%|██████████| 33/33 [00:00<00:00, 36.48it/s, Batch Loss=0.0198]\n",
      "Epoch 14/20: 100%|██████████| 33/33 [00:00<00:00, 36.29it/s, Batch Loss=0.0178]\n",
      "Epoch 15/20: 100%|██████████| 33/33 [00:00<00:00, 34.32it/s, Batch Loss=0.0161]\n",
      "Epoch 16/20: 100%|██████████| 33/33 [00:00<00:00, 33.01it/s, Batch Loss=0.0147]\n",
      "Epoch 17/20: 100%|██████████| 33/33 [00:01<00:00, 32.73it/s, Batch Loss=0.0135]\n",
      "Epoch 18/20: 100%|██████████| 33/33 [00:01<00:00, 32.62it/s, Batch Loss=0.0126]\n",
      "Epoch 19/20: 100%|██████████| 33/33 [00:00<00:00, 35.81it/s, Batch Loss=0.0118]\n",
      "Epoch 20/20: 100%|██████████| 33/33 [00:00<00:00, 35.80it/s, Batch Loss=0.0112]\n"
     ]
    },
    {
     "name": "stdout",
     "output_type": "stream",
     "text": [
      "Training on Client 1\n"
     ]
    },
    {
     "name": "stderr",
     "output_type": "stream",
     "text": [
      "Epoch 1/20: 100%|██████████| 113/113 [00:03<00:00, 35.22it/s, Batch Loss=7.44]  \n",
      "Epoch 2/20: 100%|██████████| 113/113 [00:03<00:00, 28.37it/s, Batch Loss=6.88]  \n",
      "Epoch 3/20: 100%|██████████| 113/113 [00:03<00:00, 33.64it/s, Batch Loss=6.42]  \n",
      "Epoch 4/20: 100%|██████████| 113/113 [00:04<00:00, 27.93it/s, Batch Loss=6.11]  \n",
      "Epoch 5/20: 100%|██████████| 113/113 [00:03<00:00, 31.54it/s, Batch Loss=5.86]  \n",
      "Epoch 6/20: 100%|██████████| 113/113 [00:03<00:00, 28.50it/s, Batch Loss=5.6]   \n",
      "Epoch 7/20: 100%|██████████| 113/113 [00:03<00:00, 32.60it/s, Batch Loss=5.34]  \n",
      "Epoch 8/20: 100%|██████████| 113/113 [00:03<00:00, 29.89it/s, Batch Loss=5.08]  \n",
      "Epoch 9/20: 100%|██████████| 113/113 [00:04<00:00, 27.09it/s, Batch Loss=4.83]  \n",
      "Epoch 10/20: 100%|██████████| 113/113 [00:03<00:00, 29.22it/s, Batch Loss=4.57]  \n",
      "Epoch 11/20: 100%|██████████| 113/113 [00:03<00:00, 30.48it/s, Batch Loss=4.34] \n",
      "Epoch 12/20: 100%|██████████| 113/113 [00:03<00:00, 30.42it/s, Batch Loss=4.12]  \n",
      "Epoch 13/20: 100%|██████████| 113/113 [00:04<00:00, 25.24it/s, Batch Loss=3.93]  \n",
      "Epoch 14/20: 100%|██████████| 113/113 [00:04<00:00, 23.39it/s, Batch Loss=3.75]  \n",
      "Epoch 15/20: 100%|██████████| 113/113 [00:03<00:00, 29.15it/s, Batch Loss=3.6]   \n",
      "Epoch 16/20: 100%|██████████| 113/113 [00:03<00:00, 29.72it/s, Batch Loss=3.46]  \n",
      "Epoch 17/20: 100%|██████████| 113/113 [00:05<00:00, 20.33it/s, Batch Loss=3.35]  \n",
      "Epoch 18/20: 100%|██████████| 113/113 [00:05<00:00, 22.48it/s, Batch Loss=3.24]  \n",
      "Epoch 19/20: 100%|██████████| 113/113 [00:04<00:00, 23.96it/s, Batch Loss=3.15]  \n",
      "Epoch 20/20: 100%|██████████| 113/113 [00:03<00:00, 29.94it/s, Batch Loss=3.05]  \n"
     ]
    },
    {
     "name": "stdout",
     "output_type": "stream",
     "text": [
      "Training on Client 2\n"
     ]
    },
    {
     "name": "stderr",
     "output_type": "stream",
     "text": [
      "Epoch 1/20: 100%|██████████| 151/151 [00:05<00:00, 27.71it/s, Batch Loss=0.0465]\n",
      "Epoch 2/20: 100%|██████████| 151/151 [00:04<00:00, 30.76it/s, Batch Loss=0.0337]\n",
      "Epoch 3/20: 100%|██████████| 151/151 [00:04<00:00, 30.24it/s, Batch Loss=0.0297]\n",
      "Epoch 4/20: 100%|██████████| 151/151 [00:04<00:00, 34.10it/s, Batch Loss=0.0261]\n",
      "Epoch 5/20: 100%|██████████| 151/151 [00:04<00:00, 31.71it/s, Batch Loss=0.0229]\n",
      "Epoch 6/20: 100%|██████████| 151/151 [00:05<00:00, 27.32it/s, Batch Loss=0.0208]\n",
      "Epoch 7/20: 100%|██████████| 151/151 [00:05<00:00, 27.96it/s, Batch Loss=0.0193]\n",
      "Epoch 8/20: 100%|██████████| 151/151 [00:04<00:00, 31.81it/s, Batch Loss=0.0181]\n",
      "Epoch 9/20: 100%|██████████| 151/151 [00:04<00:00, 32.93it/s, Batch Loss=0.0172]\n",
      "Epoch 10/20: 100%|██████████| 151/151 [00:04<00:00, 30.66it/s, Batch Loss=0.0166]\n",
      "Epoch 11/20: 100%|██████████| 151/151 [00:05<00:00, 28.60it/s, Batch Loss=0.016] \n",
      "Epoch 12/20: 100%|██████████| 151/151 [00:05<00:00, 27.14it/s, Batch Loss=0.0156]\n",
      "Epoch 13/20: 100%|██████████| 151/151 [00:05<00:00, 29.53it/s, Batch Loss=0.0153]\n",
      "Epoch 14/20: 100%|██████████| 151/151 [00:04<00:00, 30.91it/s, Batch Loss=0.015] \n",
      "Epoch 15/20: 100%|██████████| 151/151 [00:05<00:00, 29.99it/s, Batch Loss=0.0145]\n",
      "Epoch 16/20: 100%|██████████| 151/151 [00:04<00:00, 31.16it/s, Batch Loss=0.014] \n",
      "Epoch 17/20: 100%|██████████| 151/151 [00:05<00:00, 28.83it/s, Batch Loss=0.0137]\n",
      "Epoch 18/20: 100%|██████████| 151/151 [00:05<00:00, 26.05it/s, Batch Loss=0.0133]\n",
      "Epoch 19/20: 100%|██████████| 151/151 [00:05<00:00, 27.77it/s, Batch Loss=0.0131]\n",
      "Epoch 20/20: 100%|██████████| 151/151 [00:04<00:00, 31.02it/s, Batch Loss=0.013] \n"
     ]
    },
    {
     "name": "stdout",
     "output_type": "stream",
     "text": [
      "Training on Client 3\n"
     ]
    },
    {
     "name": "stderr",
     "output_type": "stream",
     "text": [
      "Epoch 1/20: 100%|██████████| 45/45 [00:01<00:00, 30.69it/s, Batch Loss=0.707]\n",
      "Epoch 2/20: 100%|██████████| 45/45 [00:01<00:00, 27.91it/s, Batch Loss=0.158] \n",
      "Epoch 3/20: 100%|██████████| 45/45 [00:01<00:00, 30.63it/s, Batch Loss=0.145] \n",
      "Epoch 4/20: 100%|██████████| 45/45 [00:01<00:00, 31.41it/s, Batch Loss=0.143] \n",
      "Epoch 5/20: 100%|██████████| 45/45 [00:01<00:00, 31.43it/s, Batch Loss=0.14]  \n",
      "Epoch 6/20: 100%|██████████| 45/45 [00:01<00:00, 32.69it/s, Batch Loss=0.135] \n",
      "Epoch 7/20: 100%|██████████| 45/45 [00:01<00:00, 34.42it/s, Batch Loss=0.128] \n",
      "Epoch 8/20: 100%|██████████| 45/45 [00:01<00:00, 31.14it/s, Batch Loss=0.119] \n",
      "Epoch 9/20: 100%|██████████| 45/45 [00:01<00:00, 34.27it/s, Batch Loss=0.11]  \n",
      "Epoch 10/20: 100%|██████████| 45/45 [00:01<00:00, 28.61it/s, Batch Loss=0.1]   \n",
      "Epoch 11/20: 100%|██████████| 45/45 [00:01<00:00, 34.04it/s, Batch Loss=0.0917]\n",
      "Epoch 12/20: 100%|██████████| 45/45 [00:01<00:00, 33.58it/s, Batch Loss=0.0845]\n",
      "Epoch 13/20: 100%|██████████| 45/45 [00:01<00:00, 30.72it/s, Batch Loss=0.0789]\n",
      "Epoch 14/20: 100%|██████████| 45/45 [00:01<00:00, 34.09it/s, Batch Loss=0.0748]\n",
      "Epoch 15/20: 100%|██████████| 45/45 [00:01<00:00, 33.26it/s, Batch Loss=0.0722]\n",
      "Epoch 16/20: 100%|██████████| 45/45 [00:01<00:00, 34.66it/s, Batch Loss=0.0704]\n",
      "Epoch 17/20: 100%|██████████| 45/45 [00:01<00:00, 34.55it/s, Batch Loss=0.0694]\n",
      "Epoch 18/20: 100%|██████████| 45/45 [00:01<00:00, 33.32it/s, Batch Loss=0.0689]\n",
      "Epoch 19/20: 100%|██████████| 45/45 [00:01<00:00, 34.64it/s, Batch Loss=0.0687]\n",
      "Epoch 20/20: 100%|██████████| 45/45 [00:01<00:00, 33.52it/s, Batch Loss=0.0685]\n"
     ]
    },
    {
     "name": "stdout",
     "output_type": "stream",
     "text": [
      "Training on Client 4\n"
     ]
    },
    {
     "name": "stderr",
     "output_type": "stream",
     "text": [
      "Epoch 1/20: 100%|██████████| 35/35 [00:00<00:00, 35.03it/s, Batch Loss=0.18]\n",
      "Epoch 2/20: 100%|██████████| 35/35 [00:00<00:00, 35.88it/s, Batch Loss=0.0375]\n",
      "Epoch 3/20: 100%|██████████| 35/35 [00:01<00:00, 34.37it/s, Batch Loss=0.0358]\n",
      "Epoch 4/20: 100%|██████████| 35/35 [00:00<00:00, 36.38it/s, Batch Loss=0.0347]\n",
      "Epoch 5/20: 100%|██████████| 35/35 [00:00<00:00, 35.98it/s, Batch Loss=0.0334]\n",
      "Epoch 6/20: 100%|██████████| 35/35 [00:01<00:00, 34.62it/s, Batch Loss=0.0318]\n",
      "Epoch 7/20: 100%|██████████| 35/35 [00:00<00:00, 36.09it/s, Batch Loss=0.0302]\n",
      "Epoch 8/20: 100%|██████████| 35/35 [00:01<00:00, 34.32it/s, Batch Loss=0.0286]\n",
      "Epoch 9/20: 100%|██████████| 35/35 [00:01<00:00, 32.32it/s, Batch Loss=0.0272]\n",
      "Epoch 10/20: 100%|██████████| 35/35 [00:00<00:00, 35.76it/s, Batch Loss=0.0259]\n",
      "Epoch 11/20: 100%|██████████| 35/35 [00:00<00:00, 36.09it/s, Batch Loss=0.025] \n",
      "Epoch 12/20: 100%|██████████| 35/35 [00:01<00:00, 33.99it/s, Batch Loss=0.0243]\n",
      "Epoch 13/20: 100%|██████████| 35/35 [00:01<00:00, 33.77it/s, Batch Loss=0.0239]\n",
      "Epoch 14/20: 100%|██████████| 35/35 [00:00<00:00, 35.27it/s, Batch Loss=0.0237]\n",
      "Epoch 15/20: 100%|██████████| 35/35 [00:01<00:00, 34.03it/s, Batch Loss=0.0237]\n",
      "Epoch 16/20: 100%|██████████| 35/35 [00:00<00:00, 35.99it/s, Batch Loss=0.0238]\n",
      "Epoch 17/20: 100%|██████████| 35/35 [00:01<00:00, 24.65it/s, Batch Loss=0.0241]\n",
      "Epoch 18/20: 100%|██████████| 35/35 [00:01<00:00, 30.79it/s, Batch Loss=0.0244]\n",
      "Epoch 19/20: 100%|██████████| 35/35 [00:01<00:00, 32.18it/s, Batch Loss=0.0248]\n",
      "Epoch 20/20: 100%|██████████| 35/35 [00:01<00:00, 32.27it/s, Batch Loss=0.0252]\n"
     ]
    },
    {
     "name": "stdout",
     "output_type": "stream",
     "text": [
      "\n",
      "Evaluating Client 0\n",
      "Client 0 Accuracy: 4.61%\n",
      "\n",
      "Evaluating Client 1\n",
      "Client 1 Accuracy: 25.37%\n",
      "\n",
      "Evaluating Client 2\n",
      "Client 2 Accuracy: 13.96%\n",
      "\n",
      "Evaluating Client 3\n",
      "Client 3 Accuracy: 6.10%\n",
      "\n",
      "Evaluating Client 4\n",
      "Client 4 Accuracy: 2.79%\n",
      "Total Accuracy: 14.70%\n",
      "Round 3 Accuracy: 14.7000\n"
     ]
    }
   ],
   "source": [
    "num_clients = 5\n",
    "rounds = 3\n",
    "epochs = 20\n",
    "lr = 0.01\n",
    "mu = 0.001\n",
    "\n",
    "# Run federated SCAFFOLD with 0.1 Dirichlet and plot accuracy per round\n",
    "def run_scaffold():\n",
    "    # Partition data with a Dirichlet alpha of 0.1\n",
    "    train_loaders, test_loaders,_,_ = partition_data(train_images / 255, train_labels, test_images / 255, test_labels, num_clients, 0.1, batch_size=128)\n",
    "    global_model_scaffold = SimpleCNN()\n",
    "    round_accuracies = federated_scaffold_modified(global_model_scaffold, train_loaders, test_loaders, num_clients, rounds, epochs, local_lr=lr)\n",
    "    return round_accuracies\n",
    "\n",
    "# Run SCAFFOLD and get accuracy per round\n",
    "scaffold_accuracies = run_scaffold()"
   ]
  },
  {
   "cell_type": "code",
   "execution_count": null,
   "metadata": {
    "id": "-xc8TO75Q59O",
    "outputId": "ba04117f-9e0d-41e8-f347-0aa084c1711a"
   },
   "outputs": [
    {
     "data": {
      "image/png": "[encoded data removed]",
      "text/plain": [
       "<Figure size 640x480 with 1 Axes>"
      ]
     },
     "metadata": {},
     "output_type": "display_data"
    }
   ],
   "source": [
    "plt.figure()\n",
    "plt.plot(range(1, rounds + 1), scaffold_accuracies, marker='o', label='SCAFFOLD Alpha = 0.1')\n",
    "plt.xlabel('Rounds')\n",
    "plt.ylabel('Accuracy (%)')\n",
    "plt.title('SCAFFOLD Accuracy per Round (Dirichlet Alpha = 0.1)')\n",
    "plt.legend()\n",
    "plt.show()"
   ]
  },
  {
   "cell_type": "markdown",
   "metadata": {
    "id": "4OjX0amuPtUy"
   },
   "source": [
    "#### Theoretical Part Answers:"
   ]
  },
  {
   "cell_type": "markdown",
   "metadata": {
    "id": "YZ6X6zgXPtUy"
   },
   "source": [
    "Suppose someone modified the SCAFFOLD algorithm so that, at the start of each communication round, each\n",
    "client sets its local control variate ci equal to the global control variate c received from the server (i.e., ci = c),\n",
    "instead of maintaining a client-specific ci across rounds. How would this modified version of SCAFFOLD compare\n",
    "to FedAvg?\n",
    "\n",
    "Based on the modifications suggested I believe the following will happen,\n",
    "\n",
    "Since the global and the local control variates are the same, the equation for adjusting the model parameters becomes,\n",
    "\n",
    "$$\n",
    "w_i \\leftarrow w_i - \\eta \\left(g_i(w_i) + c - c\\right)\n",
    "$$\n",
    "\n",
    "We can see that this reduces to the equation for gradient descent as follows,\n",
    "\n",
    "$$\n",
    "w_i \\leftarrow w_i - \\eta \\left(g_i(w_i)\\right)\n",
    "$$\n",
    "\n",
    "Now since the variates are the same after the local epochs the control variate update equation at the client reduces to,\n",
    "\n",
    "$$\n",
    "c^{+}_i \\leftarrow \\frac{1}{K\\eta} (w_G - w_i)\n",
    "$$\n",
    "\n",
    "Examining the equations this reveals that the training loop is esentially gradient descent which is the same as that of FedAVG.\n",
    "\n",
    "The only difference that is visible is the update of local client variate which is essentially updated based on a scaled difference between the intitial global model and the updated local model.\n",
    "\n",
    "The following describes what these modifications acheive:\n",
    "\n",
    "Reduction of Client Drift: In the original SCAFFOLD algorithm, $c^{+}_i$ helps counteract the client drift caused by non-IID data distributions. However, in the modified version, where $c_i = c$ this correction loses its client-specific nature.\n",
    "\n",
    "Scaling of Updates: The update still scales the discrepancy between $w_i$ and $w_G$, but this becomes more of a global adjustment rather than a personalized correction.\n"
   ]
  },
  {
   "cell_type": "markdown",
   "metadata": {
    "id": "l1IPbUVZK-79"
   },
   "source": [
    "# Task 4: Gradient Harmonization"
   ]
  },
  {
   "cell_type": "markdown",
   "metadata": {
    "id": "m2eP_rIJK-79"
   },
   "source": [
    "In this task, you will examine how heterogeneity influences the gradient updates sent by each client. Specifically, you will analyze and quantify gradient conflicts at varying levels of heterogeneity.\n",
    "\n",
    "First, implement the FedAvg code (You can reuse your task 2 implementation) and integrate the provided conflict-counting function at the end of each round to measure the number of conflicts in different heterogeneous settings.\n",
    "\n",
    "Next, implement the Gradient Harmonization algorithm to harmonize conflicting gradients.\n",
    "\n",
    "Finally, evaluate the performance of the harmonized gradients under a 0.1 Dirichlet scenario, and compare the number of conflicts before and after harmonization."
   ]
  },
  {
   "cell_type": "code",
   "execution_count": null,
   "metadata": {
    "id": "YpojmrHwK-7-"
   },
   "outputs": [],
   "source": [
    "import builtins\n",
    "sum = builtins.sum\n",
    "\n",
    "def cosine_similarity(vec1, vec2):\n",
    "    return torch.dot(vec1, vec2) / (torch.norm(vec1) * torch.norm(vec2))\n",
    "\n",
    "def gradient_conflict_counter(client_updates):\n",
    "    total_conflicts = 0  # Variable to store the total conflicts across all layers\n",
    "    num_clients = len(client_updates)\n",
    "\n",
    "    # Iterate over each layer (key) in the client updates\n",
    "    for layer_name in client_updates[0].keys():\n",
    "        # Collect vectors for this layer across all clients\n",
    "        layer_vectors = [client_update[layer_name].view(-1).cpu() for client_update in client_updates]\n",
    "\n",
    "        # Check pairwise cosine similarity for this layer and count conflicts\n",
    "        for i in range(num_clients):\n",
    "            for j in range(i + 1, num_clients):\n",
    "                sim = cosine_similarity(layer_vectors[i], layer_vectors[j])\n",
    "                if sim < 0:\n",
    "                    total_conflicts += 1\n",
    "\n",
    "    print(f\"Total gradient conflicts detected: {total_conflicts}\")\n",
    "    return total_conflicts\n",
    "\n",
    "# Using the same local train function from the FedAVG implementation\n",
    "def local_train(model, train_loader, epochs, lr):\n",
    "    # Move the model to the appropriate device\n",
    "    device = torch.device(\"cuda\" if torch.cuda.is_available() else \"cpu\")\n",
    "    model.to(device)\n",
    "\n",
    "    # Set the model to training mode\n",
    "    model.train()\n",
    "\n",
    "    # Initialize optimizer and loss function\n",
    "    optimizer = optim.SGD(model.parameters(), lr=lr)\n",
    "    criterion = nn.CrossEntropyLoss()\n",
    "\n",
    "    # Initialize overall parameter updates as zeros\n",
    "    initial_params = {name: param.clone() for name, param in model.state_dict().items()}\n",
    "    overall_update = {name: torch.zeros_like(param) for name, param in model.state_dict().items()}\n",
    "\n",
    "    # Perform local training\n",
    "    for epoch in range(epochs):\n",
    "        for images, labels in train_loader:\n",
    "            images, labels = images.to(device), labels.to(device)\n",
    "\n",
    "            # Forward pass\n",
    "            outputs = model(images)\n",
    "            loss = criterion(outputs, labels)\n",
    "\n",
    "            # Backward pass\n",
    "            optimizer.zero_grad()\n",
    "            loss.backward()\n",
    "            optimizer.step()\n",
    "\n",
    "    # Compute the overall parameter updates\n",
    "    for name, param in model.state_dict().items():\n",
    "        overall_update[name] = param - initial_params[name]\n",
    "\n",
    "    return overall_update\n",
    "\n",
    "def Federated_gradient_conflict(global_model, train_loaders, num_clients, rounds, epochs, lr, test_loaders):\n",
    "    round_avg_updates = []\n",
    "    round_accuracies = []\n",
    "    conflict_counts = []\n",
    "    # To Do\n",
    "    for round_num in range(rounds):\n",
    "        print(f\"\\nRound {round_num + 1}/{rounds}\")\n",
    "        client_updates = []\n",
    "\n",
    "        # Send the global model to all clients for local training\n",
    "        for client_id, train_loader in enumerate(train_loaders):\n",
    "            print(f\"Training on Client {client_id}\")\n",
    "\n",
    "            # Clone the global model for local training\n",
    "            local_model = SimpleCNN()\n",
    "            local_model.load_state_dict(global_model.state_dict())\n",
    "\n",
    "            # Perform local training\n",
    "            client_update = local_train(local_model, train_loader, epochs, lr)\n",
    "\n",
    "            # Collect the client's update\n",
    "            client_updates.append(client_update)\n",
    "\n",
    "        # Count gradient conflicts before averaging the updates\n",
    "        total_conflicts = gradient_conflict_counter(client_updates)\n",
    "        conflict_counts.append(total_conflicts)\n",
    "\n",
    "        # Average client updates to update the global model\n",
    "        global_update = {name: torch.zeros_like(param) for name, param in global_model.state_dict().items()}\n",
    "        for client_update in client_updates:\n",
    "            for name, update in client_update.items():\n",
    "                global_update[name] += update / num_clients\n",
    "\n",
    "        # Apply the averaged updates to the global model\n",
    "        updated_state_dict = global_model.state_dict()\n",
    "        for name, param in updated_state_dict.items():\n",
    "            updated_state_dict[name] += global_update[name]\n",
    "        global_model.load_state_dict(updated_state_dict)\n",
    "\n",
    "        # Store average updates for analysis\n",
    "        round_avg_updates.append(global_update)\n",
    "\n",
    "        # Evaluate the global model after this round\n",
    "        _, total_accuracy = evaluate_model(global_model, test_loaders)\n",
    "        round_accuracies.append(total_accuracy)\n",
    "\n",
    "        print(f\"Round {round_num + 1} Accuracy: {total_accuracy:.4f}\")\n",
    "        print(f\"Round {round_num + 1} Conflicts: {total_conflicts}\")\n",
    "\n",
    "    return round_avg_updates, round_accuracies, conflict_counts"
   ]
  },
  {
   "cell_type": "code",
   "execution_count": null,
   "metadata": {
    "id": "6Ov1OJ2NK-7-",
    "outputId": "3450962c-8e27-466f-9175-eb33141bcb43"
   },
   "outputs": [
    {
     "name": "stdout",
     "output_type": "stream",
     "text": [
      "\n",
      "Round 1/3\n",
      "Training on Client 0\n",
      "Training on Client 1\n",
      "Training on Client 2\n",
      "Training on Client 3\n",
      "Training on Client 4\n",
      "Total gradient conflicts detected: 10\n",
      "\n",
      "Evaluating Client 0\n",
      "Client 0 Accuracy: 38.17%\n",
      "\n",
      "Evaluating Client 1\n",
      "Client 1 Accuracy: 24.36%\n",
      "\n",
      "Evaluating Client 2\n",
      "Client 2 Accuracy: 40.82%\n",
      "\n",
      "Evaluating Client 3\n",
      "Client 3 Accuracy: 26.13%\n",
      "\n",
      "Evaluating Client 4\n",
      "Client 4 Accuracy: 33.12%\n",
      "Total Accuracy: 31.69%\n",
      "Round 1 Accuracy: 31.6917\n",
      "Round 1 Conflicts: 10\n",
      "\n",
      "Round 2/3\n",
      "Training on Client 0\n",
      "Training on Client 1\n",
      "Training on Client 2\n",
      "Training on Client 3\n",
      "Training on Client 4\n",
      "Total gradient conflicts detected: 2\n",
      "\n",
      "Evaluating Client 0\n",
      "Client 0 Accuracy: 57.12%\n",
      "\n",
      "Evaluating Client 1\n",
      "Client 1 Accuracy: 44.93%\n",
      "\n",
      "Evaluating Client 2\n",
      "Client 2 Accuracy: 46.77%\n",
      "\n",
      "Evaluating Client 3\n",
      "Client 3 Accuracy: 41.91%\n",
      "\n",
      "Evaluating Client 4\n",
      "Client 4 Accuracy: 45.77%\n",
      "Total Accuracy: 46.82%\n",
      "Round 2 Accuracy: 46.8167\n",
      "Round 2 Conflicts: 2\n",
      "\n",
      "Round 3/3\n",
      "Training on Client 0\n",
      "Training on Client 1\n",
      "Training on Client 2\n",
      "Training on Client 3\n",
      "Training on Client 4\n",
      "Total gradient conflicts detected: 0\n",
      "\n",
      "Evaluating Client 0\n",
      "Client 0 Accuracy: 76.98%\n",
      "\n",
      "Evaluating Client 1\n",
      "Client 1 Accuracy: 61.24%\n",
      "\n",
      "Evaluating Client 2\n",
      "Client 2 Accuracy: 65.78%\n",
      "\n",
      "Evaluating Client 3\n",
      "Client 3 Accuracy: 74.67%\n",
      "\n",
      "Evaluating Client 4\n",
      "Client 4 Accuracy: 68.97%\n",
      "Total Accuracy: 69.12%\n",
      "Round 3 Accuracy: 69.1167\n",
      "Round 3 Conflicts: 0\n",
      "\n",
      "Round 1/3\n",
      "Training on Client 0\n",
      "Training on Client 1\n",
      "Training on Client 2\n",
      "Training on Client 3\n",
      "Training on Client 4\n",
      "Total gradient conflicts detected: 13\n",
      "\n",
      "Evaluating Client 0\n",
      "Client 0 Accuracy: 18.85%\n",
      "\n",
      "Evaluating Client 1\n",
      "Client 1 Accuracy: 8.79%\n",
      "\n",
      "Evaluating Client 2\n",
      "Client 2 Accuracy: 5.37%\n",
      "\n",
      "Evaluating Client 3\n",
      "Client 3 Accuracy: 7.58%\n",
      "\n",
      "Evaluating Client 4\n",
      "Client 4 Accuracy: 14.72%\n",
      "Total Accuracy: 9.56%\n",
      "Round 1 Accuracy: 9.5583\n",
      "Round 1 Conflicts: 13\n",
      "\n",
      "Round 2/3\n",
      "Training on Client 0\n",
      "Training on Client 1\n",
      "Training on Client 2\n",
      "Training on Client 3\n",
      "Training on Client 4\n",
      "Total gradient conflicts detected: 13\n",
      "\n",
      "Evaluating Client 0\n",
      "Client 0 Accuracy: 33.14%\n",
      "\n",
      "Evaluating Client 1\n",
      "Client 1 Accuracy: 21.41%\n",
      "\n",
      "Evaluating Client 2\n",
      "Client 2 Accuracy: 10.02%\n",
      "\n",
      "Evaluating Client 3\n",
      "Client 3 Accuracy: 18.25%\n",
      "\n",
      "Evaluating Client 4\n",
      "Client 4 Accuracy: 27.82%\n",
      "Total Accuracy: 19.53%\n",
      "Round 2 Accuracy: 19.5333\n",
      "Round 2 Conflicts: 13\n",
      "\n",
      "Round 3/3\n",
      "Training on Client 0\n",
      "Training on Client 1\n",
      "Training on Client 2\n",
      "Training on Client 3\n",
      "Training on Client 4\n",
      "Total gradient conflicts detected: 7\n",
      "\n",
      "Evaluating Client 0\n",
      "Client 0 Accuracy: 62.20%\n",
      "\n",
      "Evaluating Client 1\n",
      "Client 1 Accuracy: 35.15%\n",
      "\n",
      "Evaluating Client 2\n",
      "Client 2 Accuracy: 29.44%\n",
      "\n",
      "Evaluating Client 3\n",
      "Client 3 Accuracy: 41.66%\n",
      "\n",
      "Evaluating Client 4\n",
      "Client 4 Accuracy: 49.24%\n",
      "Total Accuracy: 39.58%\n",
      "Round 3 Accuracy: 39.5833\n",
      "Round 3 Conflicts: 7\n",
      "\n",
      "Round 1/3\n",
      "Training on Client 0\n",
      "Training on Client 1\n",
      "Training on Client 2\n",
      "Training on Client 3\n",
      "Training on Client 4\n",
      "Total gradient conflicts detected: 23\n",
      "\n",
      "Evaluating Client 0\n",
      "Client 0 Accuracy: 21.94%\n",
      "\n",
      "Evaluating Client 1\n",
      "Client 1 Accuracy: 8.17%\n",
      "\n",
      "Evaluating Client 2\n",
      "Client 2 Accuracy: 4.40%\n",
      "\n",
      "Evaluating Client 3\n",
      "Client 3 Accuracy: 0.00%\n",
      "\n",
      "Evaluating Client 4\n",
      "Client 4 Accuracy: 0.09%\n",
      "Total Accuracy: 9.56%\n",
      "Round 1 Accuracy: 9.5583\n",
      "Round 1 Conflicts: 23\n",
      "\n",
      "Round 2/3\n",
      "Training on Client 0\n",
      "Training on Client 1\n",
      "Training on Client 2\n",
      "Training on Client 3\n",
      "Training on Client 4\n",
      "Total gradient conflicts detected: 26\n",
      "\n",
      "Evaluating Client 0\n",
      "Client 0 Accuracy: 22.01%\n",
      "\n",
      "Evaluating Client 1\n",
      "Client 1 Accuracy: 17.37%\n",
      "\n",
      "Evaluating Client 2\n",
      "Client 2 Accuracy: 4.40%\n",
      "\n",
      "Evaluating Client 3\n",
      "Client 3 Accuracy: 4.47%\n",
      "\n",
      "Evaluating Client 4\n",
      "Client 4 Accuracy: 24.80%\n",
      "Total Accuracy: 15.68%\n",
      "Round 2 Accuracy: 15.6833\n",
      "Round 2 Conflicts: 26\n",
      "\n",
      "Round 3/3\n",
      "Training on Client 0\n",
      "Training on Client 1\n",
      "Training on Client 2\n",
      "Training on Client 3\n",
      "Training on Client 4\n",
      "Total gradient conflicts detected: 21\n",
      "\n",
      "Evaluating Client 0\n",
      "Client 0 Accuracy: 47.08%\n",
      "\n",
      "Evaluating Client 1\n",
      "Client 1 Accuracy: 30.06%\n",
      "\n",
      "Evaluating Client 2\n",
      "Client 2 Accuracy: 4.99%\n",
      "\n",
      "Evaluating Client 3\n",
      "Client 3 Accuracy: 50.69%\n",
      "\n",
      "Evaluating Client 4\n",
      "Client 4 Accuracy: 51.84%\n",
      "Total Accuracy: 33.11%\n",
      "Round 3 Accuracy: 33.1083\n",
      "Round 3 Conflicts: 21\n"
     ]
    }
   ],
   "source": [
    "# Parameters\n",
    "num_clients = 5\n",
    "batch_size = 128\n",
    "rounds = 3\n",
    "epochs = 20\n",
    "lr = 0.001\n",
    "dirichlet_alphas = [2, 0.5, 0.1]\n",
    "\n",
    "def run_fedconflict(alpha):\n",
    "    train_loaders, test_loaders,_,_ = partition_data(train_images / 255, train_labels, test_images / 255, test_labels, num_clients, alpha, batch_size)\n",
    "    global_model_fedavg = SimpleCNN()\n",
    "    _, round_accuracies,conflict_counts = Federated_gradient_conflict(global_model_fedavg, train_loaders, num_clients, rounds=rounds, epochs=epochs, lr=lr, test_loaders=test_loaders)\n",
    "    return round_accuracies, conflict_counts\n",
    "\n",
    "accuracies_per_alpha = []\n",
    "conflicts_per_alpha = []\n",
    "\n",
    "for alpha in dirichlet_alphas:\n",
    "    round_accuracies, conflict_counts = run_fedconflict(alpha)\n",
    "    accuracies_per_alpha.append(round_accuracies)\n",
    "    conflicts_per_alpha.append(conflict_counts)\n",
    "\n"
   ]
  },
  {
   "cell_type": "code",
   "execution_count": null,
   "metadata": {
    "id": "3BHXH3bhK-7-",
    "outputId": "768776d2-f54c-4850-f5de-5501b1e53501"
   },
   "outputs": [
    {
     "data": {
      "image/png": "[encoded data removed]",
      "text/plain": [
       "<Figure size 1000x600 with 1 Axes>"
      ]
     },
     "metadata": {},
     "output_type": "display_data"
    }
   ],
   "source": [
    "plt.figure(figsize=(10, 6))\n",
    "\n",
    "for i, alpha in enumerate(dirichlet_alphas):\n",
    "    plt.plot(range(1, rounds + 1), conflicts_per_alpha[i], marker='o', label=f'Alpha = {alpha}')\n",
    "\n",
    "plt.xlabel(\"Rounds\")\n",
    "plt.ylabel(\"Number of Gradient Conflicts\")\n",
    "plt.title(\"Gradient Conflicts Across Rounds for Different Heterogeneity Levels (Dirichlet Alphas)\")\n",
    "plt.legend(title=\"Heterogeneity Level (Alpha)\")\n",
    "plt.grid(axis=\"y\", linestyle=\"--\", alpha=0.7)\n",
    "\n",
    "plt.show()"
   ]
  },
  {
   "cell_type": "code",
   "execution_count": null,
   "metadata": {
    "id": "1Hejx1UbUtuH"
   },
   "outputs": [],
   "source": [
    "def gradient_harmonization(client_updates):\n",
    "    # To Do\n",
    "    # Iterate over each layer in the model\n",
    "    for layer_name in client_updates[0].keys():\n",
    "        # Collect all client gradients for this layer\n",
    "        layer_gradients = [client_update[layer_name].view(-1).cpu() for client_update in client_updates]\n",
    "        num_clients = len(layer_gradients)\n",
    "\n",
    "        # Harmonize gradients to resolve conflicts\n",
    "        for i in range(num_clients):\n",
    "            for j in range(i + 1, num_clients):\n",
    "                g_i = layer_gradients[i]\n",
    "                g_j = layer_gradients[j]\n",
    "                similarity = cosine_similarity(g_i, g_j)\n",
    "\n",
    "                if similarity < 0:  # Conflict detected\n",
    "                    # Project gradients onto each other's orthogonal plane\n",
    "                    g_i -= (torch.dot(g_i, g_j) / torch.norm(g_j) ** 2) * g_j\n",
    "                    g_j -= (torch.dot(g_j, g_i) / torch.norm(g_i) ** 2) * g_i\n",
    "\n",
    "                    # Update the original client_updates\n",
    "                    client_updates[i][layer_name] = g_i.view_as(client_updates[i][layer_name])\n",
    "                    client_updates[j][layer_name] = g_j.view_as(client_updates[j][layer_name])\n",
    "\n",
    "    return client_updates\n",
    "\n",
    "def Federated_gradient_harmonization(global_model, train_loaders, num_clients, rounds, epochs, lr, test_loaders):\n",
    "    round_accuracies = []  # List to store total accuracy after each round\n",
    "    pre_harmonization_conflicts = []  # List to store conflicts before harmonization\n",
    "    post_harmonization_conflicts = []  # List to store conflicts after harmonization\n",
    "    # To Do\n",
    "    for round_num in range(rounds):\n",
    "        print(f\"\\nRound {round_num + 1}/{rounds}\")\n",
    "        client_updates = []\n",
    "\n",
    "        # Train on each client and collect updates\n",
    "        for client_id, train_loader in enumerate(train_loaders):\n",
    "            print(f\"Training on Client {client_id}\")\n",
    "\n",
    "            local_model = SimpleCNN()\n",
    "            local_model.load_state_dict(global_model.state_dict())\n",
    "\n",
    "            # Perform local training\n",
    "            client_update = local_train(local_model, train_loader, epochs, lr)\n",
    "            client_updates.append(client_update)\n",
    "\n",
    "        # Measure conflicts before harmonization\n",
    "        pre_conflicts = gradient_conflict_counter(client_updates)\n",
    "        pre_harmonization_conflicts.append(pre_conflicts)\n",
    "\n",
    "        # Harmonize gradients\n",
    "        harmonized_updates = gradient_harmonization(client_updates)\n",
    "\n",
    "        # Measure conflicts after harmonization\n",
    "        post_conflicts = gradient_conflict_counter(harmonized_updates)\n",
    "        post_harmonization_conflicts.append(post_conflicts)\n",
    "\n",
    "        # Aggregate harmonized gradients to update the global model\n",
    "        global_update = {name: torch.zeros_like(param) for name, param in global_model.state_dict().items()}\n",
    "        for client_update in harmonized_updates:\n",
    "            for name, update in client_update.items():\n",
    "                global_update[name] += update / num_clients\n",
    "\n",
    "        # Apply aggregated updates to the global model\n",
    "        updated_state_dict = global_model.state_dict()\n",
    "        for name, param in updated_state_dict.items():\n",
    "            updated_state_dict[name] += global_update[name]\n",
    "        global_model.load_state_dict(updated_state_dict)\n",
    "\n",
    "        # Evaluate the global model after this round\n",
    "        _, total_accuracy = evaluate_model(global_model, test_loaders)\n",
    "        round_accuracies.append(total_accuracy)\n",
    "\n",
    "        print(f\"Round {round_num + 1} Accuracy: {total_accuracy:.4f}\")\n",
    "        print(f\"Conflicts: Pre-Harmonization {pre_conflicts}, Post-Harmonization {post_conflicts}\")\n",
    "\n",
    "    return round_accuracies, pre_harmonization_conflicts, post_harmonization_conflicts\n"
   ]
  },
  {
   "cell_type": "code",
   "execution_count": null,
   "metadata": {
    "id": "uhF6jgCKK-8A",
    "outputId": "7bfcc701-517f-47e2-d571-cde87692c3a6"
   },
   "outputs": [
    {
     "name": "stdout",
     "output_type": "stream",
     "text": [
      "\n",
      "Round 1/3\n",
      "Training on Client 0\n",
      "Training on Client 1\n",
      "Training on Client 2\n",
      "Training on Client 3\n",
      "Training on Client 4\n",
      "Total gradient conflicts detected: 19\n",
      "Total gradient conflicts detected: 9\n",
      "\n",
      "Evaluating Client 0\n",
      "Client 0 Accuracy: 12.86%\n",
      "\n",
      "Evaluating Client 1\n",
      "Client 1 Accuracy: 13.76%\n",
      "\n",
      "Evaluating Client 2\n",
      "Client 2 Accuracy: 0.00%\n",
      "\n",
      "Evaluating Client 3\n",
      "Client 3 Accuracy: 76.85%\n",
      "\n",
      "Evaluating Client 4\n",
      "Client 4 Accuracy: 12.72%\n",
      "Total Accuracy: 16.80%\n",
      "Round 1 Accuracy: 16.8000\n",
      "Conflicts: Pre-Harmonization 19, Post-Harmonization 9\n",
      "\n",
      "Round 2/3\n",
      "Training on Client 0\n",
      "Training on Client 1\n",
      "Training on Client 2\n",
      "Training on Client 3\n",
      "Training on Client 4\n",
      "Total gradient conflicts detected: 25\n",
      "Total gradient conflicts detected: 9\n",
      "\n",
      "Evaluating Client 0\n",
      "Client 0 Accuracy: 57.10%\n",
      "\n",
      "Evaluating Client 1\n",
      "Client 1 Accuracy: 8.34%\n",
      "\n",
      "Evaluating Client 2\n",
      "Client 2 Accuracy: 7.37%\n",
      "\n",
      "Evaluating Client 3\n",
      "Client 3 Accuracy: 42.44%\n",
      "\n",
      "Evaluating Client 4\n",
      "Client 4 Accuracy: 19.67%\n",
      "Total Accuracy: 22.95%\n",
      "Round 2 Accuracy: 22.9500\n",
      "Conflicts: Pre-Harmonization 25, Post-Harmonization 9\n",
      "\n",
      "Round 3/3\n",
      "Training on Client 0\n",
      "Training on Client 1\n",
      "Training on Client 2\n",
      "Training on Client 3\n",
      "Training on Client 4\n",
      "Total gradient conflicts detected: 25\n",
      "Total gradient conflicts detected: 10\n",
      "\n",
      "Evaluating Client 0\n",
      "Client 0 Accuracy: 88.72%\n",
      "\n",
      "Evaluating Client 1\n",
      "Client 1 Accuracy: 34.13%\n",
      "\n",
      "Evaluating Client 2\n",
      "Client 2 Accuracy: 23.77%\n",
      "\n",
      "Evaluating Client 3\n",
      "Client 3 Accuracy: 54.70%\n",
      "\n",
      "Evaluating Client 4\n",
      "Client 4 Accuracy: 37.48%\n",
      "Total Accuracy: 44.20%\n",
      "Round 3 Accuracy: 44.2000\n",
      "Conflicts: Pre-Harmonization 25, Post-Harmonization 10\n"
     ]
    }
   ],
   "source": [
    "# Parameters\n",
    "num_clients = 5\n",
    "batch_size = 128\n",
    "rounds = 3\n",
    "epochs = 20\n",
    "lr = 0.001\n",
    "alpha = 0.1\n",
    "\n",
    "# Run federated gradient harmonization\n",
    "train_loaders, test_loaders, _, _ = partition_data(\n",
    "    train_images / 255, train_labels, test_images / 255, test_labels, num_clients, alpha, batch_size\n",
    ")\n",
    "global_model_fedavg = SimpleCNN()\n",
    "round_accuracies, pre_harmonization_conflicts, post_harmonization_conflicts = Federated_gradient_harmonization(\n",
    "    global_model_fedavg, train_loaders, num_clients, rounds=rounds, epochs=epochs, lr=lr, test_loaders=test_loaders\n",
    ")"
   ]
  },
  {
   "cell_type": "code",
   "execution_count": null,
   "metadata": {
    "id": "AdBn4F6LK-8A",
    "outputId": "72c5de78-dd6d-46f1-fcb4-a1c5cdee842b"
   },
   "outputs": [
    {
     "data": {
      "image/png": "[encoded data removed]",
      "text/plain": [
       "<Figure size 1200x500 with 2 Axes>"
      ]
     },
     "metadata": {},
     "output_type": "display_data"
    }
   ],
   "source": [
    "plt.figure(figsize=(12, 5))\n",
    "\n",
    "plt.subplot(1, 2, 1)\n",
    "plt.plot(range(1, rounds + 1), pre_harmonization_conflicts, marker='o', linestyle='-', label='Conflicts Before Harmonization')\n",
    "plt.plot(range(1, rounds + 1), post_harmonization_conflicts, marker='x', linestyle='--', label='Conflicts After Harmonization')\n",
    "plt.xlabel(\"Rounds\")\n",
    "plt.ylabel(\"Number of Gradient Conflicts\")\n",
    "plt.title(\"Gradient Conflicts Across Rounds (Alpha = 0.1)\")\n",
    "plt.legend()\n",
    "plt.grid(axis=\"y\", linestyle=\"--\", alpha=0.7)\n",
    "\n",
    "plt.subplot(1, 2, 2)\n",
    "plt.plot(range(1, rounds + 1), round_accuracies, marker='s', color='b')\n",
    "plt.xlabel(\"Rounds\")\n",
    "plt.ylabel(\"Accuracy (%)\")\n",
    "plt.title(\"Model Accuracy Across Rounds (Alpha = 0.1)\")\n",
    "plt.grid(axis=\"y\", linestyle=\"--\", alpha=0.7)\n",
    "\n",
    "plt.tight_layout()\n",
    "plt.show()\n"
   ]
  },
  {
   "cell_type": "code",
   "execution_count": null,
   "metadata": {
    "id": "uBnTyKcMPtUz",
    "outputId": "ef73135b-5d2c-447c-b252-d8f00853eab2"
   },
   "outputs": [
    {
     "name": "stdout",
     "output_type": "stream",
     "text": [
      "\n",
      "Running FedGH with Dirichlet Alpha = 2\n",
      "\n",
      "Round 1/3\n",
      "Training on Client 0\n",
      "Training on Client 1\n",
      "Training on Client 2\n",
      "Training on Client 3\n",
      "Training on Client 4\n",
      "Total gradient conflicts detected: 11\n",
      "Total gradient conflicts detected: 4\n",
      "\n",
      "Evaluating Client 0\n",
      "Client 0 Accuracy: 23.59%\n",
      "\n",
      "Evaluating Client 1\n",
      "Client 1 Accuracy: 23.23%\n",
      "\n",
      "Evaluating Client 2\n",
      "Client 2 Accuracy: 29.23%\n",
      "\n",
      "Evaluating Client 3\n",
      "Client 3 Accuracy: 36.64%\n",
      "\n",
      "Evaluating Client 4\n",
      "Client 4 Accuracy: 45.92%\n",
      "Total Accuracy: 31.61%\n",
      "Round 1 Accuracy: 31.6083\n",
      "Conflicts: Pre-Harmonization 11, Post-Harmonization 4\n",
      "\n",
      "Round 2/3\n",
      "Training on Client 0\n",
      "Training on Client 1\n",
      "Training on Client 2\n",
      "Training on Client 3\n",
      "Training on Client 4\n",
      "Total gradient conflicts detected: 0\n",
      "Total gradient conflicts detected: 0\n",
      "\n",
      "Evaluating Client 0\n",
      "Client 0 Accuracy: 54.09%\n",
      "\n",
      "Evaluating Client 1\n",
      "Client 1 Accuracy: 69.85%\n",
      "\n",
      "Evaluating Client 2\n",
      "Client 2 Accuracy: 57.66%\n",
      "\n",
      "Evaluating Client 3\n",
      "Client 3 Accuracy: 57.62%\n",
      "\n",
      "Evaluating Client 4\n",
      "Client 4 Accuracy: 59.54%\n",
      "Total Accuracy: 59.80%\n",
      "Round 2 Accuracy: 59.8000\n",
      "Conflicts: Pre-Harmonization 0, Post-Harmonization 0\n",
      "\n",
      "Round 3/3\n",
      "Training on Client 0\n",
      "Training on Client 1\n",
      "Training on Client 2\n",
      "Training on Client 3\n",
      "Training on Client 4\n",
      "Total gradient conflicts detected: 0\n",
      "Total gradient conflicts detected: 0\n",
      "\n",
      "Evaluating Client 0\n",
      "Client 0 Accuracy: 66.67%\n",
      "\n",
      "Evaluating Client 1\n",
      "Client 1 Accuracy: 74.84%\n",
      "\n",
      "Evaluating Client 2\n",
      "Client 2 Accuracy: 67.73%\n",
      "\n",
      "Evaluating Client 3\n",
      "Client 3 Accuracy: 69.85%\n",
      "\n",
      "Evaluating Client 4\n",
      "Client 4 Accuracy: 69.59%\n",
      "Total Accuracy: 69.83%\n",
      "Round 3 Accuracy: 69.8333\n",
      "Conflicts: Pre-Harmonization 0, Post-Harmonization 0\n",
      "\n",
      "Running FedGH with Dirichlet Alpha = 0.5\n",
      "\n",
      "Round 1/3\n",
      "Training on Client 0\n",
      "Training on Client 1\n",
      "Training on Client 2\n",
      "Training on Client 3\n",
      "Training on Client 4\n",
      "Total gradient conflicts detected: 12\n",
      "Total gradient conflicts detected: 4\n",
      "\n",
      "Evaluating Client 0\n",
      "Client 0 Accuracy: 18.57%\n",
      "\n",
      "Evaluating Client 1\n",
      "Client 1 Accuracy: 18.87%\n",
      "\n",
      "Evaluating Client 2\n",
      "Client 2 Accuracy: 25.47%\n",
      "\n",
      "Evaluating Client 3\n",
      "Client 3 Accuracy: 25.92%\n",
      "\n",
      "Evaluating Client 4\n",
      "Client 4 Accuracy: 25.75%\n",
      "Total Accuracy: 22.53%\n",
      "Round 1 Accuracy: 22.5250\n",
      "Conflicts: Pre-Harmonization 12, Post-Harmonization 4\n",
      "\n",
      "Round 2/3\n",
      "Training on Client 0\n",
      "Training on Client 1\n",
      "Training on Client 2\n",
      "Training on Client 3\n",
      "Training on Client 4\n",
      "Total gradient conflicts detected: 14\n",
      "Total gradient conflicts detected: 7\n",
      "\n",
      "Evaluating Client 0\n",
      "Client 0 Accuracy: 41.90%\n",
      "\n",
      "Evaluating Client 1\n",
      "Client 1 Accuracy: 37.88%\n",
      "\n",
      "Evaluating Client 2\n",
      "Client 2 Accuracy: 55.86%\n",
      "\n",
      "Evaluating Client 3\n",
      "Client 3 Accuracy: 48.15%\n",
      "\n",
      "Evaluating Client 4\n",
      "Client 4 Accuracy: 38.01%\n",
      "Total Accuracy: 44.84%\n",
      "Round 2 Accuracy: 44.8417\n",
      "Conflicts: Pre-Harmonization 14, Post-Harmonization 7\n",
      "\n",
      "Round 3/3\n",
      "Training on Client 0\n",
      "Training on Client 1\n",
      "Training on Client 2\n",
      "Training on Client 3\n",
      "Training on Client 4\n",
      "Total gradient conflicts detected: 6\n",
      "Total gradient conflicts detected: 2\n",
      "\n",
      "Evaluating Client 0\n",
      "Client 0 Accuracy: 60.28%\n",
      "\n",
      "Evaluating Client 1\n",
      "Client 1 Accuracy: 62.18%\n",
      "\n",
      "Evaluating Client 2\n",
      "Client 2 Accuracy: 73.68%\n",
      "\n",
      "Evaluating Client 3\n",
      "Client 3 Accuracy: 74.83%\n",
      "\n",
      "Evaluating Client 4\n",
      "Client 4 Accuracy: 64.39%\n",
      "Total Accuracy: 67.47%\n",
      "Round 3 Accuracy: 67.4750\n",
      "Conflicts: Pre-Harmonization 6, Post-Harmonization 2\n",
      "\n",
      "Running FedGH with Dirichlet Alpha = 0.1\n",
      "\n",
      "Round 1/3\n",
      "Training on Client 0\n",
      "Training on Client 1\n",
      "Training on Client 2\n",
      "Training on Client 3\n",
      "Training on Client 4\n",
      "Total gradient conflicts detected: 17\n",
      "Total gradient conflicts detected: 9\n",
      "\n",
      "Evaluating Client 0\n",
      "Client 0 Accuracy: 26.71%\n",
      "\n",
      "Evaluating Client 1\n",
      "Client 1 Accuracy: 19.33%\n",
      "\n",
      "Evaluating Client 2\n",
      "Client 2 Accuracy: 5.96%\n",
      "\n",
      "Evaluating Client 3\n",
      "Client 3 Accuracy: 9.50%\n",
      "\n",
      "Evaluating Client 4\n",
      "Client 4 Accuracy: 83.93%\n",
      "Total Accuracy: 18.34%\n",
      "Round 1 Accuracy: 18.3417\n",
      "Conflicts: Pre-Harmonization 17, Post-Harmonization 9\n",
      "\n",
      "Round 2/3\n",
      "Training on Client 0\n",
      "Training on Client 1\n",
      "Training on Client 2\n",
      "Training on Client 3\n",
      "Training on Client 4\n",
      "Total gradient conflicts detected: 17\n",
      "Total gradient conflicts detected: 6\n",
      "\n",
      "Evaluating Client 0\n",
      "Client 0 Accuracy: 76.92%\n",
      "\n",
      "Evaluating Client 1\n",
      "Client 1 Accuracy: 28.08%\n",
      "\n",
      "Evaluating Client 2\n",
      "Client 2 Accuracy: 6.00%\n",
      "\n",
      "Evaluating Client 3\n",
      "Client 3 Accuracy: 24.69%\n",
      "\n",
      "Evaluating Client 4\n",
      "Client 4 Accuracy: 94.09%\n",
      "Total Accuracy: 32.26%\n",
      "Round 2 Accuracy: 32.2583\n",
      "Conflicts: Pre-Harmonization 17, Post-Harmonization 6\n",
      "\n",
      "Round 3/3\n",
      "Training on Client 0\n",
      "Training on Client 1\n",
      "Training on Client 2\n",
      "Training on Client 3\n",
      "Training on Client 4\n",
      "Total gradient conflicts detected: 12\n",
      "Total gradient conflicts detected: 3\n",
      "\n",
      "Evaluating Client 0\n",
      "Client 0 Accuracy: 80.63%\n",
      "\n",
      "Evaluating Client 1\n",
      "Client 1 Accuracy: 52.41%\n",
      "\n",
      "Evaluating Client 2\n",
      "Client 2 Accuracy: 6.23%\n",
      "\n",
      "Evaluating Client 3\n",
      "Client 3 Accuracy: 36.16%\n",
      "\n",
      "Evaluating Client 4\n",
      "Client 4 Accuracy: 95.24%\n",
      "Total Accuracy: 43.25%\n",
      "Round 3 Accuracy: 43.2500\n",
      "Conflicts: Pre-Harmonization 12, Post-Harmonization 3\n"
     ]
    }
   ],
   "source": [
    "num_clients = 5\n",
    "batch_size = 128\n",
    "rounds = 3\n",
    "epochs = 20\n",
    "lr = 0.001\n",
    "dirichlet_alphas = [2, 0.5, 0.1]\n",
    "\n",
    "def run_fedconflict(alpha):\n",
    "    train_loaders, test_loaders,_,_ = partition_data(train_images / 255, train_labels, test_images / 255, test_labels, num_clients, alpha, batch_size)\n",
    "    global_model_fedGH = SimpleCNN()\n",
    "    round_accuracies, pre_harmonization_conflicts, post_harmonization_conflicts  = Federated_gradient_harmonization(global_model_fedGH, train_loaders, num_clients, rounds=rounds, epochs=epochs, lr=lr, test_loaders=test_loaders)\n",
    "    return round_accuracies, pre_harmonization_conflicts, post_harmonization_conflicts\n",
    "\n",
    "accuracies_per_alpha_fedGH = []\n",
    "conflicts_per_alpha_fedGH = []\n",
    "\n",
    "for alpha in dirichlet_alphas:\n",
    "    print(f\"\\nRunning FedGH with Dirichlet Alpha = {alpha}\")\n",
    "    round_accuracies, pre_harmonization_conflicts, post_harmonization_conflicts = run_fedconflict(alpha)\n",
    "    accuracies_per_alpha_fedGH.append(round_accuracies)\n",
    "    conflicts_per_alpha_fedGH.append((pre_harmonization_conflicts, post_harmonization_conflicts))\n"
   ]
  },
  {
   "cell_type": "code",
   "execution_count": null,
   "metadata": {
    "id": "LakdqACgPtU0",
    "outputId": "592cf72c-0d00-4287-e44e-beecad36d351"
   },
   "outputs": [
    {
     "data": {
      "image/png": "[encoded data removed]",
      "text/plain": [
       "<Figure size 1000x600 with 1 Axes>"
      ]
     },
     "metadata": {},
     "output_type": "display_data"
    }
   ],
   "source": [
    "# Plotting the pre-harmonization and post-harmonization conflicts against different alpha values on the same graph\n",
    "plt.figure(figsize=(10, 6))\n",
    "\n",
    "colors = ['b', 'g', 'r']  # Define colors for each alpha value\n",
    "\n",
    "for i, alpha in enumerate(dirichlet_alphas):\n",
    "    pre_conflicts, post_conflicts = conflicts_per_alpha_fedGH[i]\n",
    "    plt.plot(range(1, rounds + 1), pre_conflicts, marker='o', linestyle='-', color=colors[i], label=f'Alpha = {alpha} (Pre-Harmonization)')\n",
    "    plt.plot(range(1, rounds + 1), post_conflicts, marker='x', linestyle='--', color=colors[i], label=f'Alpha = {alpha} (Post-Harmonization)')\n",
    "\n",
    "plt.xlabel(\"Rounds\")\n",
    "plt.ylabel(\"Number of Gradient Conflicts\")\n",
    "plt.title(\"Gradient Conflicts Across Rounds for Different Heterogeneity Levels (Dirichlet Alphas)\")\n",
    "plt.legend(title=\"Heterogeneity Level (Alpha)\")\n",
    "plt.grid(axis=\"y\", linestyle=\"--\", alpha=0.7)\n",
    "\n",
    "plt.show()"
   ]
  },
  {
   "cell_type": "code",
   "execution_count": null,
   "metadata": {
    "id": "Kyejgz78PtU0",
    "outputId": "af06161f-d4e5-46f1-a336-22e2666daa82"
   },
   "outputs": [
    {
     "data": {
      "image/png": "[encoded data removed]",
      "text/plain": [
       "<Figure size 1000x600 with 1 Axes>"
      ]
     },
     "metadata": {},
     "output_type": "display_data"
    }
   ],
   "source": [
    "# Plotting the accuracy vs rounds for different alpha values\n",
    "plt.figure(figsize=(10, 6))\n",
    "\n",
    "for i, alpha in enumerate(dirichlet_alphas):\n",
    "    plt.plot(range(1, rounds + 1), accuracies_per_alpha_fedGH[i], marker='o', label=f'Alpha = {alpha}')\n",
    "\n",
    "plt.xlabel(\"Rounds\")\n",
    "plt.ylabel(\"Accuracy (%)\")\n",
    "plt.title(\"Model Accuracy Across Rounds for Different Heterogeneity Levels (Dirichlet Alphas)\")\n",
    "plt.legend(title=\"Heterogeneity Level (Alpha)\")\n",
    "plt.grid(axis=\"y\", linestyle=\"--\", alpha=0.7)\n",
    "\n",
    "plt.show()"
   ]
  },
  {
   "cell_type": "markdown",
   "metadata": {
    "id": "Xu4sYXvPPtU0"
   },
   "source": [
    "#### Thoertical Part Answers"
   ]
  },
  {
   "cell_type": "markdown",
   "metadata": {
    "id": "T_c1pkwYPtU0"
   },
   "source": [
    "1. Is it guaranteed that this new, harmonized gradient direction will lead to a minimization step towards the\n",
    "client’s local objective? Or could it possibly increase the local objective’s loss for some clients?\n",
    "\n",
    "No, the harmonized gradient does not guarantee a minimization step towards each client’s local objective. The primary goal of gradient harmonization is to reduce conflicts across client updates and steer the global model toward a consensus direction that balances the contributions of all clients. This may not always align with minimizing the local objective for every individual client. Since FedGH is a problem that focuses on global optimization instead of local optimization it is very likely that the local objective loss for some clients increases in order to satisfy the requirements of the global objective loss.\n",
    "\n",
    "The following are two possible explanation for why this might occur:\n",
    "\n",
    "Gradient Alteration: The projection step modifies the gradient direction for conflicting clients. This might reduce the component of the gradient that minimizes the local objective for a specific client in favor of improving alignment with other clients.\n",
    "\n",
    "Trade-off Between Clients: Federated learning involves a trade-off between optimizing individual client objectives and the global objective. By harmonizing gradients, FedGH prioritizes the global objective over local objectives, which could lead to suboptimal updates for some clients.\n",
    "\n",
    "Thus, while harmonization aims to improve overall convergence and mitigate gradient conflicts, it might increase the local loss for some clients in exchange for better global performance."
   ]
  },
  {
   "cell_type": "markdown",
   "metadata": {
    "id": "d71h0qx2PtU0"
   },
   "source": [
    "2. Consider an extreme scenario where each client’s data distribution is vastly different, causing each client to\n",
    "learn a highly unique model during local training. If all clients’ gradients are heavily conflicted, how might this\n",
    "affect the magnitude of the final harmonized gradient? Do you think it would be large, small, or unpredictable,\n",
    "and what implications might this have on the effectiveness of the global model update?\n",
    "\n",
    "In scenarios with highly non-IID data, where clients’ data distributions differ significantly, the harmonized gradient may become small or unpredictable in magnitude. The following explains reasons for this:\n",
    "\n",
    "Opposing Directions: If most client gradients conflict (i.e., they point in nearly opposite directions), the projection step will remove large components of the gradients to align them. This can result in a reduction of magnitude, as much of the conflicting information is discarded.\n",
    "\n",
    "Loss of Information: The harmonized gradient represents a compromise and may fail to capture strong signals from any individual client. This can lead to slower convergence or less effective updates to the global model.\n",
    "\n",
    "Implications for the global model:\n",
    "\n",
    "Smaller Gradient Magnitude:\n",
    "The global update may become ineffectively small, slowing down convergence.\n",
    "In extreme cases, updates could stall if the harmonization excessively suppresses gradient magnitude.\n",
    "\n",
    "Reduced Adaptability:\n",
    "In diverse datasets, the global model might fail to generalize well to all client distributions because it suppresses significant gradients from individual clients.\n",
    "\n",
    "Potential for Bias:\n",
    "Clients with gradients that align with the majority might dominate the update, while outlier clients contribute less. This could lead to a global model biased toward clients with more similar distributions."
   ]
  },
  {
   "cell_type": "markdown",
   "metadata": {
    "id": "4HmRzh9fK-8A"
   },
   "source": [
    "# Task 5: FedSam"
   ]
  },
  {
   "cell_type": "markdown",
   "metadata": {
    "id": "STFCv_gAK-8B"
   },
   "source": [
    "In this task, you will explore Sharpness-Aware Minimization (SAM) in a federated learning setting by implementing the FedSAM algorithm. As with previous tasks, evaluate its performance in a 0.1 Dirichlet heterogeneous scenario."
   ]
  },
  {
   "cell_type": "code",
   "execution_count": null,
   "metadata": {
    "id": "KeKl1sWRK-8B"
   },
   "outputs": [],
   "source": [
    "def apply_sam_perturbation(local_model, criterion, x_train, y_train, rho):\n",
    "    # To Do\n",
    "    pass\n",
    "\n",
    "def local_train_sam(model, train_loader, epochs, lr, rho=0.0001):\n",
    "    overall_update = {name: torch.zeros_like(param) for name, param in model.state_dict().items()}\n",
    "    # To do\n",
    "    return overall_update\n",
    "\n",
    "def federated_training_sam(global_model, train_loaders, test_loaders, num_clients, rounds, epochs, local_lr):\n",
    "    round_accuracies = []\n",
    "    # To Do\n",
    "    return round_accuracies"
   ]
  },
  {
   "cell_type": "code",
   "execution_count": null,
   "metadata": {
    "id": "Jra6TelpK-8B"
   },
   "outputs": [],
   "source": [
    "# Run the FedSAM experiment\n",
    "num_clients = 5\n",
    "rounds = 3\n",
    "epochs = 20\n",
    "lr = 0.001\n",
    "\n",
    "def run_fedsam():\n",
    "    # Partition data with a Dirichlet alpha of 0.1\n",
    "    train_loaders, test_loaders, _, _ = partition_data(train_images / 255, train_labels, test_images / 255, test_labels, num_clients, 0.1, batch_size)\n",
    "    global_model_sam = SimpleCNN()\n",
    "    round_accuracies = federated_training_sam(global_model_sam, train_loaders, test_loaders, num_clients, rounds, epochs, local_lr=lr)\n",
    "    return round_accuracies\n",
    "\n",
    "# Run FedSAM and get accuracy per round\n",
    "sam_accuracies = run_fedsam()\n",
    "\n"
   ]
  },
  {
   "cell_type": "code",
   "execution_count": null,
   "metadata": {
    "id": "YeI3vztqK-8G"
   },
   "outputs": [],
   "source": [
    "# Plotting accuracy per round for FedSAM with Dirichlet alpha 0.1\n",
    "plt.figure()\n",
    "plt.plot(range(1, rounds + 1), sam_accuracies, marker='o', label='FedSAM Alpha = 0.1')\n",
    "plt.xlabel('Rounds')\n",
    "plt.ylabel('Accuracy (%)')\n",
    "plt.title('FedSAM Accuracy per Round (Dirichlet Alpha = 0.1)')\n",
    "plt.legend()\n",
    "plt.show()"
   ]
  }
 ],
 "metadata": {
  "accelerator": "GPU",
  "colab": {
   "gpuType": "T4",
   "provenance": []
  },
  "kernelspec": {
   "display_name": "Python 3",
   "language": "python",
   "name": "python3"
  },
  "language_info": {
   "codemirror_mode": {
    "name": "ipython",
    "version": 3
   },
   "file_extension": ".py",
   "mimetype": "text/x-python",
   "name": "python",
   "nbconvert_exporter": "python",
   "pygments_lexer": "ipython3",
   "version": "3.12.2"
  }
 },
 "nbformat": 4,
 "nbformat_minor": 0
}
